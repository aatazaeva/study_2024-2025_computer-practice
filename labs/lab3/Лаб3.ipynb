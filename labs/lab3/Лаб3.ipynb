{
 "cells": [
  {
   "cell_type": "markdown",
   "id": "c9c09c93-af04-48e0-ac8b-a7a5828be7c2",
   "metadata": {},
   "source": [
    "# Лабораторная работа №3. Управляющие структуры"
   ]
  },
  {
   "cell_type": "markdown",
   "id": "0b152f7c-658a-4ea0-9e2d-1ecfca6fcdc4",
   "metadata": {},
   "source": [
    "## Примеры из раздела 3.2"
   ]
  },
  {
   "cell_type": "markdown",
   "id": "22136c7c-d18c-4bb7-bd37-1fd202898435",
   "metadata": {
    "jp-MarkdownHeadingCollapsed": true
   },
   "source": [
    "### Циклы for и while"
   ]
  },
  {
   "cell_type": "code",
   "execution_count": 2,
   "id": "4caffe84-2c98-463a-a78c-1e599962dec7",
   "metadata": {},
   "outputs": [
    {
     "name": "stdout",
     "output_type": "stream",
     "text": [
      "1\n",
      "2\n",
      "3\n",
      "4\n",
      "5\n",
      "6\n",
      "7\n",
      "8\n",
      "9\n",
      "10\n"
     ]
    }
   ],
   "source": [
    "# while можно использовать для формирования элементов массива\n",
    "# пока n<10 прибавить к n единицу и распечатать значение:\n",
    "n = 0\n",
    "while n < 10\n",
    "    n += 1\n",
    "    println(n)\n",
    "end\n"
   ]
  },
  {
   "cell_type": "code",
   "execution_count": 3,
   "id": "906442b3-7e81-433c-8397-e253de12e5fb",
   "metadata": {},
   "outputs": [
    {
     "name": "stdout",
     "output_type": "stream",
     "text": [
      "Hi Ted, it's great to see you!\n",
      "Hi Robyn, it's great to see you!\n",
      "Hi Barney, it's great to see you!\n",
      "Hi Lily, it's great to see you!\n",
      "Hi Marshall, it's great to see you!\n"
     ]
    }
   ],
   "source": [
    "#= Другой пример демонстрирует использование while при работе со строковыми элементами массива, подставляя имя из массива в заданную строку приветствия и выводя\n",
    "получившуюся конструкцию на экран=#\n",
    "myfriends = [\"Ted\", \"Robyn\", \"Barney\", \"Lily\", \"Marshall\"]\n",
    "i = 1\n",
    "while i <= length(myfriends)\n",
    "    friend = myfriends[i]\n",
    "    println(\"Hi $friend, it's great to see you!\")\n",
    "    i += 1\n",
    "end"
   ]
  },
  {
   "cell_type": "code",
   "execution_count": 4,
   "id": "a73ff497-788d-4326-9c49-02d770cb5ba0",
   "metadata": {},
   "outputs": [
    {
     "name": "stdout",
     "output_type": "stream",
     "text": [
      "1\n",
      "3\n",
      "5\n",
      "7\n",
      "9\n"
     ]
    }
   ],
   "source": [
    "#Рассмотренные выше примеры, но с использованием цикла for:\n",
    "for n in 1:2:10\n",
    "println(n)\n",
    "end\n"
   ]
  },
  {
   "cell_type": "code",
   "execution_count": 5,
   "id": "e1779033-9306-4824-9d1c-6951b4f7382d",
   "metadata": {},
   "outputs": [
    {
     "name": "stdout",
     "output_type": "stream",
     "text": [
      "Hi Ted, it's great to see you!\n",
      "Hi Robyn, it's great to see you!\n",
      "Hi Barney, it's great to see you!\n",
      "Hi Lily, it's great to see you!\n",
      "Hi Marshall, it's great to see you!\n"
     ]
    }
   ],
   "source": [
    "myfriends = [\"Ted\", \"Robyn\", \"Barney\", \"Lily\", \"Marshall\"]\n",
    "for friend in myfriends\n",
    "    println(\"Hi $friend, it's great to see you!\")\n",
    "end"
   ]
  },
  {
   "cell_type": "code",
   "execution_count": 10,
   "id": "377dbb0b-f77f-4218-8328-b752cba6c6ab",
   "metadata": {},
   "outputs": [
    {
     "data": {
      "text/plain": [
       "5×5 Matrix{Int64}:\n",
       " 2  3  4  5   6\n",
       " 3  4  5  6   7\n",
       " 4  5  6  7   8\n",
       " 5  6  7  8   9\n",
       " 6  7  8  9  10"
      ]
     },
     "execution_count": 10,
     "metadata": {},
     "output_type": "execute_result"
    }
   ],
   "source": [
    "#Пример использования цикла for для создания двумерного массива, в котором значение каждой записи является суммой индексов строки и столбца:\n",
    "# инициализация массива m x n из нулей:\n",
    "m, n = 5, 5\n",
    "A = fill(0, (m, n))\n",
    "# формирование массива, в котором значение каждой записи\n",
    "# является суммой индексов строки и столбца:\n",
    "for i in 1:m\n",
    "for j in 1:n\n",
    "    A[i, j] = i + j\n",
    "end\n",
    "end\n",
    "A"
   ]
  },
  {
   "cell_type": "code",
   "execution_count": 11,
   "id": "2bb11931-448d-4f72-a7aa-9b9575c6e0dd",
   "metadata": {},
   "outputs": [
    {
     "data": {
      "text/plain": [
       "5×5 Matrix{Int64}:\n",
       " 2  3  4  5   6\n",
       " 3  4  5  6   7\n",
       " 4  5  6  7   8\n",
       " 5  6  7  8   9\n",
       " 6  7  8  9  10"
      ]
     },
     "execution_count": 11,
     "metadata": {},
     "output_type": "execute_result"
    }
   ],
   "source": [
    "# Другая реализация этого же примера:\n",
    "# инициализация массива m x n из нулей:B = fill(0, (m, n))\n",
    "B = fill(0, (m, n))\n",
    "for i in 1:m, j in 1:n\n",
    "    B[i, j] = i + j\n",
    "end\n",
    "B"
   ]
  },
  {
   "cell_type": "code",
   "execution_count": 12,
   "id": "62ebf336-4dd2-4894-9ae7-61ee09456c02",
   "metadata": {},
   "outputs": [
    {
     "data": {
      "text/plain": [
       "5×5 Matrix{Int64}:\n",
       " 2  3  4  5   6\n",
       " 3  4  5  6   7\n",
       " 4  5  6  7   8\n",
       " 5  6  7  8   9\n",
       " 6  7  8  9  10"
      ]
     },
     "execution_count": 12,
     "metadata": {},
     "output_type": "execute_result"
    }
   ],
   "source": [
    "# Ещё одна реализация этого же примера:\n",
    "C = [i + j for i in 1:m, j in 1:n]\n",
    "C"
   ]
  },
  {
   "cell_type": "markdown",
   "id": "fb410cec-25e0-4729-b901-94bfbed433ea",
   "metadata": {
    "jp-MarkdownHeadingCollapsed": true
   },
   "source": [
    "### Условные выражения"
   ]
  },
  {
   "cell_type": "code",
   "execution_count": 16,
   "id": "73d6c234-d40b-4896-9162-53ace67d7e30",
   "metadata": {},
   "outputs": [
    {
     "name": "stdout",
     "output_type": "stream",
     "text": [
      "FizzBuzz\n"
     ]
    }
   ],
   "source": [
    "# Например, пусть для заданного числа 𝑁 требуется вывести слово «Fizz», если 𝑁 делится на 3, «Buzz», если 𝑁 делится на 5, и «FizzBuzz», если 𝑁 делится на 3 и 5:\n",
    "# используем `&&` для реализации операции \"AND\"\n",
    "# операция % вычисляет остаток от деления\n",
    "N = 15\n",
    "if (N % 3 == 0) && (N % 5 == 0)\n",
    "println(\"FizzBuzz\")\n",
    "elseif N % 3 == 0\n",
    "println(\"Fizz\")\n",
    "elseif N % 5 == 0\n",
    "println(\"Buzz\")\n",
    "else\n",
    "println(N)\n",
    "end"
   ]
  },
  {
   "cell_type": "code",
   "execution_count": 19,
   "id": "28685ae3-c629-484e-80bc-90bd7869e8e0",
   "metadata": {},
   "outputs": [
    {
     "data": {
      "text/plain": [
       "10"
      ]
     },
     "execution_count": 19,
     "metadata": {},
     "output_type": "execute_result"
    }
   ],
   "source": [
    "# Синтаксис условных выражений с тернарными операторами:\n",
    "x = 5\n",
    "y = 10\n",
    "(x > y) ? x : y"
   ]
  },
  {
   "cell_type": "markdown",
   "id": "165bced0-dc98-4797-afc9-878bbebe379d",
   "metadata": {},
   "source": [
    "###  Функции"
   ]
  },
  {
   "cell_type": "code",
   "execution_count": 23,
   "id": "93f75009-a971-40be-9b4b-7c93ad1c3e4e",
   "metadata": {},
   "outputs": [
    {
     "name": "stdout",
     "output_type": "stream",
     "text": [
      "Hi Nastya, it's great to see you!\n"
     ]
    },
    {
     "data": {
      "text/plain": [
       "81"
      ]
     },
     "execution_count": 23,
     "metadata": {},
     "output_type": "execute_result"
    }
   ],
   "source": [
    "#Julia дает нам несколько разных способов написать функцию. Первый требует ключевых слов function и end:\n",
    "function sayhi(name)\n",
    "    println(\"Hi $name, it's great to see you!\")\n",
    "end\n",
    "# функция возведения в квадрат:\n",
    "function f(x)\n",
    "    x^2\n",
    "end\n",
    "sayhi(\"Nastya\")\n",
    "f(9)"
   ]
  },
  {
   "cell_type": "code",
   "execution_count": 29,
   "id": "dff5f3f2-6229-4d7a-94c6-a135eb203eb7",
   "metadata": {},
   "outputs": [
    {
     "name": "stdout",
     "output_type": "stream",
     "text": [
      "Hi Nastya, it's great to see you!\n"
     ]
    },
    {
     "data": {
      "text/plain": [
       "81"
      ]
     },
     "execution_count": 29,
     "metadata": {},
     "output_type": "execute_result"
    }
   ],
   "source": [
    "# В качестве альтернативы, можно объявить любую из выше определённых функций в одной строке:\n",
    "sayhi2(name) = println(\"Hi $name, it's great to see you!\")\n",
    "f2(x) = x^2\n",
    "sayhi(\"Nastya\")\n",
    "f(9)"
   ]
  },
  {
   "cell_type": "code",
   "execution_count": 30,
   "id": "adb9a576-b636-4d84-89a7-1a6352cffafd",
   "metadata": {},
   "outputs": [
    {
     "name": "stdout",
     "output_type": "stream",
     "text": [
      "Hi Nastya, it's great to see you!\n"
     ]
    },
    {
     "data": {
      "text/plain": [
       "81"
      ]
     },
     "execution_count": 30,
     "metadata": {},
     "output_type": "execute_result"
    }
   ],
   "source": [
    "# Наконец, можно объявить выше определённые функции как «анонимные»:\n",
    "sayhi3 = name -> println(\"Hi $name, it's great to see you!\")\n",
    "f3 = x -> x^2\n",
    "sayhi(\"Nastya\")\n",
    "f(9)"
   ]
  },
  {
   "cell_type": "code",
   "execution_count": 32,
   "id": "da8bd0c7-0b08-48a0-8bec-857b27fa8fee",
   "metadata": {},
   "outputs": [
    {
     "data": {
      "text/plain": [
       "3-element Vector{Int64}:\n",
       " 3\n",
       " 5\n",
       " 2"
      ]
     },
     "execution_count": 32,
     "metadata": {},
     "output_type": "execute_result"
    }
   ],
   "source": [
    "#=По соглашению в Julia функции, сопровождаемые восклицательным знаком, изменяют\n",
    "свое содержимое, а функции без восклицательного знака не делают этого.\n",
    "Например, сравните результат применения sort и sort!:=#\n",
    "# задаём массив v:\n",
    "v = [3, 5, 2]\n",
    "sort(v)\n",
    "v\n"
   ]
  },
  {
   "cell_type": "code",
   "execution_count": 33,
   "id": "b200f8bf-c559-4ff1-88a0-9c080c5fdfae",
   "metadata": {},
   "outputs": [
    {
     "data": {
      "text/plain": [
       "3-element Vector{Int64}:\n",
       " 2\n",
       " 3\n",
       " 5"
      ]
     },
     "execution_count": 33,
     "metadata": {},
     "output_type": "execute_result"
    }
   ],
   "source": [
    "sort!(v)\n",
    "v\n"
   ]
  },
  {
   "cell_type": "code",
   "execution_count": 35,
   "id": "7b74a1bb-48a7-44ef-9af2-d7e0b87f748e",
   "metadata": {},
   "outputs": [
    {
     "data": {
      "text/plain": [
       "3-element Vector{Int64}:\n",
       " 1\n",
       " 4\n",
       " 9"
      ]
     },
     "execution_count": 35,
     "metadata": {},
     "output_type": "execute_result"
    }
   ],
   "source": [
    "map(f, [1, 2, 3])"
   ]
  },
  {
   "cell_type": "code",
   "execution_count": 36,
   "id": "c1256fd7-0535-4495-8df4-b6489e9473a1",
   "metadata": {},
   "outputs": [
    {
     "data": {
      "text/plain": [
       "3-element Vector{Int64}:\n",
       "  1\n",
       "  8\n",
       " 27"
      ]
     },
     "execution_count": 36,
     "metadata": {},
     "output_type": "execute_result"
    }
   ],
   "source": [
    "map(x -> x^3, [1, 2, 3])\n"
   ]
  },
  {
   "cell_type": "code",
   "execution_count": 37,
   "id": "769a6808-5f13-40f1-b032-fd65527325c1",
   "metadata": {},
   "outputs": [
    {
     "data": {
      "text/plain": [
       "3-element Vector{Int64}:\n",
       " 1\n",
       " 4\n",
       " 9"
      ]
     },
     "execution_count": 37,
     "metadata": {},
     "output_type": "execute_result"
    }
   ],
   "source": [
    "f(x) = x^2\n",
    "broadcast(f, [1, 2, 3])"
   ]
  },
  {
   "cell_type": "code",
   "execution_count": 38,
   "id": "a26025e5-d7d5-4b97-b0ce-67ead702d988",
   "metadata": {},
   "outputs": [
    {
     "data": {
      "text/plain": [
       "3-element Vector{Int64}:\n",
       " 1\n",
       " 4\n",
       " 9"
      ]
     },
     "execution_count": 38,
     "metadata": {},
     "output_type": "execute_result"
    }
   ],
   "source": [
    "f.([1, 2, 3])"
   ]
  },
  {
   "cell_type": "code",
   "execution_count": 39,
   "id": "3af64857-dced-4dd2-b1e0-aa5de382fb1d",
   "metadata": {},
   "outputs": [
    {
     "data": {
      "text/plain": [
       "3×3 Matrix{Int64}:\n",
       " 1  2  3\n",
       " 4  5  6\n",
       " 7  8  9"
      ]
     },
     "execution_count": 39,
     "metadata": {},
     "output_type": "execute_result"
    }
   ],
   "source": [
    "# Задаём матрицу A:\n",
    "A = [i + 3*j for j in 0:2, i in 1:3]"
   ]
  },
  {
   "cell_type": "code",
   "execution_count": 40,
   "id": "065de6fc-d5bd-4506-889f-53f05f00c9b7",
   "metadata": {},
   "outputs": [
    {
     "data": {
      "text/plain": [
       "3×3 Matrix{Int64}:\n",
       "  30   36   42\n",
       "  66   81   96\n",
       " 102  126  150"
      ]
     },
     "execution_count": 40,
     "metadata": {},
     "output_type": "execute_result"
    }
   ],
   "source": [
    "# Вызываем функцию f возведения в квадрат\n",
    "f(A)\n"
   ]
  },
  {
   "cell_type": "code",
   "execution_count": 41,
   "id": "68a69499-d2eb-4764-829a-6f181b7526fd",
   "metadata": {},
   "outputs": [
    {
     "data": {
      "text/plain": [
       "3×3 Matrix{Int64}:\n",
       "  1   4   9\n",
       " 16  25  36\n",
       " 49  64  81"
      ]
     },
     "execution_count": 41,
     "metadata": {},
     "output_type": "execute_result"
    }
   ],
   "source": [
    "B = f.(A)\n"
   ]
  },
  {
   "cell_type": "code",
   "execution_count": 42,
   "id": "9880ef21-c31e-4743-bdcc-3ca2e4dbe7de",
   "metadata": {},
   "outputs": [
    {
     "data": {
      "text/plain": [
       "3×3 Matrix{Float64}:\n",
       "  3.0   6.0   9.0\n",
       " 12.0  15.0  18.0\n",
       " 21.0  24.0  27.0"
      ]
     },
     "execution_count": 42,
     "metadata": {},
     "output_type": "execute_result"
    }
   ],
   "source": [
    "A .+ 2 .* f.(A) ./ A"
   ]
  },
  {
   "cell_type": "code",
   "execution_count": 43,
   "id": "c5b69f81-43e2-4039-86f7-f1523d2dc9f2",
   "metadata": {},
   "outputs": [
    {
     "data": {
      "text/plain": [
       "3×3 Matrix{Float64}:\n",
       "  3.0   6.0   9.0\n",
       " 12.0  15.0  18.0\n",
       " 21.0  24.0  27.0"
      ]
     },
     "execution_count": 43,
     "metadata": {},
     "output_type": "execute_result"
    }
   ],
   "source": [
    "@. A + 2 * f(A) / A\n"
   ]
  },
  {
   "cell_type": "code",
   "execution_count": 44,
   "id": "a6e16953-c64c-44d2-96a9-70256408ccda",
   "metadata": {},
   "outputs": [
    {
     "data": {
      "text/plain": [
       "3×3 Matrix{Float64}:\n",
       "  3.0   6.0   9.0\n",
       " 12.0  15.0  18.0\n",
       " 21.0  24.0  27.0"
      ]
     },
     "execution_count": 44,
     "metadata": {},
     "output_type": "execute_result"
    }
   ],
   "source": [
    "broadcast(x -> x + 2 * f(x) / x, A)"
   ]
  },
  {
   "cell_type": "markdown",
   "id": "9d8a4f21-1b97-45c6-ba14-68cf418fd2f4",
   "metadata": {
    "jp-MarkdownHeadingCollapsed": true
   },
   "source": [
    "### Сторонние библиотеки (пакеты) в Julia"
   ]
  },
  {
   "cell_type": "code",
   "execution_count": 48,
   "id": "cadd67b8-089a-4bd1-b7d3-0403b7cdf22b",
   "metadata": {},
   "outputs": [
    {
     "name": "stderr",
     "output_type": "stream",
     "text": [
      "\u001b[32m\u001b[1m   Resolving\u001b[22m\u001b[39m package versions...\n",
      "\u001b[32m\u001b[1m  No Changes\u001b[22m\u001b[39m to `C:\\Users\\noname\\.julia\\environments\\v1.10\\Project.toml`\n",
      "\u001b[32m\u001b[1m  No Changes\u001b[22m\u001b[39m to `C:\\Users\\noname\\.julia\\environments\\v1.10\\Manifest.toml`\n",
      "\u001b[32m\u001b[1m   Resolving\u001b[22m\u001b[39m package versions...\n",
      "\u001b[32m\u001b[1m  No Changes\u001b[22m\u001b[39m to `C:\\Users\\noname\\.julia\\environments\\v1.10\\Project.toml`\n",
      "\u001b[32m\u001b[1m  No Changes\u001b[22m\u001b[39m to `C:\\Users\\noname\\.julia\\environments\\v1.10\\Manifest.toml`\n"
     ]
    },
    {
     "data": {
      "image/svg+xml": [
       "<?xml version=\"1.0\" encoding=\"UTF-8\"?>\n",
       "<!DOCTYPE svg PUBLIC \"-//W3C//DTD SVG 1.1//EN\"\n",
       " \"http://www.w3.org/Graphics/SVG/1.1/DTD/svg11.dtd\">\n",
       "<svg xmlns=\"http://www.w3.org/2000/svg\" version=\"1.1\"\n",
       "     width=\"75mm\" height=\"75mm\"\n",
       "     viewBox=\"0 0 3 3\" preserveAspectRatio=\"none\"\n",
       "     shape-rendering=\"crispEdges\" stroke=\"none\">\n",
       "<rect width=\".96\" height=\".96\" x=\"0\" y=\"0\" fill=\"#FF342D\" />\n",
       "<rect width=\".96\" height=\".96\" x=\"1\" y=\"0\" fill=\"#4E6D50\" />\n",
       "<rect width=\".96\" height=\".96\" x=\"2\" y=\"0\" fill=\"#DA003F\" />\n",
       "<rect width=\".96\" height=\".96\" x=\"0\" y=\"1\" fill=\"#008E94\" />\n",
       "<rect width=\".96\" height=\".96\" x=\"1\" y=\"1\" fill=\"#9E5100\" />\n",
       "<rect width=\".96\" height=\".96\" x=\"2\" y=\"1\" fill=\"#FFFF74\" />\n",
       "<rect width=\".96\" height=\".96\" x=\"0\" y=\"2\" fill=\"#4C3779\" />\n",
       "<rect width=\".96\" height=\".96\" x=\"1\" y=\"2\" fill=\"#8197F1\" />\n",
       "<rect width=\".96\" height=\".96\" x=\"2\" y=\"2\" fill=\"#008E94\" />\n",
       "</svg>"
      ],
      "text/plain": [
       "3×3 Matrix{RGB{FixedPointNumbers.N0f8}}:\n",
       " RGB(1.0, 0.204, 0.176)    RGB(0.306, 0.427, 0.314)  RGB(0.855, 0.0, 0.247)\n",
       " RGB(0.0, 0.557, 0.58)     RGB(0.62, 0.318, 0.0)     RGB(1.0, 1.0, 0.455)\n",
       " RGB(0.298, 0.216, 0.475)  RGB(0.506, 0.592, 0.945)  RGB(0.0, 0.557, 0.58)"
      ]
     },
     "execution_count": 48,
     "metadata": {},
     "output_type": "execute_result"
    }
   ],
   "source": [
    "import Pkg\n",
    "Pkg.add(\"Example\")\n",
    "Pkg.add(\"Colors\")\n",
    "using Colors\n",
    "palette = distinguishable_colors(100)\n",
    "rand(palette, 3, 3)"
   ]
  },
  {
   "cell_type": "markdown",
   "id": "b665c4cf-6f9a-4c80-988f-fca8483f2881",
   "metadata": {},
   "source": [
    "## Самостоятельная работа"
   ]
  },
  {
   "cell_type": "markdown",
   "id": "6045e3d4-9019-493a-80d0-2348f320aef9",
   "metadata": {
    "jp-MarkdownHeadingCollapsed": true
   },
   "source": [
    "### Задание 1. Используя циклы while и for выведите на экран целые числа от 1 до 100 и напечатайте их квадраты"
   ]
  },
  {
   "cell_type": "code",
   "execution_count": 52,
   "id": "623c6e27-4138-4e77-9032-05d589bc4dcc",
   "metadata": {},
   "outputs": [
    {
     "name": "stdout",
     "output_type": "stream",
     "text": [
      "1^2 = 1 | 2^2 = 4 | 3^2 = 9 | 4^2 = 16 | 5^2 = 25 | 6^2 = 36 | 7^2 = 49 | 8^2 = 64 | 9^2 = 81 | 10^2 = 100 | 11^2 = 121 | 12^2 = 144 | 13^2 = 169 | 14^2 = 196 | 15^2 = 225 | 16^2 = 256 | 17^2 = 289 | 18^2 = 324 | 19^2 = 361 | 20^2 = 400 | 21^2 = 441 | 22^2 = 484 | 23^2 = 529 | 24^2 = 576 | 25^2 = 625 | 26^2 = 676 | 27^2 = 729 | 28^2 = 784 | 29^2 = 841 | 30^2 = 900 | 31^2 = 961 | 32^2 = 1024 | 33^2 = 1089 | 34^2 = 1156 | 35^2 = 1225 | 36^2 = 1296 | 37^2 = 1369 | 38^2 = 1444 | 39^2 = 1521 | 40^2 = 1600 | 41^2 = 1681 | 42^2 = 1764 | 43^2 = 1849 | 44^2 = 1936 | 45^2 = 2025 | 46^2 = 2116 | 47^2 = 2209 | 48^2 = 2304 | 49^2 = 2401 | 50^2 = 2500 | 51^2 = 2601 | 52^2 = 2704 | 53^2 = 2809 | 54^2 = 2916 | 55^2 = 3025 | 56^2 = 3136 | 57^2 = 3249 | 58^2 = 3364 | 59^2 = 3481 | 60^2 = 3600 | 61^2 = 3721 | 62^2 = 3844 | 63^2 = 3969 | 64^2 = 4096 | 65^2 = 4225 | 66^2 = 4356 | 67^2 = 4489 | 68^2 = 4624 | 69^2 = 4761 | 70^2 = 4900 | 71^2 = 5041 | 72^2 = 5184 | 73^2 = 5329 | 74^2 = 5476 | 75^2 = 5625 | 76^2 = 5776 | 77^2 = 5929 | 78^2 = 6084 | 79^2 = 6241 | 80^2 = 6400 | 81^2 = 6561 | 82^2 = 6724 | 83^2 = 6889 | 84^2 = 7056 | 85^2 = 7225 | 86^2 = 7396 | 87^2 = 7569 | 88^2 = 7744 | 89^2 = 7921 | 90^2 = 8100 | 91^2 = 8281 | 92^2 = 8464 | 93^2 = 8649 | 94^2 = 8836 | 95^2 = 9025 | 96^2 = 9216 | 97^2 = 9409 | 98^2 = 9604 | 99^2 = 9801 | 100^2 = 10000 | "
     ]
    }
   ],
   "source": [
    "n = 0\n",
    "while n < 100\n",
    "    n += 1\n",
    "    print(n, \"^2 = \", n*n, \" | \")\n",
    "end"
   ]
  },
  {
   "cell_type": "code",
   "execution_count": 55,
   "id": "28fa672f-839b-4b82-9a7e-5ad0300af1c5",
   "metadata": {},
   "outputs": [
    {
     "name": "stdout",
     "output_type": "stream",
     "text": [
      "1^2 = 1 | 2^2 = 4 | 3^2 = 9 | 4^2 = 16 | 5^2 = 25 | 6^2 = 36 | 7^2 = 49 | 8^2 = 64 | 9^2 = 81 | 10^2 = 100 | 11^2 = 121 | 12^2 = 144 | 13^2 = 169 | 14^2 = 196 | 15^2 = 225 | 16^2 = 256 | 17^2 = 289 | 18^2 = 324 | 19^2 = 361 | 20^2 = 400 | 21^2 = 441 | 22^2 = 484 | 23^2 = 529 | 24^2 = 576 | 25^2 = 625 | 26^2 = 676 | 27^2 = 729 | 28^2 = 784 | 29^2 = 841 | 30^2 = 900 | 31^2 = 961 | 32^2 = 1024 | 33^2 = 1089 | 34^2 = 1156 | 35^2 = 1225 | 36^2 = 1296 | 37^2 = 1369 | 38^2 = 1444 | 39^2 = 1521 | 40^2 = 1600 | 41^2 = 1681 | 42^2 = 1764 | 43^2 = 1849 | 44^2 = 1936 | 45^2 = 2025 | 46^2 = 2116 | 47^2 = 2209 | 48^2 = 2304 | 49^2 = 2401 | 50^2 = 2500 | 51^2 = 2601 | 52^2 = 2704 | 53^2 = 2809 | 54^2 = 2916 | 55^2 = 3025 | 56^2 = 3136 | 57^2 = 3249 | 58^2 = 3364 | 59^2 = 3481 | 60^2 = 3600 | 61^2 = 3721 | 62^2 = 3844 | 63^2 = 3969 | 64^2 = 4096 | 65^2 = 4225 | 66^2 = 4356 | 67^2 = 4489 | 68^2 = 4624 | 69^2 = 4761 | 70^2 = 4900 | 71^2 = 5041 | 72^2 = 5184 | 73^2 = 5329 | 74^2 = 5476 | 75^2 = 5625 | 76^2 = 5776 | 77^2 = 5929 | 78^2 = 6084 | 79^2 = 6241 | 80^2 = 6400 | 81^2 = 6561 | 82^2 = 6724 | 83^2 = 6889 | 84^2 = 7056 | 85^2 = 7225 | 86^2 = 7396 | 87^2 = 7569 | 88^2 = 7744 | 89^2 = 7921 | 90^2 = 8100 | 91^2 = 8281 | 92^2 = 8464 | 93^2 = 8649 | 94^2 = 8836 | 95^2 = 9025 | 96^2 = 9216 | 97^2 = 9409 | 98^2 = 9604 | 99^2 = 9801 | 100^2 = 10000 | "
     ]
    }
   ],
   "source": [
    "for n in 1:1:100\n",
    "    print(n, \"^2 = \", n*n, \" | \")\n",
    "end"
   ]
  },
  {
   "cell_type": "markdown",
   "id": "704ada3d-59d1-4099-83db-d57c6269073d",
   "metadata": {
    "jp-MarkdownHeadingCollapsed": true
   },
   "source": [
    "### Задание 1. Используя циклы while и for создайте словарь squares, который будет содержать целые числа в качестве ключей и квадраты в качестве их пар-значений"
   ]
  },
  {
   "cell_type": "code",
   "execution_count": 57,
   "id": "6499b64d-affb-4f3e-8af9-d5bc6904f55b",
   "metadata": {},
   "outputs": [
    {
     "data": {
      "text/plain": [
       "Dict{Any, Any} with 10 entries:\n",
       "  5  => 25\n",
       "  4  => 16\n",
       "  6  => 36\n",
       "  7  => 49\n",
       "  2  => 4\n",
       "  10 => 100\n",
       "  9  => 81\n",
       "  8  => 64\n",
       "  3  => 9\n",
       "  1  => 1"
      ]
     },
     "execution_count": 57,
     "metadata": {},
     "output_type": "execute_result"
    }
   ],
   "source": [
    "squares = Dict()\n",
    "n = 0\n",
    "while n<10\n",
    "    n += 1\n",
    "    squares[n] = n*n\n",
    "end\n",
    "pairs(squares)"
   ]
  },
  {
   "cell_type": "code",
   "execution_count": 58,
   "id": "48beeba9-cfce-4705-bb43-b05e49ba5826",
   "metadata": {},
   "outputs": [
    {
     "data": {
      "text/plain": [
       "Dict{Any, Any} with 10 entries:\n",
       "  5  => 25\n",
       "  4  => 16\n",
       "  6  => 36\n",
       "  7  => 49\n",
       "  2  => 4\n",
       "  10 => 100\n",
       "  9  => 81\n",
       "  8  => 64\n",
       "  3  => 9\n",
       "  1  => 1"
      ]
     },
     "execution_count": 58,
     "metadata": {},
     "output_type": "execute_result"
    }
   ],
   "source": [
    "for n in 1:10\n",
    "    squares[n] = n*n\n",
    "end\n",
    "pairs(squares)"
   ]
  },
  {
   "cell_type": "markdown",
   "id": "ef28915c-0dc4-4264-8bec-a5726133dfd9",
   "metadata": {
    "jp-MarkdownHeadingCollapsed": true
   },
   "source": [
    "### Задание 1. Используя циклы while и for создайте массив squares_arr, содержащий квадраты всех чисел от 1 до 100"
   ]
  },
  {
   "cell_type": "code",
   "execution_count": 76,
   "id": "99edabc3-7b78-44ec-ad3a-a2f4475541a5",
   "metadata": {},
   "outputs": [
    {
     "name": "stdout",
     "output_type": "stream",
     "text": [
      "Any[[1], [4], [9], [16], [25], [36], [49], [64], [81], [100], [121], [144], [169], [196], [225], [256], [289], [324], [361], [400], [441], [484], [529], [576], [625], [676], [729], [784], [841], [900], [961], [1024], [1089], [1156], [1225], [1296], [1369], [1444], [1521], [1600], [1681], [1764], [1849], [1936], [2025], [2116], [2209], [2304], [2401], [2500], [2601], [2704], [2809], [2916], [3025], [3136], [3249], [3364], [3481], [3600], [3721], [3844], [3969], [4096], [4225], [4356], [4489], [4624], [4761], [4900], [5041], [5184], [5329], [5476], [5625], [5776], [5929], [6084], [6241], [6400], [6561], [6724], [6889], [7056], [7225], [7396], [7569], [7744], [7921], [8100], [8281], [8464], [8649], [8836], [9025], [9216], [9409], [9604], [9801], [10000]]"
     ]
    }
   ],
   "source": [
    "squares_arr=[]\n",
    "n = 0\n",
    "while n<100\n",
    "    n += 1\n",
    "    push!(squares_arr, [n*n])\n",
    "end\n",
    "print(squares_arr)"
   ]
  },
  {
   "cell_type": "code",
   "execution_count": 79,
   "id": "72b43013-7384-46f3-b149-7dbd72a2e880",
   "metadata": {},
   "outputs": [
    {
     "name": "stdout",
     "output_type": "stream",
     "text": [
      "[1, 4, 9, 16, 25, 36, 49, 64, 81, 100, 121, 144, 169, 196, 225, 256, 289, 324, 361, 400, 441, 484, 529, 576, 625, 676, 729, 784, 841, 900, 961, 1024, 1089, 1156, 1225, 1296, 1369, 1444, 1521, 1600, 1681, 1764, 1849, 1936, 2025, 2116, 2209, 2304, 2401, 2500, 2601, 2704, 2809, 2916, 3025, 3136, 3249, 3364, 3481, 3600, 3721, 3844, 3969, 4096, 4225, 4356, 4489, 4624, 4761, 4900, 5041, 5184, 5329, 5476, 5625, 5776, 5929, 6084, 6241, 6400, 6561, 6724, 6889, 7056, 7225, 7396, 7569, 7744, 7921, 8100, 8281, 8464, 8649, 8836, 9025, 9216, 9409, 9604, 9801, 10000]"
     ]
    }
   ],
   "source": [
    "squares_arr_2 = [i*i for i in 1:100]\n",
    "print(squares_arr_2)"
   ]
  },
  {
   "cell_type": "markdown",
   "id": "67c46a04-d859-47be-9d9f-282e202fcd42",
   "metadata": {
    "jp-MarkdownHeadingCollapsed": true
   },
   "source": [
    "### Задание 2. Напишите условный оператор, который печатает число, если число чётное, и строку «нечётное», если число нечётное. Перепишите код, используя тернарный оператор."
   ]
  },
  {
   "cell_type": "code",
   "execution_count": 80,
   "id": "4ef68167-4ac1-4340-b134-ec198de050fc",
   "metadata": {},
   "outputs": [
    {
     "name": "stdout",
     "output_type": "stream",
     "text": [
      "нечётное"
     ]
    }
   ],
   "source": [
    "N=1\n",
    "if N % 2 == 0\n",
    "    print(N)\n",
    "else\n",
    "    print(\"нечётное\")\n",
    "end"
   ]
  },
  {
   "cell_type": "code",
   "execution_count": 83,
   "id": "da279bb8-d01c-4cb2-b56f-476c20622078",
   "metadata": {},
   "outputs": [
    {
     "name": "stdout",
     "output_type": "stream",
     "text": [
      "нечётное"
     ]
    }
   ],
   "source": [
    "N % 2 == 0 ? print(N) : print(\"нечётное\")"
   ]
  },
  {
   "cell_type": "markdown",
   "id": "c7663679-f59c-446d-af11-bcedc9161d70",
   "metadata": {
    "jp-MarkdownHeadingCollapsed": true
   },
   "source": [
    "### Задание 3. Напишите функцию add_one, которая добавляет 1 к своему входу."
   ]
  },
  {
   "cell_type": "code",
   "execution_count": 86,
   "id": "c35cb8c9-cdd1-4024-95f7-45747d42d73a",
   "metadata": {},
   "outputs": [
    {
     "name": "stdout",
     "output_type": "stream",
     "text": [
      "11\n"
     ]
    }
   ],
   "source": [
    "function add_one(N)\n",
    "    N = N + 1\n",
    "    println(N)\n",
    "end\n",
    "add_one(10)"
   ]
  },
  {
   "cell_type": "markdown",
   "id": "29302c0e-9fe6-4317-85e9-cb2a7ac16ec1",
   "metadata": {
    "jp-MarkdownHeadingCollapsed": true
   },
   "source": [
    "### Задание 4. Используйте map() или broadcast() для задания матрицы 𝐴, каждый элемент которой увеличивается на единицу по сравнению с предыдущим."
   ]
  },
  {
   "cell_type": "code",
   "execution_count": 91,
   "id": "cf8e43bc-3625-4f07-aa85-0efa4fe9551a",
   "metadata": {},
   "outputs": [
    {
     "data": {
      "text/plain": [
       "5×5 Matrix{Int64}:\n",
       " 0  1  2  3  4\n",
       " 1  2  3  4  5\n",
       " 2  3  4  5  6\n",
       " 3  4  5  6  7\n",
       " 4  5  6  7  8"
      ]
     },
     "execution_count": 91,
     "metadata": {},
     "output_type": "execute_result"
    }
   ],
   "source": [
    "# Задаём матрицу A:\n",
    "A = [i + j for j in 0:4, i in 0:4]\n"
   ]
  },
  {
   "cell_type": "code",
   "execution_count": 93,
   "id": "41638763-3650-4f11-bbde-c6235ff99ce5",
   "metadata": {},
   "outputs": [
    {
     "data": {
      "text/plain": [
       "5×5 Matrix{Int64}:\n",
       " 1  2  3  4  5\n",
       " 2  3  4  5  6\n",
       " 3  4  5  6  7\n",
       " 4  5  6  7  8\n",
       " 5  6  7  8  9"
      ]
     },
     "execution_count": 93,
     "metadata": {},
     "output_type": "execute_result"
    }
   ],
   "source": [
    "map(x -> x+1, A)"
   ]
  },
  {
   "cell_type": "markdown",
   "id": "998a5188-be7a-41e3-93f2-d76b06e58e1d",
   "metadata": {
    "jp-MarkdownHeadingCollapsed": true
   },
   "source": [
    "### Задание 5. Задайте матрицу 𝐴 следующего вида (1 1 3; 5 2 6; -2 -1 -3). Найдите 𝐴^3. Замените третий столбец матрицы 𝐴 на сумму второго и третьего столбцов."
   ]
  },
  {
   "cell_type": "code",
   "execution_count": 109,
   "id": "fe552e4d-23a8-4b99-a914-4393fca86024",
   "metadata": {},
   "outputs": [
    {
     "data": {
      "text/plain": [
       "3×3 Matrix{Int64}:\n",
       "  1   1   3\n",
       "  5   2   6\n",
       " -2  -1  -3"
      ]
     },
     "execution_count": 109,
     "metadata": {},
     "output_type": "execute_result"
    }
   ],
   "source": [
    "# ЗАдаем матрицу А\n",
    "A = [1 1 3; 5 2 6; -2 -1 -3]"
   ]
  },
  {
   "cell_type": "code",
   "execution_count": 99,
   "id": "7eb48365-dedc-4c40-8e8d-d22a98399c3b",
   "metadata": {},
   "outputs": [
    {
     "data": {
      "text/plain": [
       "3×3 Matrix{Int64}:\n",
       " 0  0  0\n",
       " 0  0  0\n",
       " 0  0  0"
      ]
     },
     "execution_count": 99,
     "metadata": {},
     "output_type": "execute_result"
    }
   ],
   "source": [
    "f(n)=n^3\n",
    "f(A)"
   ]
  },
  {
   "cell_type": "code",
   "execution_count": 110,
   "id": "072ccfd1-a611-4e65-9465-4b5c46cac5b2",
   "metadata": {},
   "outputs": [
    {
     "data": {
      "text/plain": [
       "3×3 Matrix{Int64}:\n",
       "  1   1   2\n",
       "  5   2   7\n",
       " -2  -1  -3"
      ]
     },
     "execution_count": 110,
     "metadata": {},
     "output_type": "execute_result"
    }
   ],
   "source": [
    "for i in 1:3\n",
    "    A[i,3]=A[i,2]+A[i,1] \n",
    "end       \n",
    "A"
   ]
  },
  {
   "cell_type": "markdown",
   "id": "dd06f2fd-2444-49e4-a71f-ee5927ec6d7a",
   "metadata": {},
   "source": [
    "### Задание 6. Создайте матрицу B с элементами 𝐵𝑖1 = 10, 𝐵𝑖2 = −10, 𝐵𝑖3 = 10, 𝑖 = 1, 2, … , 15. Вычислите матрицу 𝐶 = 𝐵^𝑇*𝐵."
   ]
  },
  {
   "cell_type": "code",
   "execution_count": 121,
   "id": "505b9a58-0a50-4b82-baf3-678d76c57c5c",
   "metadata": {},
   "outputs": [
    {
     "data": {
      "text/plain": [
       "15×3 Matrix{Int64}:\n",
       " 10  -10  10\n",
       " 10  -10  10\n",
       " 10  -10  10\n",
       " 10  -10  10\n",
       " 10  -10  10\n",
       " 10  -10  10\n",
       " 10  -10  10\n",
       " 10  -10  10\n",
       " 10  -10  10\n",
       " 10  -10  10\n",
       " 10  -10  10\n",
       " 10  -10  10\n",
       " 10  -10  10\n",
       " 10  -10  10\n",
       " 10  -10  10"
      ]
     },
     "execution_count": 121,
     "metadata": {},
     "output_type": "execute_result"
    }
   ],
   "source": [
    "# ЗАдаем матрицу B\n",
    "B = [j%2==1 ? x=10 : x=-10 for i in 1:15,j in 1:3]\n",
    "B"
   ]
  },
  {
   "cell_type": "code",
   "execution_count": 126,
   "id": "1d3303a1-ec27-46bd-80e6-e891560a88fe",
   "metadata": {},
   "outputs": [
    {
     "data": {
      "text/plain": [
       "3×3 Matrix{Int64}:\n",
       "  1500  -1500   1500\n",
       " -1500   1500  -1500\n",
       "  1500  -1500   1500"
      ]
     },
     "execution_count": 126,
     "metadata": {},
     "output_type": "execute_result"
    }
   ],
   "source": [
    "C=B'*B"
   ]
  },
  {
   "cell_type": "markdown",
   "id": "f5a842da-25ba-4b75-b736-d4378d6672fd",
   "metadata": {},
   "source": [
    "### Задание 7. Создайте матрицу 𝑍 размерности 6 × 6, все элементы которой равны нулю, и матрицу 𝐸, все элементы которой равны 1. Используя цикл while или for и закономерности расположения элементов, создайте следующие матрицы размерности 6 × 6:"
   ]
  },
  {
   "cell_type": "code",
   "execution_count": 134,
   "id": "7c32338b-99d5-4906-8748-ec9e87da6e6b",
   "metadata": {},
   "outputs": [
    {
     "data": {
      "text/plain": [
       "6×6 Matrix{Float64}:\n",
       " 0.0  1.0  0.0  0.0  0.0  0.0\n",
       " 1.0  0.0  1.0  0.0  0.0  0.0\n",
       " 0.0  1.0  0.0  1.0  0.0  0.0\n",
       " 0.0  0.0  1.0  0.0  1.0  0.0\n",
       " 0.0  0.0  0.0  1.0  0.0  1.0\n",
       " 0.0  0.0  0.0  0.0  1.0  0.0"
      ]
     },
     "execution_count": 134,
     "metadata": {},
     "output_type": "execute_result"
    }
   ],
   "source": [
    "Z = zeros(6,6)\n",
    "E = ones(6,6)\n",
    "\n",
    "Z1 = copy(Z)\n",
    "for i in 1:6, j in 1:6\n",
    "    if abs(i-j) == 1\n",
    "        Z1[i,j]=Z[i,j]+E[i,j]\n",
    "    end\n",
    "    Z1[i,j] |> Int64\n",
    "end\n",
    "Z1"
   ]
  },
  {
   "cell_type": "code",
   "execution_count": 136,
   "id": "6dedd6f5-be22-463d-acb0-da6d24bbee1d",
   "metadata": {},
   "outputs": [
    {
     "data": {
      "text/plain": [
       "6×6 Matrix{Float64}:\n",
       " 1.0  0.0  1.0  0.0  0.0  0.0\n",
       " 0.0  1.0  0.0  1.0  0.0  0.0\n",
       " 1.0  0.0  1.0  0.0  1.0  0.0\n",
       " 0.0  1.0  0.0  1.0  0.0  1.0\n",
       " 0.0  0.0  1.0  0.0  1.0  0.0\n",
       " 0.0  0.0  0.0  1.0  0.0  1.0"
      ]
     },
     "execution_count": 136,
     "metadata": {},
     "output_type": "execute_result"
    }
   ],
   "source": [
    "Z2 = copy(Z)\n",
    "for i in 1:6, j in 1:6\n",
    "    if abs(i-j) == 2 || i == j\n",
    "        Z2[i,j]=Z[i,j]+E[i,j]\n",
    "    end\n",
    "    Z2[i,j] |> Int64\n",
    "end\n",
    "Z2"
   ]
  },
  {
   "cell_type": "code",
   "execution_count": 137,
   "id": "1ab84e80-6250-46f5-9161-87c8df8f2368",
   "metadata": {},
   "outputs": [
    {
     "data": {
      "text/plain": [
       "6×6 Matrix{Float64}:\n",
       " 0.0  0.0  0.0  1.0  0.0  1.0\n",
       " 0.0  0.0  1.0  0.0  1.0  0.0\n",
       " 0.0  1.0  0.0  1.0  0.0  1.0\n",
       " 1.0  0.0  1.0  0.0  1.0  0.0\n",
       " 0.0  1.0  0.0  1.0  0.0  0.0\n",
       " 1.0  0.0  1.0  0.0  0.0  0.0"
      ]
     },
     "execution_count": 137,
     "metadata": {},
     "output_type": "execute_result"
    }
   ],
   "source": [
    "Z3 = copy(Z)\n",
    "for i in 1:6, j in 1:6\n",
    "    if i+j == 5 || i+j == 7 || i+j == 9 \n",
    "        Z3[i,j]=Z[i,j]+E[i,j]\n",
    "    end\n",
    "    Z3[i,j] |> Int64\n",
    "end\n",
    "Z3"
   ]
  },
  {
   "cell_type": "code",
   "execution_count": 139,
   "id": "8996432c-b43a-44a7-afba-c1e4b6cd5ef2",
   "metadata": {},
   "outputs": [
    {
     "data": {
      "text/plain": [
       "6×6 Matrix{Float64}:\n",
       " 1.0  0.0  1.0  0.0  1.0  0.0\n",
       " 0.0  1.0  0.0  1.0  0.0  1.0\n",
       " 1.0  0.0  1.0  0.0  1.0  0.0\n",
       " 0.0  1.0  0.0  1.0  0.0  1.0\n",
       " 1.0  0.0  1.0  0.0  1.0  0.0\n",
       " 0.0  1.0  0.0  1.0  0.0  1.0"
      ]
     },
     "execution_count": 139,
     "metadata": {},
     "output_type": "execute_result"
    }
   ],
   "source": [
    "Z4 = copy(Z)\n",
    "for i in 1:6, j in 1:6\n",
    "    if (i+j) % 2 == 0 \n",
    "        Z4[i,j]=Z[i,j]+E[i,j]\n",
    "    end\n",
    "    Z4[i,j] |> Int64\n",
    "end\n",
    "Z4"
   ]
  },
  {
   "cell_type": "markdown",
   "id": "8da1b4ce-fe69-46ff-9aba-4158a9004965",
   "metadata": {},
   "source": [
    "### Задание 8. В языке R есть функция outer(). Фактически, это матричное умножение с возможностью изменить применяемую операцию (например, заменить произведение на сложение или возведение в степень). Подпункт 1 (см.в файле лр)"
   ]
  },
  {
   "cell_type": "code",
   "execution_count": 148,
   "id": "8d6f5c66-2205-490b-bec3-bcb3836fb28c",
   "metadata": {},
   "outputs": [
    {
     "data": {
      "text/plain": [
       "outer (generic function with 1 method)"
      ]
     },
     "execution_count": 148,
     "metadata": {},
     "output_type": "execute_result"
    }
   ],
   "source": [
    "function outer(x,y,operation)\n",
    "    return [operation(xi, yi) for xi in x, yi in y]\n",
    "end"
   ]
  },
  {
   "cell_type": "markdown",
   "id": "d76979b8-0921-45c7-b263-4234ff5db363",
   "metadata": {},
   "source": [
    "### Задание 8. В языке R есть функция outer(). Фактически, это матричное умножение с возможностью изменить применяемую операцию (например, заменить произведение на сложение или возведение в степень). Подпункт 2 (см.в файле лр)"
   ]
  },
  {
   "cell_type": "code",
   "execution_count": 149,
   "id": "60ca9ba8-6a48-4e2b-976f-a64a73de6c72",
   "metadata": {},
   "outputs": [
    {
     "data": {
      "text/plain": [
       "5×5 Matrix{Int64}:\n",
       " 0  1  2  3  4\n",
       " 1  2  3  4  5\n",
       " 2  3  4  5  6\n",
       " 3  4  5  6  7\n",
       " 4  5  6  7  8"
      ]
     },
     "execution_count": 149,
     "metadata": {},
     "output_type": "execute_result"
    }
   ],
   "source": [
    "A1 = outer(0:4, 0:4, +)"
   ]
  },
  {
   "cell_type": "code",
   "execution_count": 151,
   "id": "78d9bb84-e9d6-4289-a74f-7706343f5a1e",
   "metadata": {},
   "outputs": [
    {
     "data": {
      "text/plain": [
       "5×5 Matrix{Int64}:\n",
       " 0   0   0    0     0\n",
       " 1   1   1    1     1\n",
       " 2   4   8   16    32\n",
       " 3   9  27   81   243\n",
       " 4  16  64  256  1024"
      ]
     },
     "execution_count": 151,
     "metadata": {},
     "output_type": "execute_result"
    }
   ],
   "source": [
    "A2 = [y == 1 ? x : x^y for x in 0:4, y in 1:5]"
   ]
  },
  {
   "cell_type": "code",
   "execution_count": 152,
   "id": "5ae8033e-63be-40f9-a8d1-81ebe59a80d5",
   "metadata": {},
   "outputs": [
    {
     "data": {
      "text/plain": [
       "5×5 Matrix{Int64}:\n",
       " 0  1  2  3  4\n",
       " 1  2  3  4  0\n",
       " 2  3  4  0  1\n",
       " 3  4  0  1  2\n",
       " 4  0  1  2  3"
      ]
     },
     "execution_count": 152,
     "metadata": {},
     "output_type": "execute_result"
    }
   ],
   "source": [
    "A3 = outer(0:4, 0:4, (x,y) -> mod(x+y,5))"
   ]
  },
  {
   "cell_type": "code",
   "execution_count": 153,
   "id": "b04fee14-407d-4e5c-a9dd-619091e0134c",
   "metadata": {},
   "outputs": [
    {
     "data": {
      "text/plain": [
       "10×10 Matrix{Int64}:\n",
       " 0  1  2  3  4  5  6  7  8  9\n",
       " 1  2  3  4  5  6  7  8  9  0\n",
       " 2  3  4  5  6  7  8  9  0  1\n",
       " 3  4  5  6  7  8  9  0  1  2\n",
       " 4  5  6  7  8  9  0  1  2  3\n",
       " 5  6  7  8  9  0  1  2  3  4\n",
       " 6  7  8  9  0  1  2  3  4  5\n",
       " 7  8  9  0  1  2  3  4  5  6\n",
       " 8  9  0  1  2  3  4  5  6  7\n",
       " 9  0  1  2  3  4  5  6  7  8"
      ]
     },
     "execution_count": 153,
     "metadata": {},
     "output_type": "execute_result"
    }
   ],
   "source": [
    "A4 = outer(0:9, 0:9, (x,y) -> mod(x+y,10))"
   ]
  },
  {
   "cell_type": "code",
   "execution_count": 154,
   "id": "e95d4d57-bbda-448d-bc0a-cc4b80738fdc",
   "metadata": {},
   "outputs": [
    {
     "data": {
      "text/plain": [
       "9×9 Matrix{Int64}:\n",
       " 0  8  7  6  5  4  3  2  1\n",
       " 1  0  8  7  6  5  4  3  2\n",
       " 2  1  0  8  7  6  5  4  3\n",
       " 3  2  1  0  8  7  6  5  4\n",
       " 4  3  2  1  0  8  7  6  5\n",
       " 5  4  3  2  1  0  8  7  6\n",
       " 6  5  4  3  2  1  0  8  7\n",
       " 7  6  5  4  3  2  1  0  8\n",
       " 8  7  6  5  4  3  2  1  0"
      ]
     },
     "execution_count": 154,
     "metadata": {},
     "output_type": "execute_result"
    }
   ],
   "source": [
    "A5 = outer(0:8, 0:8, (x,y) -> mod(x-y,9))"
   ]
  },
  {
   "cell_type": "markdown",
   "id": "7f309a35-6236-47bb-8557-d91f255bc030",
   "metadata": {},
   "source": [
    "### Задание 9. Решите следующую систему линейных уравнений с 5 неизвестными"
   ]
  },
  {
   "cell_type": "code",
   "execution_count": 192,
   "id": "3773d349-a5e9-458a-84f7-d0fdeb96ba32",
   "metadata": {},
   "outputs": [
    {
     "name": "stdout",
     "output_type": "stream",
     "text": [
      "X1 = -3.916666666666667\n",
      "\n",
      "X2 = 3.0000000000000013\n",
      "\n",
      "X3 = 5.0\n",
      "\n",
      "X4 = -9.500000000000002\n",
      "\n",
      "X5 = 5.583333333333335\n",
      "\n"
     ]
    }
   ],
   "source": [
    "A = [1 2 3 4 5; 2 1 2 3 4; 3 2 1 2 3; 4 3 2 1 2; 5 4 3 2 1]\n",
    "B = [7, -1, -3, 5, -6]\n",
    "\n",
    "X = A \\ B  \n",
    "for i in 1:5\n",
    "    println(\"X$i = \", X[i], \"\\n\" )\n",
    "end"
   ]
  },
  {
   "cell_type": "markdown",
   "id": "f50bbd94-eb7d-4129-b6bf-bc74d2ef2b22",
   "metadata": {},
   "source": [
    "### Задание 10. Создайте матрицу 𝑀 размерности 6 × 10, элементами которой являются целые числа, выбранные случайным образом с повторениями из совокупности 1, 2, … , 10. \n"
   ]
  },
  {
   "cell_type": "code",
   "execution_count": 213,
   "id": "78bc122e-bff4-43b3-a6ad-c1c2e8c7d4a0",
   "metadata": {},
   "outputs": [
    {
     "data": {
      "text/plain": [
       "6×10 Matrix{Int64}:\n",
       " 10   6  3  8  7   4  5   7  3  4\n",
       " 10   8  8  6  4  10  1  10  4  5\n",
       "  9   1  9  7  3   3  3   4  1  5\n",
       " 10   3  2  3  8  10  4   7  5  5\n",
       "  7  10  3  7  9   6  5   8  5  3\n",
       " 10   1  1  8  7   1  1   9  2  7"
      ]
     },
     "execution_count": 213,
     "metadata": {},
     "output_type": "execute_result"
    }
   ],
   "source": [
    "M = rand(1:10, 6, 10)\n"
   ]
  },
  {
   "cell_type": "markdown",
   "id": "29476412-795f-4170-99b6-e866c3386a38",
   "metadata": {},
   "source": [
    "- Найдите число элементов в каждой строке матрицы 𝑀, которые больше числа 𝑁 (например, 𝑁 = 4)."
   ]
  },
  {
   "cell_type": "code",
   "execution_count": 214,
   "id": "75079650-d474-4e44-ac09-5cab6e7d0d7e",
   "metadata": {},
   "outputs": [
    {
     "name": "stdout",
     "output_type": "stream",
     "text": [
      "[6; 7; 4; 6; 8; 5;;]\n"
     ]
    }
   ],
   "source": [
    "N = 4\n",
    "res = sum(M .> N, dims=2)\n",
    "println(res)"
   ]
  },
  {
   "cell_type": "markdown",
   "id": "78b7e05f-8126-44c4-9972-6354b89a853f",
   "metadata": {},
   "source": [
    "- Определите, в каких строках матрицы 𝑀 число 𝑀(например,𝑀 = 7) встречается\n",
    "ровно 2 раза?\n"
   ]
  },
  {
   "cell_type": "code",
   "execution_count": 215,
   "id": "e2c23e28-06f6-4424-9a0d-5250fa330b56",
   "metadata": {},
   "outputs": [
    {
     "name": "stdout",
     "output_type": "stream",
     "text": [
      "[1, 5, 6]\n"
     ]
    }
   ],
   "source": [
    "M_value = 7\n",
    "rows_res = findall(x -> count(==(M_value), x) == 2, eachrow(M))\n",
    "println(rows_res)"
   ]
  },
  {
   "cell_type": "markdown",
   "id": "e52b4196-b155-49f8-9cad-6d6aa5f9f78a",
   "metadata": {},
   "source": [
    "- Определите все пары столбцов матрицы 𝑀, сумма элементов которых больше 𝐾\n",
    "(например, 𝐾 = 75)."
   ]
  },
  {
   "cell_type": "code",
   "execution_count": null,
   "id": "e8878f73-6143-450a-964b-56cb5dfb9d08",
   "metadata": {},
   "outputs": [],
   "source": []
  }
 ],
 "metadata": {
  "kernelspec": {
   "display_name": "Julia 1.10.5",
   "language": "julia",
   "name": "julia-1.10"
  },
  "language_info": {
   "file_extension": ".jl",
   "mimetype": "application/julia",
   "name": "julia",
   "version": "1.10.5"
  }
 },
 "nbformat": 4,
 "nbformat_minor": 5
}
