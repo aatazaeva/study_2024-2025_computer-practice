{
 "cells": [
  {
   "cell_type": "markdown",
   "id": "089e245f-2b19-4c3e-9c0a-5b2ea934c196",
   "metadata": {},
   "source": [
    "# Лабораторная работа №2. Структуры данных"
   ]
  },
  {
   "cell_type": "markdown",
   "id": "ec3e53ec-ea18-4724-bde1-c88a1e18d666",
   "metadata": {},
   "source": [
    "## Кортежи"
   ]
  },
  {
   "cell_type": "markdown",
   "id": "01ab6e14-a772-45f4-a8ea-6c3bc39256d8",
   "metadata": {},
   "source": [
    "### Примеры кортежей"
   ]
  },
  {
   "cell_type": "code",
   "execution_count": 3,
   "id": "c3a18545-26d8-49dd-a0b4-cf8f87f648f3",
   "metadata": {},
   "outputs": [
    {
     "data": {
      "text/plain": [
       "()"
      ]
     },
     "execution_count": 3,
     "metadata": {},
     "output_type": "execute_result"
    }
   ],
   "source": [
    "() # Пустой кортеж"
   ]
  },
  {
   "cell_type": "code",
   "execution_count": 5,
   "id": "f03dceb1-32cb-499a-890f-cd9026a18345",
   "metadata": {},
   "outputs": [
    {
     "data": {
      "text/plain": [
       "(\"python\", \"julia\", \"R\")"
      ]
     },
     "execution_count": 5,
     "metadata": {},
     "output_type": "execute_result"
    }
   ],
   "source": [
    "favoritelang = (\"python\", \"julia\", \"R\") #Кортеж из элементов типа String"
   ]
  },
  {
   "cell_type": "code",
   "execution_count": 13,
   "id": "3f01c23c-64c7-4f34-ade2-3ad57ce5e562",
   "metadata": {},
   "outputs": [
    {
     "data": {
      "text/plain": [
       "(1, 2, 3)"
      ]
     },
     "execution_count": 13,
     "metadata": {},
     "output_type": "execute_result"
    }
   ],
   "source": [
    "x1 = (1, 2, 3) # кортеж из целых чисел"
   ]
  },
  {
   "cell_type": "code",
   "execution_count": 14,
   "id": "25066655-41e5-458b-8513-2a1eeb4d4880",
   "metadata": {},
   "outputs": [
    {
     "data": {
      "text/plain": [
       "(1, 2.0, \"tmp\")"
      ]
     },
     "execution_count": 14,
     "metadata": {},
     "output_type": "execute_result"
    }
   ],
   "source": [
    "x2 = (1, 2.0, \"tmp\") # Кортеж из элементов разных типов"
   ]
  },
  {
   "cell_type": "code",
   "execution_count": 15,
   "id": "78c0d71e-bd67-4061-91f0-555cde1fe30e",
   "metadata": {},
   "outputs": [
    {
     "data": {
      "text/plain": [
       "(a = 2, b = 3)"
      ]
     },
     "execution_count": 15,
     "metadata": {},
     "output_type": "execute_result"
    }
   ],
   "source": [
    "x3 = (a=2, b=1+2) # Именованный кортеж"
   ]
  },
  {
   "cell_type": "markdown",
   "id": "3bdf9215-6cb6-4c93-be7d-f90d4cc8ee4a",
   "metadata": {},
   "source": [
    "### Примеры операций над кортежами"
   ]
  },
  {
   "cell_type": "code",
   "execution_count": 16,
   "id": "e4856cee-73d4-4e51-9262-8a6c4f41631f",
   "metadata": {},
   "outputs": [
    {
     "data": {
      "text/plain": [
       "3"
      ]
     },
     "execution_count": 16,
     "metadata": {},
     "output_type": "execute_result"
    }
   ],
   "source": [
    "length(x2) # длина кортежа x2"
   ]
  },
  {
   "cell_type": "code",
   "execution_count": 17,
   "id": "902a547c-5525-487f-a598-974f73ccba3b",
   "metadata": {},
   "outputs": [
    {
     "data": {
      "text/plain": [
       "(1, 2.0, \"tmp\")"
      ]
     },
     "execution_count": 17,
     "metadata": {},
     "output_type": "execute_result"
    }
   ],
   "source": [
    "x2[1], x2[2], x2[3] # обратиться к элементам кортежа x2"
   ]
  },
  {
   "cell_type": "code",
   "execution_count": 18,
   "id": "5308c9c1-0b13-4659-b7de-79a392003632",
   "metadata": {},
   "outputs": [
    {
     "data": {
      "text/plain": [
       "5"
      ]
     },
     "execution_count": 18,
     "metadata": {},
     "output_type": "execute_result"
    }
   ],
   "source": [
    "с = x1[2] + x1[3] # произвести какую-либо операцию (сложение)\n",
    "# с вторым и третьим элементами кортежа x1"
   ]
  },
  {
   "cell_type": "code",
   "execution_count": 19,
   "id": "d29d7735-6d23-4b58-9dc5-9ab155ebb1bc",
   "metadata": {},
   "outputs": [
    {
     "data": {
      "text/plain": [
       "(2, 3, 3)"
      ]
     },
     "execution_count": 19,
     "metadata": {},
     "output_type": "execute_result"
    }
   ],
   "source": [
    "x3.a, x3.b, x3[2] # обращение к элементам именованного кортежа x3"
   ]
  },
  {
   "cell_type": "code",
   "execution_count": 21,
   "id": "b45fb55d-35aa-4a37-bf85-c9e128fdadf7",
   "metadata": {},
   "outputs": [
    {
     "data": {
      "text/plain": [
       "(true, false)"
      ]
     },
     "execution_count": 21,
     "metadata": {},
     "output_type": "execute_result"
    }
   ],
   "source": [
    "# проверка вхождения элементов tmp и 0 в кортеж x2\n",
    "# (два способа обращения к методу in()):\n",
    "in(\"tmp\", x2), 0 in x2"
   ]
  },
  {
   "cell_type": "markdown",
   "id": "a4472e89-12a1-48ae-bae2-9e69a7973050",
   "metadata": {},
   "source": [
    "## Словари"
   ]
  },
  {
   "cell_type": "markdown",
   "id": "12076548-c6ab-4ca9-a931-5d807e528198",
   "metadata": {},
   "source": [
    "### Примеры словарей и операций над ними"
   ]
  },
  {
   "cell_type": "code",
   "execution_count": 23,
   "id": "7798fa52-8f06-45b8-9fd6-83ba937f0bc8",
   "metadata": {},
   "outputs": [
    {
     "data": {
      "text/plain": [
       "Dict{String, Any} with 2 entries:\n",
       "  \"Бухгалтерия\" => \"555-2368\"\n",
       "  \"Иванов И.И.\" => (\"867-5309\", \"333-5544\")"
      ]
     },
     "execution_count": 23,
     "metadata": {},
     "output_type": "execute_result"
    }
   ],
   "source": [
    "# создать словарь с именем phonebook:\n",
    "phonebook = Dict(\"Иванов И.И.\" => (\"867-5309\",\"333-5544\"), \"Бухгалтерия\" => \"555-2368\")"
   ]
  },
  {
   "cell_type": "code",
   "execution_count": 24,
   "id": "c344aaa7-4d2a-4ef2-a37f-f6626521b264",
   "metadata": {},
   "outputs": [
    {
     "data": {
      "text/plain": [
       "KeySet for a Dict{String, Any} with 2 entries. Keys:\n",
       "  \"Бухгалтерия\"\n",
       "  \"Иванов И.И.\""
      ]
     },
     "execution_count": 24,
     "metadata": {},
     "output_type": "execute_result"
    }
   ],
   "source": [
    "# вывести ключи словаря:\n",
    "keys(phonebook)"
   ]
  },
  {
   "cell_type": "code",
   "execution_count": 25,
   "id": "7a23e195-dce4-45f7-a7bc-b2cdd7a43218",
   "metadata": {},
   "outputs": [
    {
     "data": {
      "text/plain": [
       "ValueIterator for a Dict{String, Any} with 2 entries. Values:\n",
       "  \"555-2368\"\n",
       "  (\"867-5309\", \"333-5544\")"
      ]
     },
     "execution_count": 25,
     "metadata": {},
     "output_type": "execute_result"
    }
   ],
   "source": [
    "# вывести значения элементов словаря:\n",
    "values(phonebook)"
   ]
  },
  {
   "cell_type": "code",
   "execution_count": 26,
   "id": "685f23fd-2f6b-4f5e-b203-057e97baabfe",
   "metadata": {},
   "outputs": [
    {
     "data": {
      "text/plain": [
       "Dict{String, Any} with 2 entries:\n",
       "  \"Бухгалтерия\" => \"555-2368\"\n",
       "  \"Иванов И.И.\" => (\"867-5309\", \"333-5544\")"
      ]
     },
     "execution_count": 26,
     "metadata": {},
     "output_type": "execute_result"
    }
   ],
   "source": [
    "# вывести заданные в словаре пары \"ключ - значение\":\n",
    "pairs(phonebook)"
   ]
  },
  {
   "cell_type": "code",
   "execution_count": 29,
   "id": "4f904c07-3710-44e0-8332-1aae89188b53",
   "metadata": {},
   "outputs": [
    {
     "data": {
      "text/plain": [
       "true"
      ]
     },
     "execution_count": 29,
     "metadata": {},
     "output_type": "execute_result"
    }
   ],
   "source": [
    "# проверка вхождения ключа в словарь:\n",
    "haskey(phonebook, \"Иванов И.И.\")"
   ]
  },
  {
   "cell_type": "code",
   "execution_count": 30,
   "id": "de43db30-5512-4951-b2ed-74e3e0d7a48a",
   "metadata": {},
   "outputs": [
    {
     "data": {
      "text/plain": [
       "\"555-3344\""
      ]
     },
     "execution_count": 30,
     "metadata": {},
     "output_type": "execute_result"
    }
   ],
   "source": [
    "# добавить элемент в словарь:\n",
    "phonebook[\"Сидоров П.С.\"] = \"555-3344\"\n"
   ]
  },
  {
   "cell_type": "code",
   "execution_count": 31,
   "id": "24bc38e5-6fcf-4377-b1ad-bcb1fb6f03e4",
   "metadata": {},
   "outputs": [
    {
     "data": {
      "text/plain": [
       "(\"867-5309\", \"333-5544\")"
      ]
     },
     "execution_count": 31,
     "metadata": {},
     "output_type": "execute_result"
    }
   ],
   "source": [
    "# удалить ключ и связанные с ним значения из словаря\n",
    "pop!(phonebook, \"Иванов И.И.\")"
   ]
  },
  {
   "cell_type": "code",
   "execution_count": 32,
   "id": "485177ac-b248-496d-ad9c-96924f283f7e",
   "metadata": {},
   "outputs": [
    {
     "data": {
      "text/plain": [
       "KeySet for a Dict{String, Any} with 2 entries. Keys:\n",
       "  \"Сидоров П.С.\"\n",
       "  \"Бухгалтерия\""
      ]
     },
     "execution_count": 32,
     "metadata": {},
     "output_type": "execute_result"
    }
   ],
   "source": [
    "keys(phonebook)"
   ]
  },
  {
   "cell_type": "code",
   "execution_count": 33,
   "id": "c2b090b2-b727-4b68-a791-a827b02408b1",
   "metadata": {},
   "outputs": [
    {
     "data": {
      "text/plain": [
       "(Dict{String, Real}(\"bar\" => 13.0, \"baz\" => 17, \"foo\" => 0.0), Dict{String, Real}(\"bar\" => 42.0, \"baz\" => 17, \"foo\" => 0.0))"
      ]
     },
     "execution_count": 33,
     "metadata": {},
     "output_type": "execute_result"
    }
   ],
   "source": [
    "# Объединение словарей (функция merge()):\n",
    "a = Dict(\"foo\" => 0.0, \"bar\" => 42.0);\n",
    "b = Dict(\"baz\" => 17, \"bar\" => 13.0);\n",
    "merge(a, b), merge(b,a)\n"
   ]
  },
  {
   "cell_type": "markdown",
   "id": "89274f45-503d-4763-ba16-177a78029430",
   "metadata": {},
   "source": [
    "## Множества"
   ]
  },
  {
   "cell_type": "markdown",
   "id": "16300cda-674b-4c7e-af88-f5e983094b1a",
   "metadata": {},
   "source": [
    "### Примеры множеств и операций над ними"
   ]
  },
  {
   "cell_type": "code",
   "execution_count": 34,
   "id": "7e2f6b2e-9735-4c06-bde4-33305c635992",
   "metadata": {},
   "outputs": [
    {
     "data": {
      "text/plain": [
       "Set{Int64} with 4 elements:\n",
       "  5\n",
       "  4\n",
       "  3\n",
       "  1"
      ]
     },
     "execution_count": 34,
     "metadata": {},
     "output_type": "execute_result"
    }
   ],
   "source": [
    "# создать множество из четырёх целочисленных значений:\n",
    "A = Set([1, 3, 4, 5])\n"
   ]
  },
  {
   "cell_type": "code",
   "execution_count": 35,
   "id": "378f31f3-1793-4f15-8bcf-cc05cb4e2300",
   "metadata": {},
   "outputs": [
    {
     "data": {
      "text/plain": [
       "Set{Char} with 5 elements:\n",
       "  'a'\n",
       "  'd'\n",
       "  'r'\n",
       "  'k'\n",
       "  'b'"
      ]
     },
     "execution_count": 35,
     "metadata": {},
     "output_type": "execute_result"
    }
   ],
   "source": [
    "# создать множество из 11 символьных значений:\n",
    "B = Set(\"abrakadabra\")"
   ]
  },
  {
   "cell_type": "code",
   "execution_count": 40,
   "id": "8bdcd976-43a5-4463-8192-24292517effc",
   "metadata": {},
   "outputs": [
    {
     "data": {
      "text/plain": [
       "false"
      ]
     },
     "execution_count": 40,
     "metadata": {},
     "output_type": "execute_result"
    }
   ],
   "source": [
    "# проверка эквивалентности двух множеств:\n",
    "S1 = Set([1,2]);\n",
    "S2 = Set([3,4]);\n",
    "issetequal(S1,S2)"
   ]
  },
  {
   "cell_type": "code",
   "execution_count": 41,
   "id": "590adc0c-7270-4f3d-abb5-6638ac38cfcb",
   "metadata": {},
   "outputs": [
    {
     "data": {
      "text/plain": [
       "true"
      ]
     },
     "execution_count": 41,
     "metadata": {},
     "output_type": "execute_result"
    }
   ],
   "source": [
    "# проверка эквивалентности двух множеств:\n",
    "S3 = Set([1,2,2,3,1,2,3,2,1]);\n",
    "S4 = Set([2,3,1]);\n",
    "issetequal(S3,S4)"
   ]
  },
  {
   "cell_type": "code",
   "execution_count": 42,
   "id": "953e0faf-f80b-4ed4-bb7b-5188e2abfce5",
   "metadata": {},
   "outputs": [
    {
     "data": {
      "text/plain": [
       "Set{Int64} with 4 elements:\n",
       "  4\n",
       "  2\n",
       "  3\n",
       "  1"
      ]
     },
     "execution_count": 42,
     "metadata": {},
     "output_type": "execute_result"
    }
   ],
   "source": [
    "# объединение множеств:\n",
    "C=union(S1,S2)"
   ]
  },
  {
   "cell_type": "code",
   "execution_count": 43,
   "id": "2e4f5114-deb9-49d9-9ea2-577566ba806f",
   "metadata": {},
   "outputs": [
    {
     "data": {
      "text/plain": [
       "Set{Int64} with 2 elements:\n",
       "  2\n",
       "  1"
      ]
     },
     "execution_count": 43,
     "metadata": {},
     "output_type": "execute_result"
    }
   ],
   "source": [
    "# пересечение множеств:\n",
    "D = intersect(S1,S3)"
   ]
  },
  {
   "cell_type": "code",
   "execution_count": 44,
   "id": "a178465b-8b1c-497a-8911-cf58c436b82f",
   "metadata": {},
   "outputs": [
    {
     "data": {
      "text/plain": [
       "Set{Int64} with 1 element:\n",
       "  3"
      ]
     },
     "execution_count": 44,
     "metadata": {},
     "output_type": "execute_result"
    }
   ],
   "source": [
    "# разность множеств:\n",
    "E = setdiff(S3,S1)"
   ]
  },
  {
   "cell_type": "code",
   "execution_count": 45,
   "id": "a0c6d1e4-67d8-4f69-8391-e5d232b41846",
   "metadata": {},
   "outputs": [
    {
     "data": {
      "text/plain": [
       "true"
      ]
     },
     "execution_count": 45,
     "metadata": {},
     "output_type": "execute_result"
    }
   ],
   "source": [
    "# проверка вхождения элементов одного множества в другое:\n",
    "issubset(S1,S4)"
   ]
  },
  {
   "cell_type": "code",
   "execution_count": 46,
   "id": "fa6d700b-262b-4db1-bcad-7573ce6d95a9",
   "metadata": {},
   "outputs": [
    {
     "data": {
      "text/plain": [
       "Set{Int64} with 4 elements:\n",
       "  2\n",
       "  99\n",
       "  3\n",
       "  1"
      ]
     },
     "execution_count": 46,
     "metadata": {},
     "output_type": "execute_result"
    }
   ],
   "source": [
    "# добавление элемента в множество:\n",
    "push!(S4, 99)\n"
   ]
  },
  {
   "cell_type": "code",
   "execution_count": 47,
   "id": "b2aa1877-a5e9-4d64-a456-d2781ed20f19",
   "metadata": {},
   "outputs": [
    {
     "data": {
      "text/plain": [
       "2"
      ]
     },
     "execution_count": 47,
     "metadata": {},
     "output_type": "execute_result"
    }
   ],
   "source": [
    "# удаление последнего элемента множества:\n",
    "pop!(S4)"
   ]
  },
  {
   "cell_type": "code",
   "execution_count": 48,
   "id": "88064c1a-9179-4297-9642-d456a0462761",
   "metadata": {},
   "outputs": [
    {
     "data": {
      "text/plain": [
       "Set{Int64} with 3 elements:\n",
       "  99\n",
       "  3\n",
       "  1"
      ]
     },
     "execution_count": 48,
     "metadata": {},
     "output_type": "execute_result"
    }
   ],
   "source": [
    "S4"
   ]
  },
  {
   "cell_type": "markdown",
   "id": "542a1ad6-d6f5-48a8-be5f-8105af45b12a",
   "metadata": {},
   "source": [
    "## Массивы"
   ]
  },
  {
   "cell_type": "markdown",
   "id": "e9f57880-9f87-40bb-8fc6-08d477cc1da4",
   "metadata": {},
   "source": [
    "### Примеры массивов"
   ]
  },
  {
   "cell_type": "code",
   "execution_count": 49,
   "id": "1a911844-0e76-4fb6-9d50-69657c7d29c5",
   "metadata": {},
   "outputs": [
    {
     "data": {
      "text/plain": [
       "Any[]"
      ]
     },
     "execution_count": 49,
     "metadata": {},
     "output_type": "execute_result"
    }
   ],
   "source": [
    "# создание пустого массива с абстрактным типом:\n",
    "empty_array_1 = []"
   ]
  },
  {
   "cell_type": "code",
   "execution_count": 52,
   "id": "ae8bc4f4-7280-4ca9-85d5-bf7786bf8d98",
   "metadata": {},
   "outputs": [
    {
     "data": {
      "text/plain": [
       "Int64[]"
      ]
     },
     "execution_count": 52,
     "metadata": {},
     "output_type": "execute_result"
    }
   ],
   "source": [
    "# создание пустого массива с конкретным типом:\n",
    "empty_array_2 = (Int64)[]"
   ]
  },
  {
   "cell_type": "code",
   "execution_count": 51,
   "id": "15ab6131-9bf2-4509-b759-dd34caa18e8d",
   "metadata": {},
   "outputs": [
    {
     "data": {
      "text/plain": [
       "Float64[]"
      ]
     },
     "execution_count": 51,
     "metadata": {},
     "output_type": "execute_result"
    }
   ],
   "source": [
    "empty_array_3 = (Float64)[]"
   ]
  },
  {
   "cell_type": "code",
   "execution_count": 53,
   "id": "2c8a854b-54ff-421a-9fce-47692bb5e1c9",
   "metadata": {},
   "outputs": [
    {
     "data": {
      "text/plain": [
       "3-element Vector{Int64}:\n",
       " 1\n",
       " 2\n",
       " 3"
      ]
     },
     "execution_count": 53,
     "metadata": {},
     "output_type": "execute_result"
    }
   ],
   "source": [
    "# вектор-столбец:\n",
    "a = [1, 2, 3]"
   ]
  },
  {
   "cell_type": "code",
   "execution_count": 55,
   "id": "9acddadd-b658-48de-9bee-d483cf695f86",
   "metadata": {},
   "outputs": [
    {
     "data": {
      "text/plain": [
       "1×3 Matrix{Int64}:\n",
       " 1  2  3"
      ]
     },
     "execution_count": 55,
     "metadata": {},
     "output_type": "execute_result"
    }
   ],
   "source": [
    "# вектор-строка:\n",
    "b = [1 2 3]"
   ]
  },
  {
   "cell_type": "code",
   "execution_count": 57,
   "id": "0e745656-b8cb-43f6-bc71-33b3c60b5335",
   "metadata": {},
   "outputs": [
    {
     "data": {
      "text/plain": [
       "3×3 Matrix{Int64}:\n",
       " 1  4  7\n",
       " 2  5  8\n",
       " 3  6  9"
      ]
     },
     "execution_count": 57,
     "metadata": {},
     "output_type": "execute_result"
    }
   ],
   "source": [
    "# многомерные массивы (матрицы):\n",
    "A = [[1, 2, 3] [4, 5, 6] [7, 8, 9]]"
   ]
  },
  {
   "cell_type": "code",
   "execution_count": 58,
   "id": "7406d5f5-0821-4a69-9ff1-be20c70478ae",
   "metadata": {},
   "outputs": [
    {
     "data": {
      "text/plain": [
       "3×3 Matrix{Int64}:\n",
       " 1  2  3\n",
       " 4  5  6\n",
       " 7  8  9"
      ]
     },
     "execution_count": 58,
     "metadata": {},
     "output_type": "execute_result"
    }
   ],
   "source": [
    "B = [[1 2 3]; [4 5 6]; [7 8 9]]"
   ]
  },
  {
   "cell_type": "code",
   "execution_count": 59,
   "id": "8bfb57c5-b22e-43d0-9a40-9f40a53be16e",
   "metadata": {},
   "outputs": [
    {
     "data": {
      "text/plain": [
       "1×8 Matrix{Float64}:\n",
       " 0.310043  0.950794  0.915795  0.962301  …  0.185676  0.892984  0.766257"
      ]
     },
     "execution_count": 59,
     "metadata": {},
     "output_type": "execute_result"
    }
   ],
   "source": [
    "# одномерный массив из 8 элементов (массив $1 \\times 8$)\n",
    "# со значениями, случайно распределёнными на интервале [0, 1):\n",
    "c = rand(1,8)"
   ]
  },
  {
   "cell_type": "code",
   "execution_count": 66,
   "id": "67e06224-43f6-4df1-86dd-571f3eeac341",
   "metadata": {},
   "outputs": [
    {
     "data": {
      "text/plain": [
       "2×3 Matrix{Float64}:\n",
       " 0.203864  0.758838  0.393973\n",
       " 0.738799  0.988954  0.64076"
      ]
     },
     "execution_count": 66,
     "metadata": {},
     "output_type": "execute_result"
    }
   ],
   "source": [
    "# многомерный массив $2 \\times 3$ (2 строки, 3 столбца) элементов\n",
    "# со значениями, случайно распределёнными на интервале [0, 1):\n",
    "C = rand(2,3)"
   ]
  },
  {
   "cell_type": "code",
   "execution_count": 67,
   "id": "aa695e3b-d35a-4f9c-9299-23b082223b2a",
   "metadata": {},
   "outputs": [
    {
     "data": {
      "text/plain": [
       "4×3×2 Array{Float64, 3}:\n",
       "[:, :, 1] =\n",
       " 0.227332  0.844477   0.464529\n",
       " 0.708991  0.0160303  0.854196\n",
       " 0.760585  0.115136   0.984205\n",
       " 0.283116  0.597728   0.772792\n",
       "\n",
       "[:, :, 2] =\n",
       " 0.0107221  0.446021  0.0808428\n",
       " 0.472339   0.710554  0.627792\n",
       " 0.337875   0.181368  0.0408687\n",
       " 0.903711   0.882048  0.893641"
      ]
     },
     "execution_count": 67,
     "metadata": {},
     "output_type": "execute_result"
    }
   ],
   "source": [
    "# трёхмерный массив:\n",
    "D = rand(4, 3, 2)"
   ]
  },
  {
   "cell_type": "markdown",
   "id": "a130d5ad-bdce-4c8b-99c1-0e175d0ed0e8",
   "metadata": {},
   "source": [
    "### Примеры массивов, заданных некоторыми функциями через включение"
   ]
  },
  {
   "cell_type": "code",
   "execution_count": 68,
   "id": "853b31e1-cd3e-4b9b-8ced-bc9082b3beca",
   "metadata": {},
   "outputs": [
    {
     "data": {
      "text/plain": [
       "10-element Vector{Float64}:\n",
       " 1.0\n",
       " 1.4142135623730951\n",
       " 1.7320508075688772\n",
       " 2.0\n",
       " 2.23606797749979\n",
       " 2.449489742783178\n",
       " 2.6457513110645907\n",
       " 2.8284271247461903\n",
       " 3.0\n",
       " 3.1622776601683795"
      ]
     },
     "execution_count": 68,
     "metadata": {},
     "output_type": "execute_result"
    }
   ],
   "source": [
    "# массив из квадратных корней всех целых чисел от 1 до 10:\n",
    "roots = [sqrt(i) for i in 1:10]"
   ]
  },
  {
   "cell_type": "code",
   "execution_count": 69,
   "id": "02d59a50-32d3-4b1e-b9e0-b26cd8bf52e7",
   "metadata": {},
   "outputs": [
    {
     "data": {
      "text/plain": [
       "5-element Vector{Int64}:\n",
       "   3\n",
       "  27\n",
       "  75\n",
       " 147\n",
       " 243"
      ]
     },
     "execution_count": 69,
     "metadata": {},
     "output_type": "execute_result"
    }
   ],
   "source": [
    "# массив с элементами вида 3*x^2,\n",
    "# где x - нечётное число от 1 до 9 (включительно)\n",
    "ar_1 = [3*i^2 for i in 1:2:9]"
   ]
  },
  {
   "cell_type": "code",
   "execution_count": 70,
   "id": "2254da43-df99-4dd9-8024-27d43f7c6c91",
   "metadata": {},
   "outputs": [
    {
     "data": {
      "text/plain": [
       "4-element Vector{Int64}:\n",
       "  1\n",
       "  9\n",
       " 49\n",
       " 81"
      ]
     },
     "execution_count": 70,
     "metadata": {},
     "output_type": "execute_result"
    }
   ],
   "source": [
    "# массив квадратов элементов, если квадрат не делится на 5 или 4:\n",
    "ar_2=[i^2 for i=1:10 if (i^2%5!=0 && i^2%4!=0)]"
   ]
  },
  {
   "cell_type": "markdown",
   "id": "529d48f1-c2d9-487b-9eaf-a09ffe1a5fbb",
   "metadata": {},
   "source": [
    "### Некоторые операции для работы с массивами"
   ]
  },
  {
   "cell_type": "code",
   "execution_count": 71,
   "id": "c2879c91-1a8a-4a65-9b2b-bee4c1807569",
   "metadata": {},
   "outputs": [
    {
     "data": {
      "text/plain": [
       "5-element Vector{Float64}:\n",
       " 1.0\n",
       " 1.0\n",
       " 1.0\n",
       " 1.0\n",
       " 1.0"
      ]
     },
     "execution_count": 71,
     "metadata": {},
     "output_type": "execute_result"
    }
   ],
   "source": [
    "# одномерный массив из пяти единиц:\n",
    "ones(5)"
   ]
  },
  {
   "cell_type": "code",
   "execution_count": 73,
   "id": "51912d53-ca71-4957-998e-fd349147dc4c",
   "metadata": {},
   "outputs": [
    {
     "data": {
      "text/plain": [
       "2×3 Matrix{Float64}:\n",
       " 1.0  1.0  1.0\n",
       " 1.0  1.0  1.0"
      ]
     },
     "execution_count": 73,
     "metadata": {},
     "output_type": "execute_result"
    }
   ],
   "source": [
    "# двумерный массив 2x3 из единиц:\n",
    "ones(2,3)"
   ]
  },
  {
   "cell_type": "code",
   "execution_count": 74,
   "id": "c84be1c2-7620-449b-9e0c-40a83d32187c",
   "metadata": {},
   "outputs": [
    {
     "data": {
      "text/plain": [
       "4-element Vector{Float64}:\n",
       " 0.0\n",
       " 0.0\n",
       " 0.0\n",
       " 0.0"
      ]
     },
     "execution_count": 74,
     "metadata": {},
     "output_type": "execute_result"
    }
   ],
   "source": [
    "# одномерный массив из 4 нулей:\n",
    "zeros(4)"
   ]
  },
  {
   "cell_type": "code",
   "execution_count": 95,
   "id": "0d601f54-9c28-439c-a96e-64689afc33d8",
   "metadata": {},
   "outputs": [
    {
     "data": {
      "text/plain": [
       "3×2 Matrix{Float64}:\n",
       " 3.5  3.5\n",
       " 3.5  3.5\n",
       " 3.5  3.5"
      ]
     },
     "execution_count": 95,
     "metadata": {},
     "output_type": "execute_result"
    }
   ],
   "source": [
    "# заполнить массив 3x2 цифрами 3.5\n",
    "fill(3.5,(3,2))"
   ]
  },
  {
   "cell_type": "code",
   "execution_count": 96,
   "id": "96e6d5b4-ac44-4542-9e39-781e8c141410",
   "metadata": {},
   "outputs": [
    {
     "data": {
      "text/plain": [
       "3×6 Matrix{Int64}:\n",
       " 1  2  1  2  1  2\n",
       " 1  2  1  2  1  2\n",
       " 1  2  1  2  1  2"
      ]
     },
     "execution_count": 96,
     "metadata": {},
     "output_type": "execute_result"
    }
   ],
   "source": [
    "# заполнение массива посредством функции repeat():\n",
    "repeat([1,2],3,3)\n",
    "repeat([1 2],3,3)"
   ]
  },
  {
   "cell_type": "code",
   "execution_count": 81,
   "id": "ec38023f-6012-428b-9908-d5be6ebd806c",
   "metadata": {},
   "outputs": [
    {
     "data": {
      "text/plain": [
       "2×6 Matrix{Int64}:\n",
       " 1  3  5  7   9  11\n",
       " 2  4  6  8  10  12"
      ]
     },
     "execution_count": 81,
     "metadata": {},
     "output_type": "execute_result"
    }
   ],
   "source": [
    "# преобразование одномерного массива из целых чисел от 1 до 12\n",
    "# в двумерный массив 2x6\n",
    "a = collect(1:12)\n",
    "b = reshape(a,(2,6))\n"
   ]
  },
  {
   "cell_type": "code",
   "execution_count": 83,
   "id": "14e4e50d-2b04-4589-9863-65d9c25b6ae7",
   "metadata": {},
   "outputs": [
    {
     "data": {
      "text/plain": [
       "6×2 adjoint(::Matrix{Int64}) with eltype Int64:\n",
       "  1   2\n",
       "  3   4\n",
       "  5   6\n",
       "  7   8\n",
       "  9  10\n",
       " 11  12"
      ]
     },
     "execution_count": 83,
     "metadata": {},
     "output_type": "execute_result"
    }
   ],
   "source": [
    "# транспонирование\n",
    "b'\n"
   ]
  },
  {
   "cell_type": "code",
   "execution_count": 84,
   "id": "e3db12cb-03fe-4203-94c3-c906c6bb4ac7",
   "metadata": {},
   "outputs": [
    {
     "data": {
      "text/plain": [
       "6×2 transpose(::Matrix{Int64}) with eltype Int64:\n",
       "  1   2\n",
       "  3   4\n",
       "  5   6\n",
       "  7   8\n",
       "  9  10\n",
       " 11  12"
      ]
     },
     "execution_count": 84,
     "metadata": {},
     "output_type": "execute_result"
    }
   ],
   "source": [
    "# транспонирование\n",
    "с = transpose(b)"
   ]
  },
  {
   "cell_type": "code",
   "execution_count": 85,
   "id": "a8c81d96-cf2d-4ee0-bb74-875f273454ed",
   "metadata": {},
   "outputs": [
    {
     "data": {
      "text/plain": [
       "10×5 Matrix{Int64}:\n",
       " 15  19  16  16  13\n",
       " 16  13  17  20  16\n",
       " 13  16  14  14  11\n",
       " 15  14  17  12  10\n",
       " 18  14  12  17  20\n",
       " 17  18  17  19  16\n",
       " 13  10  11  19  15\n",
       " 14  11  19  20  20\n",
       " 12  11  18  18  13\n",
       " 13  10  13  10  20"
      ]
     },
     "execution_count": 85,
     "metadata": {},
     "output_type": "execute_result"
    }
   ],
   "source": [
    "# массив 10x5 целых чисел в диапазоне [10, 20]:\n",
    "ar = rand(10:20, 10, 5)"
   ]
  },
  {
   "cell_type": "code",
   "execution_count": 86,
   "id": "3a6ab561-c0ba-4c42-89b2-a876ed3de2c6",
   "metadata": {},
   "outputs": [
    {
     "data": {
      "text/plain": [
       "10-element Vector{Int64}:\n",
       " 19\n",
       " 13\n",
       " 16\n",
       " 14\n",
       " 14\n",
       " 18\n",
       " 10\n",
       " 11\n",
       " 11\n",
       " 10"
      ]
     },
     "execution_count": 86,
     "metadata": {},
     "output_type": "execute_result"
    }
   ],
   "source": [
    "# выбор всех значений строки в столбце 2:\n",
    "ar[:, 2]\n"
   ]
  },
  {
   "cell_type": "code",
   "execution_count": 87,
   "id": "247a13c8-9d36-4551-accb-04b68556967c",
   "metadata": {},
   "outputs": [
    {
     "data": {
      "text/plain": [
       "10×2 Matrix{Int64}:\n",
       " 19  13\n",
       " 13  16\n",
       " 16  11\n",
       " 14  10\n",
       " 14  20\n",
       " 18  16\n",
       " 10  15\n",
       " 11  20\n",
       " 11  13\n",
       " 10  20"
      ]
     },
     "execution_count": 87,
     "metadata": {},
     "output_type": "execute_result"
    }
   ],
   "source": [
    "# выбор всех значений в столбцах 2 и 5:\n",
    "ar[:, [2, 5]]\n"
   ]
  },
  {
   "cell_type": "code",
   "execution_count": 88,
   "id": "c8af6541-7281-4dad-8061-1836080f14b8",
   "metadata": {},
   "outputs": [
    {
     "data": {
      "text/plain": [
       "10×3 Matrix{Int64}:\n",
       " 19  16  16\n",
       " 13  17  20\n",
       " 16  14  14\n",
       " 14  17  12\n",
       " 14  12  17\n",
       " 18  17  19\n",
       " 10  11  19\n",
       " 11  19  20\n",
       " 11  18  18\n",
       " 10  13  10"
      ]
     },
     "execution_count": 88,
     "metadata": {},
     "output_type": "execute_result"
    }
   ],
   "source": [
    "# все значения строк в столбцах 2, 3 и 4:\n",
    "ar[:, 2:4]\n"
   ]
  },
  {
   "cell_type": "code",
   "execution_count": 89,
   "id": "2e873c4c-d8aa-4a10-9e1d-0e314e255add",
   "metadata": {},
   "outputs": [
    {
     "data": {
      "text/plain": [
       "3×2 Matrix{Int64}:\n",
       " 16  16\n",
       " 15  10\n",
       " 17  16"
      ]
     },
     "execution_count": 89,
     "metadata": {},
     "output_type": "execute_result"
    }
   ],
   "source": [
    "# значения в строках 2, 4, 6 и в столбцах 1 и 5:\n",
    "ar[[2, 4, 6], [1, 5]]"
   ]
  },
  {
   "cell_type": "code",
   "execution_count": 90,
   "id": "d282007e-e172-482b-ac07-b787044dcda8",
   "metadata": {},
   "outputs": [
    {
     "data": {
      "text/plain": [
       "3-element Vector{Int64}:\n",
       " 16\n",
       " 16\n",
       " 13"
      ]
     },
     "execution_count": 90,
     "metadata": {},
     "output_type": "execute_result"
    }
   ],
   "source": [
    "# значения в строке 1 от столбца 3 до последнего столбца:\n",
    "ar[1, 3:end]"
   ]
  },
  {
   "cell_type": "code",
   "execution_count": 91,
   "id": "e753ed42-4a2e-4e58-838b-82198c04fc83",
   "metadata": {},
   "outputs": [
    {
     "data": {
      "text/plain": [
       "10×5 Matrix{Int64}:\n",
       " 12  10  11  10  10\n",
       " 13  10  12  12  11\n",
       " 13  11  13  14  13\n",
       " 13  11  14  16  13\n",
       " 14  13  16  17  15\n",
       " 15  14  17  18  16\n",
       " 15  14  17  19  16\n",
       " 16  16  17  19  20\n",
       " 17  18  18  20  20\n",
       " 18  19  19  20  20"
      ]
     },
     "execution_count": 91,
     "metadata": {},
     "output_type": "execute_result"
    }
   ],
   "source": [
    "# сортировка по столбцам:\n",
    "sort(ar,dims=1)\n"
   ]
  },
  {
   "cell_type": "code",
   "execution_count": 92,
   "id": "7b728795-7d45-4c8e-b756-82a93ed16327",
   "metadata": {},
   "outputs": [
    {
     "data": {
      "text/plain": [
       "10×5 Matrix{Int64}:\n",
       " 13  15  16  16  19\n",
       " 13  16  16  17  20\n",
       " 11  13  14  14  16\n",
       " 10  12  14  15  17\n",
       " 12  14  17  18  20\n",
       " 16  17  17  18  19\n",
       " 10  11  13  15  19\n",
       " 11  14  19  20  20\n",
       " 11  12  13  18  18\n",
       " 10  10  13  13  20"
      ]
     },
     "execution_count": 92,
     "metadata": {},
     "output_type": "execute_result"
    }
   ],
   "source": [
    "# сортировка по строкам:\n",
    "sort(ar,dims=2)"
   ]
  },
  {
   "cell_type": "code",
   "execution_count": 93,
   "id": "d4a2eace-8029-4a6e-8cc8-a577e17707eb",
   "metadata": {},
   "outputs": [
    {
     "data": {
      "text/plain": [
       "10×5 BitMatrix:\n",
       " 1  1  1  1  0\n",
       " 1  0  1  1  1\n",
       " 0  1  0  0  0\n",
       " 1  0  1  0  0\n",
       " 1  0  0  1  1\n",
       " 1  1  1  1  1\n",
       " 0  0  0  1  1\n",
       " 0  0  1  1  1\n",
       " 0  0  1  1  0\n",
       " 0  0  0  0  1"
      ]
     },
     "execution_count": 93,
     "metadata": {},
     "output_type": "execute_result"
    }
   ],
   "source": [
    "# поэлементное сравнение с числом\n",
    "# (результат - массив логических значений):\n",
    "ar .> 14\n"
   ]
  },
  {
   "cell_type": "code",
   "execution_count": 94,
   "id": "c7251ab0-85d9-4949-8628-27535aaa8d81",
   "metadata": {},
   "outputs": [
    {
     "data": {
      "text/plain": [
       "27-element Vector{CartesianIndex{2}}:\n",
       " CartesianIndex(1, 1)\n",
       " CartesianIndex(2, 1)\n",
       " CartesianIndex(4, 1)\n",
       " CartesianIndex(5, 1)\n",
       " CartesianIndex(6, 1)\n",
       " CartesianIndex(1, 2)\n",
       " CartesianIndex(3, 2)\n",
       " CartesianIndex(6, 2)\n",
       " CartesianIndex(1, 3)\n",
       " CartesianIndex(2, 3)\n",
       " CartesianIndex(4, 3)\n",
       " CartesianIndex(6, 3)\n",
       " CartesianIndex(8, 3)\n",
       " ⋮\n",
       " CartesianIndex(2, 4)\n",
       " CartesianIndex(5, 4)\n",
       " CartesianIndex(6, 4)\n",
       " CartesianIndex(7, 4)\n",
       " CartesianIndex(8, 4)\n",
       " CartesianIndex(9, 4)\n",
       " CartesianIndex(2, 5)\n",
       " CartesianIndex(5, 5)\n",
       " CartesianIndex(6, 5)\n",
       " CartesianIndex(7, 5)\n",
       " CartesianIndex(8, 5)\n",
       " CartesianIndex(10, 5)"
      ]
     },
     "execution_count": 94,
     "metadata": {},
     "output_type": "execute_result"
    }
   ],
   "source": [
    "# возврат индексов элементов массива, удовлетворяющих условию:\n",
    "findall(ar .> 14)\n"
   ]
  },
  {
   "cell_type": "markdown",
   "id": "d975c2b6-7a10-44db-a9e3-6af427e35a4f",
   "metadata": {},
   "source": [
    "# Самостоятельная работа"
   ]
  },
  {
   "cell_type": "markdown",
   "id": "79dc9527-7dba-45ca-b6e4-c57f7818451b",
   "metadata": {},
   "source": [
    "### 1. Даны множества: 𝐴 = {0, 3, 4, 9}, 𝐵 = {1, 3, 4, 7}, 𝐶 = {0, 1, 2, 4, 7, 8, 9}. Найти 𝑃 = 𝐴 ∩ 𝐵 ∪ 𝐴 ∩ 𝐵 ∪ 𝐴 ∩ 𝐶 ∪ 𝐵 ∩ 𝐶"
   ]
  },
  {
   "cell_type": "code",
   "execution_count": 102,
   "id": "3cda7c9a-b967-4a52-9a1e-b1f10d399497",
   "metadata": {},
   "outputs": [
    {
     "name": "stdout",
     "output_type": "stream",
     "text": [
      "Set([0, 4, 7, 9, 3, 1])"
     ]
    }
   ],
   "source": [
    "A = Set([0, 3, 4, 9])\n",
    "B = Set([1, 3, 4, 7])\n",
    "C = Set([0, 1, 2, 4, 7, 8, 9])\n",
    "P = union(intersect(A,B), intersect(A,B),intersect(A,C),intersect(B,C))\n",
    "print(P)"
   ]
  },
  {
   "cell_type": "markdown",
   "id": "d880689e-d88d-4cdd-b91a-08a045df145c",
   "metadata": {},
   "source": [
    "### 2. Приведите свои примеры с выполнением операций над множествами элементов разных типов.\n"
   ]
  },
  {
   "cell_type": "code",
   "execution_count": 104,
   "id": "b5ce1cef-c446-4b4e-8975-5c3e931ff175",
   "metadata": {},
   "outputs": [
    {
     "data": {
      "text/plain": [
       "true"
      ]
     },
     "execution_count": 104,
     "metadata": {},
     "output_type": "execute_result"
    }
   ],
   "source": [
    "N = Set([2002, 2003, 2004, 2005]) # выпускники кружка Оленьи рога\n",
    "T = Set([2002, 2000, 2001, 2005, 1998, 1997, 1930, 2009, 1992, 1993, 2003, 2004]) # выпускники школы творчества\n",
    "# входят ли выпускники кружка Оленьи рога в список выпускников школы творчества\n",
    "issubset(N,T)"
   ]
  },
  {
   "cell_type": "code",
   "execution_count": 107,
   "id": "5e96492e-1676-4a88-8bbd-a5cc35b83025",
   "metadata": {},
   "outputs": [
    {
     "name": "stdout",
     "output_type": "stream",
     "text": [
      "Set([2004, 2005, 1995, 2002, 1930, 1994, 2003, 1993, 2009, 2000])"
     ]
    }
   ],
   "source": [
    "N = Set([2002, 2003, 2004, 2005]) # выпускники кружка Оленьи рога\n",
    "S = Set([2000, 1993, 1994, 1995]) # выпускники кружка Оленьи копыта\n",
    "R = Set([1930, 2009, 2004, 2005]) # выпускники кружка Оленьи хвостики\n",
    "T = union(N,S,R) # выпускники школы творчества по годам\n",
    "print(T)"
   ]
  },
  {
   "cell_type": "markdown",
   "id": "1edfab0f-3f19-49fb-978c-115cc9caeeda",
   "metadata": {},
   "source": [
    "### 3. Создайте разными способами:\n",
    "### 3.1) массив (1, 2, 3, … 𝑁 − 1, 𝑁 ), 𝑁 выберите больше 20;"
   ]
  },
  {
   "cell_type": "code",
   "execution_count": 118,
   "id": "65e2c8b5-32f2-4103-84ed-c80593b1c34b",
   "metadata": {},
   "outputs": [
    {
     "name": "stdout",
     "output_type": "stream",
     "text": [
      "[1, 2, 3, 4, 5, 6, 7, 8, 9, 10, 11, 12, 13, 14, 15, 16, 17, 18, 19, 20, 21, 22, 23, 24, 25, 26, 27, 28, 29]"
     ]
    }
   ],
   "source": [
    "N = 29\n",
    "Arr1 = collect(1:1:N)\n",
    "print(Arr1)"
   ]
  },
  {
   "cell_type": "markdown",
   "id": "a2e83454-0d15-4d09-95ff-b7e509838455",
   "metadata": {},
   "source": [
    "### 3.2) массив (𝑁, 𝑁 − 1 … , 2, 1), 𝑁 выберите больше 20;"
   ]
  },
  {
   "cell_type": "code",
   "execution_count": 120,
   "id": "222d7fcf-75ba-480e-addd-d55d1b9c5cc8",
   "metadata": {},
   "outputs": [
    {
     "name": "stdout",
     "output_type": "stream",
     "text": [
      "[29, 28, 27, 26, 25, 24, 23, 22, 21, 20, 19, 18, 17, 16, 15, 14, 13, 12, 11, 10, 9, 8, 7, 6, 5, 4, 3, 2, 1]"
     ]
    }
   ],
   "source": [
    "N = 29\n",
    "Arr2 = collect(N:-1:1)\n",
    "print(Arr2)"
   ]
  },
  {
   "cell_type": "markdown",
   "id": "d5c7b146-f034-437f-9ab5-526be3fd76ae",
   "metadata": {},
   "source": [
    "### 3.3) массив (1, 2, 3, … , 𝑁 − 1, 𝑁, 𝑁 − 1, … , 2, 1), 𝑁 выберите больше 20;"
   ]
  },
  {
   "cell_type": "code",
   "execution_count": 130,
   "id": "76dc6f91-79a6-466d-9219-0e2582d98a56",
   "metadata": {},
   "outputs": [
    {
     "name": "stdout",
     "output_type": "stream",
     "text": [
      "[1, 2, 3, 4, 5, 6, 7, 8, 9, 10, 11, 12, 13, 14, 15, 16, 17, 18, 19, 20, 20, 19, 18, 17, 16, 15, 14, 13, 12, 11, 10, 9, 8, 7, 6, 5, 4, 3, 2, 1]"
     ]
    }
   ],
   "source": [
    "N = 20\n",
    "Arr3 = cat(collect(1:1:N),collect(N:-1:1),dims=1)\n",
    "print(Arr3)"
   ]
  },
  {
   "cell_type": "markdown",
   "id": "cf94a8d3-835f-43dc-8e27-18f91a82bb29",
   "metadata": {},
   "source": [
    "### 3.4) массив с именем tmp вида (4, 6, 3);"
   ]
  },
  {
   "cell_type": "code",
   "execution_count": 133,
   "id": "27759d86-4d6c-4fbd-b229-c034f00ae9bc",
   "metadata": {},
   "outputs": [
    {
     "name": "stdout",
     "output_type": "stream",
     "text": [
      "tmp = [4, 6, 3]"
     ]
    }
   ],
   "source": [
    "tmp = [4, 6, 3]\n",
    "print(\"tmp = \", tmp)"
   ]
  },
  {
   "cell_type": "markdown",
   "id": "e1c8f73e-c0d1-4cce-a9c3-cedc05fb0429",
   "metadata": {},
   "source": [
    "### 3.5) массив, в котором первый элемент массива tmp повторяется 10 раз;\n"
   ]
  },
  {
   "cell_type": "code",
   "execution_count": 136,
   "id": "7b4a5d20-e8fe-4f20-b6e1-491d687504fa",
   "metadata": {},
   "outputs": [
    {
     "name": "stdout",
     "output_type": "stream",
     "text": [
      "[4, 4, 4, 4, 4, 4, 4, 4, 4, 4]"
     ]
    }
   ],
   "source": [
    "Arr3_5 = fill(tmp[1], 10)\n",
    "print(Arr3_5)"
   ]
  },
  {
   "cell_type": "markdown",
   "id": "ed96e070-93dd-40ec-8ea5-15a3e0d90a1c",
   "metadata": {},
   "source": [
    "### 3.6) массив, в котором все элементы массива tmp повторяются 10 раз;\n"
   ]
  },
  {
   "cell_type": "code",
   "execution_count": 137,
   "id": "97e5f848-dfba-4a25-a1eb-37ecf844fac2",
   "metadata": {},
   "outputs": [
    {
     "name": "stdout",
     "output_type": "stream",
     "text": [
      "[4, 6, 3, 4, 6, 3, 4, 6, 3, 4, 6, 3, 4, 6, 3, 4, 6, 3, 4, 6, 3, 4, 6, 3, 4, 6, 3, 4, 6, 3]"
     ]
    }
   ],
   "source": [
    "Arr3_6 = repeat(tmp, 10)\n",
    "print(Arr3_6)"
   ]
  },
  {
   "cell_type": "markdown",
   "id": "213ec746-a446-4f37-91c2-fb974def64b4",
   "metadata": {},
   "source": [
    "### 3.7) массив, в котором первый элемент массива tmp встречается 11 раз, второй элемент — 10 раз, третий элемент — 10 раз;"
   ]
  },
  {
   "cell_type": "code",
   "execution_count": 140,
   "id": "e0dbe915-339e-4a53-918a-87c880e7d5ac",
   "metadata": {},
   "outputs": [
    {
     "name": "stdout",
     "output_type": "stream",
     "text": [
      "[4, 4, 4, 4, 4, 4, 4, 4, 4, 4, 4, 6, 6, 6, 6, 6, 6, 6, 6, 6, 6, 3, 3, 3, 3, 3, 3, 3, 3, 3, 3]"
     ]
    }
   ],
   "source": [
    "Arr3_7 = cat(fill(tmp[1],11),fill(tmp[2],10),fill(tmp[3],10), dims = 1)\n",
    "print(Arr3_7)"
   ]
  },
  {
   "cell_type": "markdown",
   "id": "8682403f-aa97-4210-ba3e-79087432a13e",
   "metadata": {},
   "source": [
    "### 3.8) массив, в котором первый элемент массива tmp встречается 10 раз подряд, второй элемент — 20 раз подряд, третий элемент — 30 раз подряд;"
   ]
  },
  {
   "cell_type": "code",
   "execution_count": 141,
   "id": "e344843d-bc76-4c28-8e73-663ef1210225",
   "metadata": {},
   "outputs": [
    {
     "name": "stdout",
     "output_type": "stream",
     "text": [
      "[4, 4, 4, 4, 4, 4, 4, 4, 4, 4, 6, 6, 6, 6, 6, 6, 6, 6, 6, 6, 6, 6, 6, 6, 6, 6, 6, 6, 6, 6, 3, 3, 3, 3, 3, 3, 3, 3, 3, 3, 3, 3, 3, 3, 3, 3, 3, 3, 3, 3, 3, 3, 3, 3, 3, 3, 3, 3, 3, 3]"
     ]
    }
   ],
   "source": [
    "Arr3_8 = cat(fill(tmp[1],10),fill(tmp[2],20),fill(tmp[3],30), dims = 1)\n",
    "print(Arr3_8)"
   ]
  },
  {
   "cell_type": "markdown",
   "id": "5a8e26ef-01dd-4df1-b177-786189d62307",
   "metadata": {},
   "source": [
    "### 3.9) массив из элементов вида 2^𝑡𝑚𝑝[𝑖], 𝑖 = 1, 2, 3, где элемент 2^𝑡𝑚𝑝[3] встречается 4 раза; посчитайте в полученном векторе, сколько раз встречается цифра 6, и выведите это значение на экран;"
   ]
  },
  {
   "cell_type": "code",
   "execution_count": 146,
   "id": "626e3a8d-d5ca-41ff-8a52-41da02e99404",
   "metadata": {},
   "outputs": [
    {
     "name": "stdout",
     "output_type": "stream",
     "text": [
      "[16, 64, 8, 8, 8, 8]"
     ]
    }
   ],
   "source": [
    "#создали массив\n",
    "Arr3_9_1 = [2^tmp[i] for i in 1:1:3]\n",
    "Arr3_9 = cat(Arr3_9_1, repeat([2^tmp[3]],3), dims = 1)\n",
    "print(Arr3_9)"
   ]
  },
  {
   "cell_type": "code",
   "execution_count": 162,
   "id": "66783874-b766-4156-ae0e-83555f14a57b",
   "metadata": {},
   "outputs": [
    {
     "name": "stdout",
     "output_type": "stream",
     "text": [
      "16648888"
     ]
    }
   ],
   "source": [
    "# переводим в строку, сплитуем\n",
    "string_split = join(Arr3_9, \"\")\n",
    "print(string_split)"
   ]
  },
  {
   "cell_type": "code",
   "execution_count": 161,
   "id": "3658b74c-d54c-4e35-9ef0-cdcd4dc6a3c1",
   "metadata": {},
   "outputs": [
    {
     "name": "stdout",
     "output_type": "stream",
     "text": [
      "Цифра 6 встречается 2 раз"
     ]
    }
   ],
   "source": [
    "res = count(x -> x == '6', string_split)\n",
    "print(\"Цифра 6 встречается \", res, \" раз\")"
   ]
  },
  {
   "cell_type": "markdown",
   "id": "455a6694-de53-4c1f-9db1-9d731f4bc264",
   "metadata": {},
   "source": [
    "### 3.10) вектор значений 𝑦 = 𝑒^𝑥 cos(𝑥) в точках 𝑥 = 3, 3.1, 3.2, … , 6, найдите среднее значение 𝑦;"
   ]
  },
  {
   "cell_type": "code",
   "execution_count": 184,
   "id": "542ed34d-1cf1-4de6-8dab-2dd09e375243",
   "metadata": {},
   "outputs": [
    {
     "name": "stdout",
     "output_type": "stream",
     "text": [
      "53.11374594642971\n"
     ]
    }
   ],
   "source": [
    "using Statistics\n",
    "y = [exp(x) * cos(x) for x in 3:0.1:6]\n",
    "println(mean(y))\n",
    "   "
   ]
  },
  {
   "cell_type": "markdown",
   "id": "95c5200e-d67c-4d5b-8c06-012d3e7058c2",
   "metadata": {},
   "source": [
    "### 3.11) вектор вида (𝑥^𝑖, 𝑦^𝑗), 𝑥 = 0.1, 𝑖 = 3, 6, 9, … , 36, 𝑦 = 0.2, 𝑗 = 1, 4, 7, … , 34;"
   ]
  },
  {
   "cell_type": "code",
   "execution_count": 189,
   "id": "d6c3cee0-3960-4ab6-a9e3-dd87de877e51",
   "metadata": {},
   "outputs": [
    {
     "name": "stdout",
     "output_type": "stream",
     "text": [
      "[(0.0010000000000000002, 0.2) (0.0010000000000000002, 0.0016000000000000003) (0.0010000000000000002, 1.2800000000000005e-5) (0.0010000000000000002, 1.0240000000000006e-7) (0.0010000000000000002, 8.192000000000005e-10) (0.0010000000000000002, 6.5536000000000055e-12) (0.0010000000000000002, 5.2428800000000056e-14) (0.0010000000000000002, 4.194304000000005e-16) (0.0010000000000000002, 3.3554432000000048e-18) (0.0010000000000000002, 2.684354560000004e-20) (0.0010000000000000002, 2.1474836480000035e-22) (0.0010000000000000002, 1.717986918400003e-24); (1.0000000000000004e-6, 0.2) (1.0000000000000004e-6, 0.0016000000000000003) (1.0000000000000004e-6, 1.2800000000000005e-5) (1.0000000000000004e-6, 1.0240000000000006e-7) (1.0000000000000004e-6, 8.192000000000005e-10) (1.0000000000000004e-6, 6.5536000000000055e-12) (1.0000000000000004e-6, 5.2428800000000056e-14) (1.0000000000000004e-6, 4.194304000000005e-16) (1.0000000000000004e-6, 3.3554432000000048e-18) (1.0000000000000004e-6, 2.684354560000004e-20) (1.0000000000000004e-6, 2.1474836480000035e-22) (1.0000000000000004e-6, 1.717986918400003e-24); (1.0000000000000005e-9, 0.2) (1.0000000000000005e-9, 0.0016000000000000003) (1.0000000000000005e-9, 1.2800000000000005e-5) (1.0000000000000005e-9, 1.0240000000000006e-7) (1.0000000000000005e-9, 8.192000000000005e-10) (1.0000000000000005e-9, 6.5536000000000055e-12) (1.0000000000000005e-9, 5.2428800000000056e-14) (1.0000000000000005e-9, 4.194304000000005e-16) (1.0000000000000005e-9, 3.3554432000000048e-18) (1.0000000000000005e-9, 2.684354560000004e-20) (1.0000000000000005e-9, 2.1474836480000035e-22) (1.0000000000000005e-9, 1.717986918400003e-24); (1.0000000000000006e-12, 0.2) (1.0000000000000006e-12, 0.0016000000000000003) (1.0000000000000006e-12, 1.2800000000000005e-5) (1.0000000000000006e-12, 1.0240000000000006e-7) (1.0000000000000006e-12, 8.192000000000005e-10) (1.0000000000000006e-12, 6.5536000000000055e-12) (1.0000000000000006e-12, 5.2428800000000056e-14) (1.0000000000000006e-12, 4.194304000000005e-16) (1.0000000000000006e-12, 3.3554432000000048e-18) (1.0000000000000006e-12, 2.684354560000004e-20) (1.0000000000000006e-12, 2.1474836480000035e-22) (1.0000000000000006e-12, 1.717986918400003e-24); (1.0000000000000009e-15, 0.2) (1.0000000000000009e-15, 0.0016000000000000003) (1.0000000000000009e-15, 1.2800000000000005e-5) (1.0000000000000009e-15, 1.0240000000000006e-7) (1.0000000000000009e-15, 8.192000000000005e-10) (1.0000000000000009e-15, 6.5536000000000055e-12) (1.0000000000000009e-15, 5.2428800000000056e-14) (1.0000000000000009e-15, 4.194304000000005e-16) (1.0000000000000009e-15, 3.3554432000000048e-18) (1.0000000000000009e-15, 2.684354560000004e-20) (1.0000000000000009e-15, 2.1474836480000035e-22) (1.0000000000000009e-15, 1.717986918400003e-24); (1.000000000000001e-18, 0.2) (1.000000000000001e-18, 0.0016000000000000003) (1.000000000000001e-18, 1.2800000000000005e-5) (1.000000000000001e-18, 1.0240000000000006e-7) (1.000000000000001e-18, 8.192000000000005e-10) (1.000000000000001e-18, 6.5536000000000055e-12) (1.000000000000001e-18, 5.2428800000000056e-14) (1.000000000000001e-18, 4.194304000000005e-16) (1.000000000000001e-18, 3.3554432000000048e-18) (1.000000000000001e-18, 2.684354560000004e-20) (1.000000000000001e-18, 2.1474836480000035e-22) (1.000000000000001e-18, 1.717986918400003e-24); (1.0000000000000012e-21, 0.2) (1.0000000000000012e-21, 0.0016000000000000003) (1.0000000000000012e-21, 1.2800000000000005e-5) (1.0000000000000012e-21, 1.0240000000000006e-7) (1.0000000000000012e-21, 8.192000000000005e-10) (1.0000000000000012e-21, 6.5536000000000055e-12) (1.0000000000000012e-21, 5.2428800000000056e-14) (1.0000000000000012e-21, 4.194304000000005e-16) (1.0000000000000012e-21, 3.3554432000000048e-18) (1.0000000000000012e-21, 2.684354560000004e-20) (1.0000000000000012e-21, 2.1474836480000035e-22) (1.0000000000000012e-21, 1.717986918400003e-24); (1.0000000000000014e-24, 0.2) (1.0000000000000014e-24, 0.0016000000000000003) (1.0000000000000014e-24, 1.2800000000000005e-5) (1.0000000000000014e-24, 1.0240000000000006e-7) (1.0000000000000014e-24, 8.192000000000005e-10) (1.0000000000000014e-24, 6.5536000000000055e-12) (1.0000000000000014e-24, 5.2428800000000056e-14) (1.0000000000000014e-24, 4.194304000000005e-16) (1.0000000000000014e-24, 3.3554432000000048e-18) (1.0000000000000014e-24, 2.684354560000004e-20) (1.0000000000000014e-24, 2.1474836480000035e-22) (1.0000000000000014e-24, 1.717986918400003e-24); (1.0000000000000015e-27, 0.2) (1.0000000000000015e-27, 0.0016000000000000003) (1.0000000000000015e-27, 1.2800000000000005e-5) (1.0000000000000015e-27, 1.0240000000000006e-7) (1.0000000000000015e-27, 8.192000000000005e-10) (1.0000000000000015e-27, 6.5536000000000055e-12) (1.0000000000000015e-27, 5.2428800000000056e-14) (1.0000000000000015e-27, 4.194304000000005e-16) (1.0000000000000015e-27, 3.3554432000000048e-18) (1.0000000000000015e-27, 2.684354560000004e-20) (1.0000000000000015e-27, 2.1474836480000035e-22) (1.0000000000000015e-27, 1.717986918400003e-24); (1.0000000000000017e-30, 0.2) (1.0000000000000017e-30, 0.0016000000000000003) (1.0000000000000017e-30, 1.2800000000000005e-5) (1.0000000000000017e-30, 1.0240000000000006e-7) (1.0000000000000017e-30, 8.192000000000005e-10) (1.0000000000000017e-30, 6.5536000000000055e-12) (1.0000000000000017e-30, 5.2428800000000056e-14) (1.0000000000000017e-30, 4.194304000000005e-16) (1.0000000000000017e-30, 3.3554432000000048e-18) (1.0000000000000017e-30, 2.684354560000004e-20) (1.0000000000000017e-30, 2.1474836480000035e-22) (1.0000000000000017e-30, 1.717986918400003e-24); (1.0000000000000018e-33, 0.2) (1.0000000000000018e-33, 0.0016000000000000003) (1.0000000000000018e-33, 1.2800000000000005e-5) (1.0000000000000018e-33, 1.0240000000000006e-7) (1.0000000000000018e-33, 8.192000000000005e-10) (1.0000000000000018e-33, 6.5536000000000055e-12) (1.0000000000000018e-33, 5.2428800000000056e-14) (1.0000000000000018e-33, 4.194304000000005e-16) (1.0000000000000018e-33, 3.3554432000000048e-18) (1.0000000000000018e-33, 2.684354560000004e-20) (1.0000000000000018e-33, 2.1474836480000035e-22) (1.0000000000000018e-33, 1.717986918400003e-24); (1.000000000000002e-36, 0.2) (1.000000000000002e-36, 0.0016000000000000003) (1.000000000000002e-36, 1.2800000000000005e-5) (1.000000000000002e-36, 1.0240000000000006e-7) (1.000000000000002e-36, 8.192000000000005e-10) (1.000000000000002e-36, 6.5536000000000055e-12) (1.000000000000002e-36, 5.2428800000000056e-14) (1.000000000000002e-36, 4.194304000000005e-16) (1.000000000000002e-36, 3.3554432000000048e-18) (1.000000000000002e-36, 2.684354560000004e-20) (1.000000000000002e-36, 2.1474836480000035e-22) (1.000000000000002e-36, 1.717986918400003e-24)]\n"
     ]
    }
   ],
   "source": [
    "x = 0.1\n",
    "y = 0.2\n",
    "vec3_11 = [(x^i, y^j) for i = 3:3:36, j  = 1:3:34]\n",
    "println(vec3_11)"
   ]
  },
  {
   "cell_type": "markdown",
   "id": "ddf2c56f-6823-4248-a729-10faa9ea549f",
   "metadata": {},
   "source": [
    "### 3.12)"
   ]
  },
  {
   "cell_type": "code",
   "execution_count": 191,
   "id": "6dc54d11-de9d-4352-80d9-12e5fedd1e67",
   "metadata": {},
   "outputs": [
    {
     "name": "stdout",
     "output_type": "stream",
     "text": [
      "[2.0, 2.0, 2.6666666666666665, 4.0, 6.4, 10.666666666666666, 18.285714285714285, 32.0, 56.888888888888886, 102.4, 186.1818181818182, 341.3333333333333, 630.1538461538462, 1170.2857142857142, 2184.5333333333333, 4096.0, 7710.117647058823, 14563.555555555555, 27594.105263157893, 52428.8, 99864.38095238095, 190650.18181818182, 364722.0869565217, 699050.6666666666, 1.34217728e6]"
     ]
    }
   ],
   "source": [
    "M = 25\n",
    "vec3_12 = [2^i/i for i = 1:1:M]\n",
    "print(vec3_12)"
   ]
  },
  {
   "cell_type": "markdown",
   "id": "e976888d-7ef4-40d4-8b7f-8538342184cd",
   "metadata": {},
   "source": [
    "### 3.13)"
   ]
  },
  {
   "cell_type": "code",
   "execution_count": 192,
   "id": "6e628bb0-fe09-48e8-82d7-292365683d44",
   "metadata": {},
   "outputs": [
    {
     "name": "stdout",
     "output_type": "stream",
     "text": [
      "[\"fn1\", \"fn2\", \"fn3\", \"fn4\", \"fn5\", \"fn6\", \"fn7\", \"fn8\", \"fn9\", \"fn10\", \"fn11\", \"fn12\", \"fn13\", \"fn14\", \"fn15\", \"fn16\", \"fn17\", \"fn18\", \"fn19\", \"fn20\", \"fn21\", \"fn22\", \"fn23\", \"fn24\", \"fn25\", \"fn26\", \"fn27\", \"fn28\", \"fn29\", \"fn30\"]"
     ]
    }
   ],
   "source": [
    "N = 30\n",
    "vec3_13 = [\"fn$i\" for i = 1:1:N]\n",
    "print(vec3_13)"
   ]
  },
  {
   "cell_type": "markdown",
   "id": "e61fb1ad-469e-4a4a-9f33-12ca5cead6b7",
   "metadata": {},
   "source": [
    "### 3.14) "
   ]
  },
  {
   "cell_type": "code",
   "execution_count": 201,
   "id": "371e3e18-a10a-4c12-9efe-cfb88352d9bf",
   "metadata": {},
   "outputs": [
    {
     "name": "stdout",
     "output_type": "stream",
     "text": [
      "[839, 628, 339, -237, -615, 433, -361, 439, -457, 131, 139, -96, -284, -327, 228, -175, -334, 663, 299, 74, -570, -189, 586, -95, -259, 220, 644, -280, 57, 544, 44, -147, -567, -172, 512, -319, 326, 46, 835, 675, -555, -464, -156, -684, 394, 237, 65, -546, -309, 743, -92, 864, 281, 361, -158, -541, -473, 176, 591, -64, 441, -442, -75, -687, -531, 252, -662, 281, 432, 385, 141, 829, 67, 619, -697, 182, 30, 183, -3, 227, -21, 16, -86, -820, 597, -17, -23, -8, -272, 850, -263, -60, 43, 111, 267, 550, 219, 706, 695, -814, 560, 451, 27, 93, 445, -405, 461, -889, 29, 417, 104, -228, 838, 369, -635, 11, -129, 43, 64, 593, -73, -207, 57, -253, 92, -52, 139, -110, -203, 260, 549, 300, -446, 358, 679, 746, 512, 118, -88, -67, 34, -252, 92, 207, 748, 543, 296, 467, -40, -399, -47, -349, 248, -445, 147, -133, 209, 495, -19, -227, 120, -641, -140, -86, 389, -620, 308, -502, 278, 538, -122, -502, 442, 442, 360, 181, -117, -901, -472, -87, -291, -316, 171, 604, 57, -815, 218, 177, 612, -450, 803, 472, 118, 51, 2, 639, -829, -552, 180, -222, 147, -97, 205, 442, -377, 327, 597, 634, -539, -757, -405, 743, 342, 249, 267, -118, -94, 893, -42, 325, -213, 546, -622, -596, 414, -67, -65, -484, -165, 710, -779, 75, -20, -548, 39, -878, 179, 127, -465, -487, -423, 233, -478, 526, 108, -614, -17, 95, -102]"
     ]
    }
   ],
   "source": [
    "x = rand(0:999, 250)\n",
    "y = rand(0:999, 250)\n",
    "\n",
    "task1 = [y[i]-x[i-1] for i=2:1:length(y)]\n",
    "print(task1)"
   ]
  },
  {
   "cell_type": "code",
   "execution_count": 202,
   "id": "9305970e-511f-4cdc-9114-96205c82a2c2",
   "metadata": {},
   "outputs": [
    {
     "name": "stdout",
     "output_type": "stream",
     "text": [
      "[-730, -14, 1724, 2279, 1933, 743, 289, 1081, 1113, 1092, 1153, 1404, 1160, 865, 1793, 1602, 571, 342, 396, 1142, 1361, 228, 158, 1646, 1366, 660, 1016, 596, 458, 888, 1211, 1978, 1434, 985, 2112, 1807, 551, -364, -350, 149, 641, 2409, 2068, 466, 360, 728, 2341, 2086, 778, 408, 186, 334, 786, 1606, 1608, 1815, 2036, 1078, -60, -242, 338, 1326, 2247, 1183, 589, 1629, 1298, 771, 1476, 1620, 383, -832, -335, 1750, 1649, 190, 1210, 2493, 1520, 255, -345, 645, 1856, 840, 385, 1180, 2335, 2023, 613, 330, 312, 588, 1266, 1188, 697, 518, -475, 393, 1649, 456, 667, 1983, 1046, 524, 760, 1083, 2070, 870, -171, 1579, 2493, 455, -627, 704, 1840, 2658, 2528, 237, -748, 1304, 2446, 1575, 845, 273, 378, 766, 742, 794, 289, -225, 487, 1191, 946, 226, 275, 171, 531, 1440, 657, 769, 1497, 1873, 1457, 68, 738, 1009, -211, 934, 2161, 1219, 794, 1371, 1195, 1481, 1705, 517, -799, -231, 1154, 1250, 2038, 2537, 957, 461, 1189, 1167, 1560, 1649, 215, 430, 1614, 1293, 810, -203, -517, 999, 2402, 1082, 407, 1712, 1606, 673, 234, 1184, 1905, 1653, 439, 606, 1495, 1041, 548, 524, 732, -503, -311, 1808, 1544, 728, 1375, 1645, 2313, 1831, 808, 1030, 1041, -222, -647, 1041, 2686, 2165, 670, 540, 928, 1318, 1544, 285, 101, 1454, 1343, 14, -422, 1605, 2157, 1433, 984, 1345, 2119, 307, 370, 1681, 451, 190, 1248, 1985, 1798, 1362, 1666, 1660, 1791, 1457, 1266, 1423, 854, 1479, 1718, 826, 972]"
     ]
    }
   ],
   "source": [
    "task2 = [x[i]+2*x[i+1]-x[i+3] for i=1:1:length(x)-3]\n",
    "print(task2)"
   ]
  },
  {
   "cell_type": "code",
   "execution_count": 204,
   "id": "2e84f4a6-bcb8-4429-a80c-d656bcf2865a",
   "metadata": {},
   "outputs": [
    {
     "name": "stdout",
     "output_type": "stream",
     "text": [
      "0.0040356463379898405"
     ]
    }
   ],
   "source": [
    "n=250\n",
    "res = 0\n",
    "for i in 1:n-1\n",
    "   res += exp(-x[i+1])/(x[i]+10)\n",
    "end\n",
    "print(res)"
   ]
  },
  {
   "cell_type": "code",
   "execution_count": 210,
   "id": "ab409db5-8b7f-4e61-bdd3-8de9b9b75eb3",
   "metadata": {},
   "outputs": [
    {
     "name": "stdout",
     "output_type": "stream",
     "text": [
      "y[1]=613, y[2]=885, y[3]=684, y[4]=791, y[5]=651, y[7]=937, y[12]=857, y[16]=738, y[19]=692, y[20]=769, y[24]=893, y[27]=757, y[28]=892, y[31]=892, y[32]=752, y[36]=897, y[38]=830, y[40]=916, y[41]=694, y[44]=832, y[47]=869, y[51]=744, y[53]=916, y[54]=894, y[55]=789, y[56]=786, y[59]=878, y[60]=879, y[62]=641, y[64]=645, y[69]=736, y[70]=862, y[71]=920, y[72]=685, y[73]=853, y[75]=828, y[77]=938, y[79]=908, y[80]=929, y[81]=650, y[86]=930, y[88]=760, y[89]=776, y[91]=866, y[95]=614, y[96]=750, y[97]=714, y[99]=820, y[100]=903, y[102]=697, y[103]=978, y[104]=829, y[105]=617, y[108]=757, y[111]=635, y[112]=856, y[113]=692, y[114]=981, y[117]=979, y[118]=768, y[119]=890, y[121]=656, y[122]=745, y[123]=771, y[132]=626, y[133]=639, y[135]=626, y[136]=891, y[137]=868, y[138]=978, y[140]=795, y[144]=634, y[145]=857, y[146]=779, y[147]=928, y[148]=940, y[150]=624, y[154]=924, y[161]=726, y[162]=742, y[164]=807, y[166]=656, y[168]=785, y[170]=863, y[171]=803, y[174]=667, y[175]=823, y[182]=703, y[185]=934, y[186]=711, y[188]=672, y[189]=634, y[190]=721, y[192]=872, y[193]=944, y[197]=863, y[201]=720, y[202]=882, y[203]=764, y[204]=972, y[208]=839, y[209]=651, y[213]=856, y[214]=864, y[215]=687, y[216]=884, y[219]=906, y[220]=851, y[221]=604, y[223]=654, y[226]=827, y[227]=697, y[231]=881, y[236]=940, y[238]=823, y[239]=990, y[243]=656, y[245]=921, y[246]=862, y[249]=757, y[250]=733, "
     ]
    }
   ],
   "source": [
    "for i in 1:n\n",
    "    if y[i]>600 \n",
    "        print(\"y[\",i,\"]=\",y[i],\", \")\n",
    "    end   \n",
    "end"
   ]
  },
  {
   "cell_type": "code",
   "execution_count": 215,
   "id": "6195dce9-1ce5-4dbc-9a02-d7280b696715",
   "metadata": {},
   "outputs": [
    {
     "name": "stdout",
     "output_type": "stream",
     "text": [
      "y[1]=613=x[53]=613\n",
      "y[24]=893=x[219]=893\n",
      "y[32]=752=x[111]=752\n",
      "y[36]=897=x[117]=897\n",
      "y[70]=862=x[75]=862\n",
      "y[71]=920=x[112]=920\n",
      "y[75]=828=x[49]=828\n",
      "y[80]=929=x[190]=929\n",
      "y[81]=650=x[144]=650\n",
      "y[89]=776=x[250]=776\n",
      "y[99]=820=x[142]=820\n",
      "y[103]=978=x[122]=978\n",
      "y[105]=617=x[215]=617\n",
      "y[112]=856=x[44]=856\n",
      "y[114]=981=x[150]=981\n",
      "y[121]=656=x[16]=656\n",
      "y[138]=978=x[122]=978\n",
      "y[147]=928=x[178]=928\n",
      "y[148]=940=x[48]=940\n",
      "y[166]=656=x[16]=656\n",
      "y[170]=863=x[238]=863\n",
      "y[174]=667=x[156]=667\n",
      "y[193]=944=x[55]=944\n",
      "y[197]=863=x[238]=863\n",
      "y[201]=720=x[63]=720\n",
      "y[202]=882=x[211]=882\n",
      "y[203]=764=x[226]=764\n",
      "y[213]=856=x[44]=856\n",
      "y[223]=654=x[185]=654\n",
      "y[226]=827=x[234]=827\n",
      "y[236]=940=x[48]=940\n",
      "y[243]=656=x[16]=656\n",
      "y[246]=862=x[75]=862\n"
     ]
    }
   ],
   "source": [
    "for i in 1:n\n",
    "    if y[i]>600 \n",
    "        for j in 1:n\n",
    "            if x[j]==y[i]\n",
    "                print(\"y[\",i,\"]=\",y[i],\"=x[\",j,\"]=\",x[j], \"\\n\")\n",
    "            end\n",
    "        end\n",
    "    end   \n",
    "end"
   ]
  },
  {
   "cell_type": "markdown",
   "id": "b807eadb-ff5a-46cd-931d-f133bf23aaf7",
   "metadata": {},
   "source": [
    "### 4. Создайте массив squares, в котором будут храниться квадраты всех целых чисел от 1 до 100.\n"
   ]
  },
  {
   "cell_type": "code",
   "execution_count": 217,
   "id": "ab619b7d-038a-495d-b181-b03155ddc41f",
   "metadata": {},
   "outputs": [
    {
     "name": "stdout",
     "output_type": "stream",
     "text": [
      "[1, 4, 9, 16, 25, 36, 49, 64, 81, 100, 121, 144, 169, 196, 225, 256, 289, 324, 361, 400, 441, 484, 529, 576, 625, 676, 729, 784, 841, 900, 961, 1024, 1089, 1156, 1225, 1296, 1369, 1444, 1521, 1600, 1681, 1764, 1849, 1936, 2025, 2116, 2209, 2304, 2401, 2500, 2601, 2704, 2809, 2916, 3025, 3136, 3249, 3364, 3481, 3600, 3721, 3844, 3969, 4096, 4225, 4356, 4489, 4624, 4761, 4900, 5041, 5184, 5329, 5476, 5625, 5776, 5929, 6084, 6241, 6400, 6561, 6724, 6889, 7056, 7225, 7396, 7569, 7744, 7921, 8100, 8281, 8464, 8649, 8836, 9025, 9216, 9409, 9604, 9801, 10000]"
     ]
    }
   ],
   "source": [
    "squares = [i^2 for i in 1:1:100]\n",
    "print(squares)"
   ]
  },
  {
   "cell_type": "markdown",
   "id": "713fb8d1-f2bf-4dd3-81ca-d136f66ac089",
   "metadata": {},
   "source": [
    "### 5. Подключите пакет Primes (функции для вычисления простых чисел). Сгенерируйте массив myprimes, в котором будут храниться первые 168 простых чисел. Определите 89-е наименьшее простое число. Получите срез массива с 89-го до 99-го элемента включительно, содержащий наименьшие простые числа."
   ]
  },
  {
   "cell_type": "code",
   "execution_count": 225,
   "id": "a8c6d6c9-27ae-4ae8-958f-00b75b0d5669",
   "metadata": {},
   "outputs": [
    {
     "name": "stdout",
     "output_type": "stream",
     "text": [
      "461\n",
      "[461, 463, 467, 479, 487, 491, 499, 503, 509, 521, 523]\n"
     ]
    }
   ],
   "source": [
    "using Primes\n",
    "\n",
    "# Создаем список простых чисел до 1000 (или другого достаточно большого числа)\n",
    "myprimes = primes(1000)\n",
    "\n",
    "println(myprimes[89])\n",
    "println(myprimes[89:99])"
   ]
  },
  {
   "cell_type": "markdown",
   "id": "64cff9e8-1c10-4dfe-aa07-971cb6724b16",
   "metadata": {},
   "source": [
    "### 6.1)\n"
   ]
  },
  {
   "cell_type": "code",
   "execution_count": 221,
   "id": "3f3f8a7a-9692-43d5-8b3c-d0c490b64630",
   "metadata": {},
   "outputs": [
    {
     "name": "stdout",
     "output_type": "stream",
     "text": [
      "5.3705470004035644e7"
     ]
    }
   ],
   "source": [
    "for i in 10:1:100\n",
    "    res += i^3+4*i^2\n",
    "end\n",
    "print(res)"
   ]
  },
  {
   "cell_type": "markdown",
   "id": "6d215a24-a663-4a96-8010-8d2fa534ce35",
   "metadata": {},
   "source": [
    "### 6.2)\n"
   ]
  },
  {
   "cell_type": "code",
   "execution_count": 226,
   "id": "df7e3161-a397-4c58-a4e4-760a5983821a",
   "metadata": {},
   "outputs": [
    {
     "name": "stdout",
     "output_type": "stream",
     "text": [
      "2.1291704368143802e9\n"
     ]
    }
   ],
   "source": [
    "sum2 = sum((2^i / i + 3^i / i^2) for i in 1:25)\n",
    "println(sum2)"
   ]
  },
  {
   "cell_type": "markdown",
   "id": "ec00d476-4719-46f5-a3e7-0793cd81d5f7",
   "metadata": {},
   "source": [
    "### 6.3)\n"
   ]
  },
  {
   "cell_type": "code",
   "execution_count": 227,
   "id": "f3765afa-3de8-42c0-ae8f-8723b6d39d16",
   "metadata": {},
   "outputs": [
    {
     "name": "stdout",
     "output_type": "stream",
     "text": [
      "12.84175745993532\n"
     ]
    }
   ],
   "source": [
    "sum3 = sum(prod(2:2n) / prod(3:2n+1) for n in 1:19)\n",
    "println(sum3)"
   ]
  },
  {
   "cell_type": "code",
   "execution_count": null,
   "id": "ee0ea432-d62c-4e53-be62-582d2fad7663",
   "metadata": {},
   "outputs": [],
   "source": []
  }
 ],
 "metadata": {
  "kernelspec": {
   "display_name": "Julia 1.10.5",
   "language": "julia",
   "name": "julia-1.10"
  },
  "language_info": {
   "file_extension": ".jl",
   "mimetype": "application/julia",
   "name": "julia",
   "version": "1.10.5"
  }
 },
 "nbformat": 4,
 "nbformat_minor": 5
}
