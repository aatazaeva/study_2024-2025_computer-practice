{
 "cells": [
  {
   "cell_type": "markdown",
   "id": "9b2320fd-b7ca-4ba8-89e7-d4034c471107",
   "metadata": {},
   "source": [
    "# Лабораторная работа №4. Линейная алгебра"
   ]
  },
  {
   "cell_type": "markdown",
   "id": "f6750450-1d8c-45e0-ae62-85f4f78001d6",
   "metadata": {
    "jp-MarkdownHeadingCollapsed": true
   },
   "source": [
    "## 4.2.1 Поэлементные операции над многомерными массивами"
   ]
  },
  {
   "cell_type": "markdown",
   "id": "a9fd05df-2465-46f1-97c3-6c17d9301f96",
   "metadata": {},
   "source": [
    "Для матрицы 4 × 3 рассмотрим поэлементные операции сложения и произведения её\n",
    "элементов:"
   ]
  },
  {
   "cell_type": "code",
   "execution_count": 1,
   "id": "06cd77f8-6fd6-4e7a-af88-12c3d31418fa",
   "metadata": {},
   "outputs": [
    {
     "data": {
      "text/plain": [
       "4×3 Matrix{Int64}:\n",
       " 12  16  11\n",
       " 14   8   3\n",
       "  7  20  16\n",
       " 10  19  10"
      ]
     },
     "execution_count": 1,
     "metadata": {},
     "output_type": "execute_result"
    }
   ],
   "source": [
    "# Массив 4x3 со случайными целыми числами (от 1 до 20):\n",
    "a = rand(1:20,(4,3))"
   ]
  },
  {
   "cell_type": "code",
   "execution_count": 2,
   "id": "4f1e826e-a192-4675-b44e-9d0b4fc22f72",
   "metadata": {},
   "outputs": [
    {
     "data": {
      "text/plain": [
       "146"
      ]
     },
     "execution_count": 2,
     "metadata": {},
     "output_type": "execute_result"
    }
   ],
   "source": [
    "# Поэлементная сумма:\n",
    "sum(a)"
   ]
  },
  {
   "cell_type": "code",
   "execution_count": 3,
   "id": "f99028b8-9569-449e-813c-db55fc109637",
   "metadata": {},
   "outputs": [
    {
     "data": {
      "text/plain": [
       "1×3 Matrix{Int64}:\n",
       " 43  63  40"
      ]
     },
     "execution_count": 3,
     "metadata": {},
     "output_type": "execute_result"
    }
   ],
   "source": [
    "# Поэлементная сумма по столбцам:\n",
    "sum(a,dims=1)"
   ]
  },
  {
   "cell_type": "code",
   "execution_count": 4,
   "id": "da9e138e-2dbe-4214-b410-b616506c493f",
   "metadata": {},
   "outputs": [
    {
     "data": {
      "text/plain": [
       "4×1 Matrix{Int64}:\n",
       " 39\n",
       " 25\n",
       " 43\n",
       " 39"
      ]
     },
     "execution_count": 4,
     "metadata": {},
     "output_type": "execute_result"
    }
   ],
   "source": [
    "# Поэлементная сумма по строкам:\n",
    "sum(a,dims=2)"
   ]
  },
  {
   "cell_type": "code",
   "execution_count": 5,
   "id": "57545665-328e-439f-8d1a-cb04011f3abd",
   "metadata": {},
   "outputs": [
    {
     "data": {
      "text/plain": [
       "3020193792000"
      ]
     },
     "execution_count": 5,
     "metadata": {},
     "output_type": "execute_result"
    }
   ],
   "source": [
    "# Поэлементное произведение:\n",
    "prod(a)"
   ]
  },
  {
   "cell_type": "code",
   "execution_count": 6,
   "id": "24f62900-1600-459b-ac19-45b7658ed9fb",
   "metadata": {},
   "outputs": [
    {
     "data": {
      "text/plain": [
       "1×3 Matrix{Int64}:\n",
       " 11760  48640  5280"
      ]
     },
     "execution_count": 6,
     "metadata": {},
     "output_type": "execute_result"
    }
   ],
   "source": [
    "# Поэлементное произведение по столбцам:\n",
    "prod(a,dims=1)"
   ]
  },
  {
   "cell_type": "code",
   "execution_count": 7,
   "id": "52f237f8-bec4-4ea3-9933-d35c0651831c",
   "metadata": {},
   "outputs": [
    {
     "data": {
      "text/plain": [
       "4×1 Matrix{Int64}:\n",
       " 2112\n",
       "  336\n",
       " 2240\n",
       " 1900"
      ]
     },
     "execution_count": 7,
     "metadata": {},
     "output_type": "execute_result"
    }
   ],
   "source": [
    "# Поэлементное произведение по строкам:\n",
    "prod(a,dims=2)"
   ]
  },
  {
   "cell_type": "markdown",
   "id": "8f73452d-aa85-4baa-b0fc-287431bd66a7",
   "metadata": {},
   "source": [
    "Для работы со средними значениями можно воспользоваться возможностями пакета\n",
    "Statistics:"
   ]
  },
  {
   "cell_type": "code",
   "execution_count": 8,
   "id": "b5bdc5dc-4165-489e-b54d-a23e05dded07",
   "metadata": {},
   "outputs": [
    {
     "name": "stderr",
     "output_type": "stream",
     "text": [
      "\u001b[32m\u001b[1m    Updating\u001b[22m\u001b[39m registry at `C:\\Users\\noname\\.julia\\registries\\General.toml`\n",
      "\u001b[32m\u001b[1m   Resolving\u001b[22m\u001b[39m package versions...\n",
      "\u001b[32m\u001b[1m    Updating\u001b[22m\u001b[39m `C:\\Users\\noname\\.julia\\environments\\v1.10\\Project.toml`\n",
      "  \u001b[90m[10745b16] \u001b[39m\u001b[92m+ Statistics v1.10.0\u001b[39m\n",
      "\u001b[32m\u001b[1m  No Changes\u001b[22m\u001b[39m to `C:\\Users\\noname\\.julia\\environments\\v1.10\\Manifest.toml`\n"
     ]
    }
   ],
   "source": [
    "# Подключение пакета Statistics:\n",
    "import Pkg\n",
    "Pkg.add(\"Statistics\")\n",
    "using Statistics"
   ]
  },
  {
   "cell_type": "code",
   "execution_count": 9,
   "id": "15ca9bae-f98f-4034-b575-00f39428bd2d",
   "metadata": {},
   "outputs": [
    {
     "data": {
      "text/plain": [
       "12.166666666666666"
      ]
     },
     "execution_count": 9,
     "metadata": {},
     "output_type": "execute_result"
    }
   ],
   "source": [
    "# Вычисление среднего значения массива:\n",
    "mean(a)"
   ]
  },
  {
   "cell_type": "code",
   "execution_count": 11,
   "id": "23c2e15e-573a-4718-af28-8eee7af5a387",
   "metadata": {},
   "outputs": [
    {
     "data": {
      "text/plain": [
       "1×3 Matrix{Float64}:\n",
       " 10.75  15.75  10.0"
      ]
     },
     "execution_count": 11,
     "metadata": {},
     "output_type": "execute_result"
    }
   ],
   "source": [
    "# Среднее по столбцам:\n",
    "mean(a,dims=1)"
   ]
  },
  {
   "cell_type": "code",
   "execution_count": 12,
   "id": "f95da71e-b4b6-4a25-a1af-d86807869718",
   "metadata": {},
   "outputs": [
    {
     "data": {
      "text/plain": [
       "4×1 Matrix{Float64}:\n",
       " 13.0\n",
       "  8.333333333333334\n",
       " 14.333333333333334\n",
       " 13.0"
      ]
     },
     "execution_count": 12,
     "metadata": {},
     "output_type": "execute_result"
    }
   ],
   "source": [
    "# Среднее по строкам:\n",
    "mean(a,dims=2)"
   ]
  },
  {
   "cell_type": "markdown",
   "id": "a4e8afa8-50e7-4f19-860f-071406c3bd31",
   "metadata": {
    "jp-MarkdownHeadingCollapsed": true
   },
   "source": [
    "## 4.2.2. Транспонирование, след, ранг, определитель и инверсия матрицы"
   ]
  },
  {
   "cell_type": "markdown",
   "id": "650d5550-68c7-46b2-95e1-6b72e6986874",
   "metadata": {},
   "source": [
    "Для выполнения таких операций над матрицами, как транспонирование, диагонализация, определение следа, ранга, определителя матрицы и т.п. можно воспользоваться\n",
    "библиотекой (пакетом) LinearAlgebra:"
   ]
  },
  {
   "cell_type": "code",
   "execution_count": 14,
   "id": "1b627e5c-a315-49a5-a7b6-b4396ce7fd14",
   "metadata": {},
   "outputs": [
    {
     "name": "stderr",
     "output_type": "stream",
     "text": [
      "\u001b[32m\u001b[1m   Resolving\u001b[22m\u001b[39m package versions...\n",
      "\u001b[32m\u001b[1m    Updating\u001b[22m\u001b[39m `C:\\Users\\noname\\.julia\\environments\\v1.10\\Project.toml`\n",
      "  \u001b[90m[37e2e46d] \u001b[39m\u001b[92m+ LinearAlgebra\u001b[39m\n",
      "\u001b[32m\u001b[1m  No Changes\u001b[22m\u001b[39m to `C:\\Users\\noname\\.julia\\environments\\v1.10\\Manifest.toml`\n"
     ]
    }
   ],
   "source": [
    "# Подключение пакета LinearAlgebra:\n",
    "import Pkg\n",
    "Pkg.add(\"LinearAlgebra\")\n",
    "using LinearAlgebra"
   ]
  },
  {
   "cell_type": "code",
   "execution_count": 15,
   "id": "bd52678e-00b3-4b6f-8acd-b5d876ab8200",
   "metadata": {},
   "outputs": [
    {
     "data": {
      "text/plain": [
       "4×4 Matrix{Int64}:\n",
       "  6  17   3   1\n",
       " 13  16   7  13\n",
       "  3  17  16   2\n",
       " 18   5  17  14"
      ]
     },
     "execution_count": 15,
     "metadata": {},
     "output_type": "execute_result"
    }
   ],
   "source": [
    "# Массив 4x4 со случайными целыми числами (от 1 до 20):\n",
    "b = rand(1:20,(4,4))"
   ]
  },
  {
   "cell_type": "code",
   "execution_count": 16,
   "id": "124a1aff-987b-4e98-a8ae-35a754d0fcfc",
   "metadata": {},
   "outputs": [
    {
     "data": {
      "text/plain": [
       "4×4 transpose(::Matrix{Int64}) with eltype Int64:\n",
       "  6  13   3  18\n",
       " 17  16  17   5\n",
       "  3   7  16  17\n",
       "  1  13   2  14"
      ]
     },
     "execution_count": 16,
     "metadata": {},
     "output_type": "execute_result"
    }
   ],
   "source": [
    "# Транспонирование:\n",
    "transpose(b)"
   ]
  },
  {
   "cell_type": "code",
   "execution_count": 17,
   "id": "4ba770ec-b00b-47f5-98a7-a5a9a1165873",
   "metadata": {},
   "outputs": [
    {
     "data": {
      "text/plain": [
       "52"
      ]
     },
     "execution_count": 17,
     "metadata": {},
     "output_type": "execute_result"
    }
   ],
   "source": [
    "# След матрицы (сумма диагональных элементов):\n",
    "tr(b)"
   ]
  },
  {
   "cell_type": "code",
   "execution_count": 18,
   "id": "c631d6c1-240a-449a-b7c4-11f303a49521",
   "metadata": {},
   "outputs": [
    {
     "data": {
      "text/plain": [
       "4-element Vector{Int64}:\n",
       "  6\n",
       " 16\n",
       " 16\n",
       " 14"
      ]
     },
     "execution_count": 18,
     "metadata": {},
     "output_type": "execute_result"
    }
   ],
   "source": [
    "# Извлечение диагональных элементов как массив:\n",
    "diag(b)"
   ]
  },
  {
   "cell_type": "code",
   "execution_count": 19,
   "id": "b8da6683-df7b-43f0-a13c-47102d9a601a",
   "metadata": {},
   "outputs": [
    {
     "data": {
      "text/plain": [
       "4"
      ]
     },
     "execution_count": 19,
     "metadata": {},
     "output_type": "execute_result"
    }
   ],
   "source": [
    "# Ранг матрицы:\n",
    "rank(b)"
   ]
  },
  {
   "cell_type": "code",
   "execution_count": 20,
   "id": "2b512782-aff8-41d2-a652-d2d4980448d6",
   "metadata": {},
   "outputs": [
    {
     "data": {
      "text/plain": [
       "4×4 Matrix{Float64}:\n",
       "  0.144229   -0.0954939  -0.0807972   0.0899133\n",
       "  0.0226343   0.0306759   0.0168804  -0.032513\n",
       " -0.0317158  -0.0337955   0.0559792   0.0256499\n",
       " -0.155009    0.15286     0.0298787  -0.0637088"
      ]
     },
     "execution_count": 20,
     "metadata": {},
     "output_type": "execute_result"
    }
   ],
   "source": [
    "# Инверсия матрицы (определение обратной матрицы):\n",
    "inv(b)"
   ]
  },
  {
   "cell_type": "code",
   "execution_count": 21,
   "id": "e140950f-fd42-463d-82c5-d53a5f152d0f",
   "metadata": {},
   "outputs": [
    {
     "data": {
      "text/plain": [
       "28849.999999999996"
      ]
     },
     "execution_count": 21,
     "metadata": {},
     "output_type": "execute_result"
    }
   ],
   "source": [
    "# Определитель матрицы:\n",
    "det(b)"
   ]
  },
  {
   "cell_type": "code",
   "execution_count": 22,
   "id": "8a968804-c105-4545-94ee-c23cb0858011",
   "metadata": {},
   "outputs": [
    {
     "data": {
      "text/plain": [
       "3×4 Matrix{Float64}:\n",
       "  0.0481157   0.0830063  -0.00431273  -0.0709288\n",
       " -0.0786708  -0.0502929  -0.0702102    0.213962\n",
       "  0.099349    0.0137191   0.138918    -0.235668"
      ]
     },
     "execution_count": 22,
     "metadata": {},
     "output_type": "execute_result"
    }
   ],
   "source": [
    "# Псевдобратная функция для прямоугольных матриц:\n",
    "pinv(a)"
   ]
  },
  {
   "cell_type": "markdown",
   "id": "1ee6ed60-cadb-47b6-8295-3d0da8c0dbac",
   "metadata": {
    "jp-MarkdownHeadingCollapsed": true
   },
   "source": [
    "## 4.2.3. Вычисление нормы векторов и матриц, повороты, вращения"
   ]
  },
  {
   "cell_type": "markdown",
   "id": "8d5c42d2-7317-4d78-be03-f520b8d46a7b",
   "metadata": {},
   "source": [
    "Для вычисления нормы используется LinearAlgebra.norm(x)."
   ]
  },
  {
   "cell_type": "code",
   "execution_count": 23,
   "id": "6c0493c9-d70e-42a0-97c1-ffc1be0fb096",
   "metadata": {},
   "outputs": [
    {
     "data": {
      "text/plain": [
       "3-element Vector{Int64}:\n",
       "  2\n",
       "  4\n",
       " -5"
      ]
     },
     "execution_count": 23,
     "metadata": {},
     "output_type": "execute_result"
    }
   ],
   "source": [
    "# Создание вектора X:\n",
    "X = [2, 4, -5]"
   ]
  },
  {
   "cell_type": "code",
   "execution_count": 26,
   "id": "12f1a80b-c5ac-4b66-aefc-7585f6e726af",
   "metadata": {},
   "outputs": [
    {
     "data": {
      "text/plain": [
       "6.708203932499369"
      ]
     },
     "execution_count": 26,
     "metadata": {},
     "output_type": "execute_result"
    }
   ],
   "source": [
    "# Вычисление евклидовой нормы:\n",
    "norm(X)"
   ]
  },
  {
   "cell_type": "code",
   "execution_count": 27,
   "id": "b0295c3e-aca9-4d59-ab63-6e81b87fa0f1",
   "metadata": {},
   "outputs": [
    {
     "data": {
      "text/plain": [
       "11.0"
      ]
     },
     "execution_count": 27,
     "metadata": {},
     "output_type": "execute_result"
    }
   ],
   "source": [
    "# Вычисление p-нормы:\n",
    "p = 1\n",
    "norm(X,p)"
   ]
  },
  {
   "cell_type": "code",
   "execution_count": 28,
   "id": "cd249155-d84f-4897-a0f8-538dc64fe12f",
   "metadata": {},
   "outputs": [
    {
     "data": {
      "text/plain": [
       "9.486832980505138"
      ]
     },
     "execution_count": 28,
     "metadata": {},
     "output_type": "execute_result"
    }
   ],
   "source": [
    "# Расстояние между двумя векторами X и Y:\n",
    "X = [2, 4, -5];\n",
    "Y = [1,-1,3];\n",
    "norm(X-Y)"
   ]
  },
  {
   "cell_type": "code",
   "execution_count": 29,
   "id": "5d08c1f8-889f-4fb4-8a2f-f18daf5fdebc",
   "metadata": {},
   "outputs": [
    {
     "data": {
      "text/plain": [
       "9.486832980505138"
      ]
     },
     "execution_count": 29,
     "metadata": {},
     "output_type": "execute_result"
    }
   ],
   "source": [
    "# Проверка по базовому определению:\n",
    "sqrt(sum((X-Y).^2))"
   ]
  },
  {
   "cell_type": "code",
   "execution_count": 30,
   "id": "45e44ec3-8b6f-4ec7-a541-7ed064398ad5",
   "metadata": {},
   "outputs": [
    {
     "data": {
      "text/plain": [
       "2.4404307889469252"
      ]
     },
     "execution_count": 30,
     "metadata": {},
     "output_type": "execute_result"
    }
   ],
   "source": [
    "# Угол между двумя векторами:\n",
    "acos((transpose(X)*Y)/(norm(X)*norm(Y)))"
   ]
  },
  {
   "cell_type": "code",
   "execution_count": 31,
   "id": "b5a4d7de-4b8b-4843-91c4-05308b8d19c7",
   "metadata": {},
   "outputs": [
    {
     "data": {
      "text/plain": [
       "3×3 Matrix{Int64}:\n",
       "  5  -4  2\n",
       " -1   2  3\n",
       " -2   1  0"
      ]
     },
     "execution_count": 31,
     "metadata": {},
     "output_type": "execute_result"
    }
   ],
   "source": [
    "# Создание матрицы:\n",
    "d = [5 -4 2 ; -1 2 3; -2 1 0]"
   ]
  },
  {
   "cell_type": "code",
   "execution_count": 32,
   "id": "40eb2f05-1eed-4c9e-aaf2-50e3c7ab026f",
   "metadata": {},
   "outputs": [
    {
     "data": {
      "text/plain": [
       "7.147682841795258"
      ]
     },
     "execution_count": 32,
     "metadata": {},
     "output_type": "execute_result"
    }
   ],
   "source": [
    "# Вычисление Евклидовой нормы:\n",
    "opnorm(d)\n"
   ]
  },
  {
   "cell_type": "code",
   "execution_count": 33,
   "id": "7fdce795-89aa-4acd-8b15-02d9e80e66b9",
   "metadata": {},
   "outputs": [
    {
     "data": {
      "text/plain": [
       "8.0"
      ]
     },
     "execution_count": 33,
     "metadata": {},
     "output_type": "execute_result"
    }
   ],
   "source": [
    "# Вычисление p-нормы:\n",
    "p=1\n",
    "opnorm(d,p)"
   ]
  },
  {
   "cell_type": "code",
   "execution_count": 34,
   "id": "f0180a5a-201c-4f72-912b-a1f33f44d8bb",
   "metadata": {},
   "outputs": [
    {
     "data": {
      "text/plain": [
       "3×3 Matrix{Int64}:\n",
       " 0   1  -2\n",
       " 3   2  -1\n",
       " 2  -4   5"
      ]
     },
     "execution_count": 34,
     "metadata": {},
     "output_type": "execute_result"
    }
   ],
   "source": [
    "# Поворот на 180 градусов:\n",
    "rot180(d)"
   ]
  },
  {
   "cell_type": "code",
   "execution_count": 35,
   "id": "f7ec41bf-ed5d-4b92-bdb2-6888a846c9d9",
   "metadata": {},
   "outputs": [
    {
     "data": {
      "text/plain": [
       "3×3 Matrix{Int64}:\n",
       " -2   1  0\n",
       " -1   2  3\n",
       "  5  -4  2"
      ]
     },
     "execution_count": 35,
     "metadata": {},
     "output_type": "execute_result"
    }
   ],
   "source": [
    "# Переворачивание строк:\n",
    "reverse(d,dims=1)"
   ]
  },
  {
   "cell_type": "code",
   "execution_count": 36,
   "id": "46f19e67-820f-44c8-8552-b7b032e0ba22",
   "metadata": {},
   "outputs": [
    {
     "data": {
      "text/plain": [
       "3×3 Matrix{Int64}:\n",
       " 2  -4   5\n",
       " 3   2  -1\n",
       " 0   1  -2"
      ]
     },
     "execution_count": 36,
     "metadata": {},
     "output_type": "execute_result"
    }
   ],
   "source": [
    "# Переворачивание столбцов\n",
    "reverse(d,dims=2)"
   ]
  },
  {
   "cell_type": "markdown",
   "id": "5f1706b3-0971-4a93-ac7d-957a89c08d7b",
   "metadata": {
    "jp-MarkdownHeadingCollapsed": true
   },
   "source": [
    "## 4.2.4. Матричное умножение, единичная матрица, скалярное произведение\n"
   ]
  },
  {
   "cell_type": "code",
   "execution_count": 38,
   "id": "78cdb108-5938-403d-9e31-8680315272eb",
   "metadata": {},
   "outputs": [
    {
     "data": {
      "text/plain": [
       "2×3 Matrix{Int64}:\n",
       " 10  6  9\n",
       "  9  5  9"
      ]
     },
     "execution_count": 38,
     "metadata": {},
     "output_type": "execute_result"
    }
   ],
   "source": [
    "# Матрица 2x3 со случайными целыми значениями от 1 до 10:\n",
    "A = rand(1:10,(2,3))"
   ]
  },
  {
   "cell_type": "code",
   "execution_count": 39,
   "id": "fb283411-e4c8-40d9-9c46-43453e2e4ef4",
   "metadata": {},
   "outputs": [
    {
     "data": {
      "text/plain": [
       "3×4 Matrix{Int64}:\n",
       " 2  5  1  4\n",
       " 7  1  1  4\n",
       " 5  4  6  3"
      ]
     },
     "execution_count": 39,
     "metadata": {},
     "output_type": "execute_result"
    }
   ],
   "source": [
    "# Матрица 3x4 со случайными целыми значениями от 1 до 10:\n",
    "B = rand(1:10,(3,4))"
   ]
  },
  {
   "cell_type": "code",
   "execution_count": 40,
   "id": "75a84a4a-4530-4408-a501-ab0de06f1fb3",
   "metadata": {},
   "outputs": [
    {
     "data": {
      "text/plain": [
       "2×4 Matrix{Int64}:\n",
       " 107  92  70  91\n",
       "  98  86  68  83"
      ]
     },
     "execution_count": 40,
     "metadata": {},
     "output_type": "execute_result"
    }
   ],
   "source": [
    "# Произведение матриц A и B:\n",
    "A*B"
   ]
  },
  {
   "cell_type": "code",
   "execution_count": 41,
   "id": "7c5cd55e-5f5b-434d-8e17-f0d41da1c33d",
   "metadata": {},
   "outputs": [
    {
     "data": {
      "text/plain": [
       "3×3 Matrix{Int64}:\n",
       " 1  0  0\n",
       " 0  1  0\n",
       " 0  0  1"
      ]
     },
     "execution_count": 41,
     "metadata": {},
     "output_type": "execute_result"
    }
   ],
   "source": [
    "# Единичная матрица 3x3:\n",
    "Matrix{Int}(I, 3, 3)"
   ]
  },
  {
   "cell_type": "code",
   "execution_count": 42,
   "id": "392abc4f-511f-4c3e-90de-7835325d4d34",
   "metadata": {},
   "outputs": [
    {
     "data": {
      "text/plain": [
       "-17"
      ]
     },
     "execution_count": 42,
     "metadata": {},
     "output_type": "execute_result"
    }
   ],
   "source": [
    "# Скалярное произведение векторов X и Y:\n",
    "X = [2, 4, -5]\n",
    "Y = [1,-1,3]\n",
    "dot(X,Y)"
   ]
  },
  {
   "cell_type": "code",
   "execution_count": 43,
   "id": "3481cced-9fe7-4ecb-ac8e-39b7f84c3b88",
   "metadata": {},
   "outputs": [
    {
     "data": {
      "text/plain": [
       "-17"
      ]
     },
     "execution_count": 43,
     "metadata": {},
     "output_type": "execute_result"
    }
   ],
   "source": [
    "# тоже скалярное произведение:\n",
    "X'Y"
   ]
  },
  {
   "cell_type": "markdown",
   "id": "033c0f39-9455-41ae-b731-8218026d5623",
   "metadata": {
    "jp-MarkdownHeadingCollapsed": true
   },
   "source": [
    "## 4.2.5. Факторизация. Специальные матричные структуры"
   ]
  },
  {
   "cell_type": "code",
   "execution_count": 44,
   "id": "f6df1d5d-e430-482c-8eb0-4ea05d0d4b93",
   "metadata": {},
   "outputs": [
    {
     "data": {
      "text/plain": [
       "3×3 Matrix{Float64}:\n",
       " 0.864238  0.047893  0.296736\n",
       " 0.111947  0.576321  0.608906\n",
       " 0.905204  0.412095  0.025299"
      ]
     },
     "execution_count": 44,
     "metadata": {},
     "output_type": "execute_result"
    }
   ],
   "source": [
    "# Задаём квадратную матрицу 3x3 со случайными значениями:\n",
    "A = rand(3, 3)"
   ]
  },
  {
   "cell_type": "code",
   "execution_count": 45,
   "id": "04c997ee-808b-4ab5-ac9d-fecb8e78f099",
   "metadata": {},
   "outputs": [
    {
     "data": {
      "text/plain": [
       "3-element Vector{Float64}:\n",
       " 1.0\n",
       " 1.0\n",
       " 1.0"
      ]
     },
     "execution_count": 45,
     "metadata": {},
     "output_type": "execute_result"
    }
   ],
   "source": [
    "# Задаём единичный вектор:\n",
    "x = fill(1.0, 3)"
   ]
  },
  {
   "cell_type": "code",
   "execution_count": 46,
   "id": "3dac81cf-5ec0-4e21-9fc0-0cab6bc28b2d",
   "metadata": {},
   "outputs": [
    {
     "data": {
      "text/plain": [
       "3-element Vector{Float64}:\n",
       " 1.2088667026265363\n",
       " 1.2971737068077844\n",
       " 1.3425980522157972"
      ]
     },
     "execution_count": 46,
     "metadata": {},
     "output_type": "execute_result"
    }
   ],
   "source": [
    "# Задаём вектор b:\n",
    "b = A*x"
   ]
  },
  {
   "cell_type": "code",
   "execution_count": 47,
   "id": "e5b0c6f8-e42e-4047-9c35-5234be82f9eb",
   "metadata": {},
   "outputs": [
    {
     "data": {
      "text/plain": [
       "3-element Vector{Float64}:\n",
       " 0.9999999999999999\n",
       " 1.0000000000000004\n",
       " 0.9999999999999999"
      ]
     },
     "execution_count": 47,
     "metadata": {},
     "output_type": "execute_result"
    }
   ],
   "source": [
    "# Решение исходного уравнения получаем с помощью функции \\\n",
    "# (убеждаемся, что x - единичный вектор):\n",
    "A\\b"
   ]
  },
  {
   "cell_type": "code",
   "execution_count": 48,
   "id": "3bb6355a-fedc-4cee-81ae-f1813eae1431",
   "metadata": {},
   "outputs": [
    {
     "data": {
      "text/plain": [
       "LU{Float64, Matrix{Float64}, Vector{Int64}}\n",
       "L factor:\n",
       "3×3 Matrix{Float64}:\n",
       " 1.0        0.0       0.0\n",
       " 0.12367    1.0       0.0\n",
       " 0.954744  -0.657747  1.0\n",
       "U factor:\n",
       "3×3 Matrix{Float64}:\n",
       " 0.905204  0.412095  0.025299\n",
       " 0.0       0.525357  0.605777\n",
       " 0.0       0.0       0.67103"
      ]
     },
     "execution_count": 48,
     "metadata": {},
     "output_type": "execute_result"
    }
   ],
   "source": [
    "# LU-факторизация:\n",
    "Alu = lu(A)"
   ]
  },
  {
   "cell_type": "code",
   "execution_count": 49,
   "id": "75690bd0-bf9c-4de4-a6aa-492f6a2acfc1",
   "metadata": {},
   "outputs": [
    {
     "data": {
      "text/plain": [
       "3×3 Matrix{Float64}:\n",
       " 0.0  0.0  1.0\n",
       " 0.0  1.0  0.0\n",
       " 1.0  0.0  0.0"
      ]
     },
     "execution_count": 49,
     "metadata": {},
     "output_type": "execute_result"
    }
   ],
   "source": [
    "# Матрица перестановок:\n",
    "Alu.P"
   ]
  },
  {
   "cell_type": "code",
   "execution_count": 50,
   "id": "168d84ff-f5ff-4fb6-965b-ee70af738b80",
   "metadata": {},
   "outputs": [
    {
     "data": {
      "text/plain": [
       "3-element Vector{Int64}:\n",
       " 3\n",
       " 2\n",
       " 1"
      ]
     },
     "execution_count": 50,
     "metadata": {},
     "output_type": "execute_result"
    }
   ],
   "source": [
    "# Вектор перестановок:\n",
    "Alu.p"
   ]
  },
  {
   "cell_type": "code",
   "execution_count": 51,
   "id": "2f7b43fd-0a0e-4b58-a20c-db9184b39a96",
   "metadata": {},
   "outputs": [
    {
     "data": {
      "text/plain": [
       "3×3 Matrix{Float64}:\n",
       " 1.0        0.0       0.0\n",
       " 0.12367    1.0       0.0\n",
       " 0.954744  -0.657747  1.0"
      ]
     },
     "execution_count": 51,
     "metadata": {},
     "output_type": "execute_result"
    }
   ],
   "source": [
    "# Матрица L:\n",
    "Alu.L"
   ]
  },
  {
   "cell_type": "code",
   "execution_count": 52,
   "id": "27fbbf07-a5ca-4291-89b6-b830664f29d0",
   "metadata": {},
   "outputs": [
    {
     "data": {
      "text/plain": [
       "3×3 Matrix{Float64}:\n",
       " 0.905204  0.412095  0.025299\n",
       " 0.0       0.525357  0.605777\n",
       " 0.0       0.0       0.67103"
      ]
     },
     "execution_count": 52,
     "metadata": {},
     "output_type": "execute_result"
    }
   ],
   "source": [
    "# Матрица U:\n",
    "Alu.U\n"
   ]
  },
  {
   "cell_type": "code",
   "execution_count": 54,
   "id": "f4a6f129-41d8-4f6a-9d0b-a9ead8ce584f",
   "metadata": {},
   "outputs": [
    {
     "data": {
      "text/plain": [
       "3-element Vector{Float64}:\n",
       " 0.9999999999999999\n",
       " 1.0000000000000004\n",
       " 0.9999999999999999"
      ]
     },
     "execution_count": 54,
     "metadata": {},
     "output_type": "execute_result"
    }
   ],
   "source": [
    "# Решение СЛАУ через матрицу A:\n",
    "A\\b"
   ]
  },
  {
   "cell_type": "code",
   "execution_count": 55,
   "id": "e873e53e-9957-47ae-afce-821e78773d75",
   "metadata": {},
   "outputs": [
    {
     "data": {
      "text/plain": [
       "3-element Vector{Float64}:\n",
       " 0.9999999999999999\n",
       " 1.0000000000000004\n",
       " 0.9999999999999999"
      ]
     },
     "execution_count": 55,
     "metadata": {},
     "output_type": "execute_result"
    }
   ],
   "source": [
    "# Решение СЛАУ через объект факторизации:\n",
    "Alu\\b"
   ]
  },
  {
   "cell_type": "code",
   "execution_count": 56,
   "id": "6c05d9cb-b6f6-4646-ae63-c74b004402e2",
   "metadata": {},
   "outputs": [
    {
     "data": {
      "text/plain": [
       "-0.31911178560927134"
      ]
     },
     "execution_count": 56,
     "metadata": {},
     "output_type": "execute_result"
    }
   ],
   "source": [
    "# Детерминант матрицы A:\n",
    "det(A)"
   ]
  },
  {
   "cell_type": "code",
   "execution_count": 57,
   "id": "a80f154e-1898-4217-a7ec-586a4444df88",
   "metadata": {},
   "outputs": [
    {
     "data": {
      "text/plain": [
       "-0.31911178560927134"
      ]
     },
     "execution_count": 57,
     "metadata": {},
     "output_type": "execute_result"
    }
   ],
   "source": [
    "# Детерминант матрицы A через объект факторизации:\n",
    "det(Alu)"
   ]
  },
  {
   "cell_type": "code",
   "execution_count": 58,
   "id": "95eaba18-c15c-4f5a-b74c-04ae1e523fcf",
   "metadata": {},
   "outputs": [
    {
     "data": {
      "text/plain": [
       "LinearAlgebra.QRCompactWY{Float64, Matrix{Float64}, Matrix{Float64}}\n",
       "Q factor: 3×3 LinearAlgebra.QRCompactWYQ{Float64, Matrix{Float64}, Matrix{Float64}}\n",
       "R factor:\n",
       "3×3 Matrix{Float64}:\n",
       " -1.25652  -0.381163  -0.276571\n",
       "  0.0      -0.599146  -0.450881\n",
       "  0.0       0.0       -0.423879"
      ]
     },
     "execution_count": 58,
     "metadata": {},
     "output_type": "execute_result"
    }
   ],
   "source": [
    "# QR-факторизация:\n",
    "Aqr = qr(A)"
   ]
  },
  {
   "cell_type": "code",
   "execution_count": 59,
   "id": "7250cd99-b124-42eb-a2b0-ef2c3ab90ec1",
   "metadata": {},
   "outputs": [
    {
     "data": {
      "text/plain": [
       "3×3 LinearAlgebra.QRCompactWYQ{Float64, Matrix{Float64}, Matrix{Float64}}"
      ]
     },
     "execution_count": 59,
     "metadata": {},
     "output_type": "execute_result"
    }
   ],
   "source": [
    "# Матрица Q:\n",
    "Aqr.Q"
   ]
  },
  {
   "cell_type": "code",
   "execution_count": 60,
   "id": "3f6008ad-7fe9-480d-8096-cbd2e47767d8",
   "metadata": {},
   "outputs": [
    {
     "data": {
      "text/plain": [
       "3×3 Matrix{Float64}:\n",
       " -1.25652  -0.381163  -0.276571\n",
       "  0.0      -0.599146  -0.450881\n",
       "  0.0       0.0       -0.423879"
      ]
     },
     "execution_count": 60,
     "metadata": {},
     "output_type": "execute_result"
    }
   ],
   "source": [
    "# Матрица R:\n",
    "Aqr.R"
   ]
  },
  {
   "cell_type": "code",
   "execution_count": 61,
   "id": "b37ef167-d085-4784-9292-20cc0fb1b415",
   "metadata": {},
   "outputs": [
    {
     "data": {
      "text/plain": [
       "3×3 Matrix{Float64}:\n",
       "  1.0          -5.55112e-17  -2.22045e-16\n",
       " -5.55112e-17   1.0           0.0\n",
       "  0.0          -2.77556e-17   1.0"
      ]
     },
     "execution_count": 61,
     "metadata": {},
     "output_type": "execute_result"
    }
   ],
   "source": [
    "# Проверка, что матрица Q - ортогональная:\n",
    "Aqr.Q'*Aqr.Q"
   ]
  },
  {
   "cell_type": "code",
   "execution_count": 62,
   "id": "37972b8e-6756-4639-a462-928c3e84dc67",
   "metadata": {},
   "outputs": [
    {
     "data": {
      "text/plain": [
       "3×3 Matrix{Float64}:\n",
       " 1.72848  0.15984  1.20194\n",
       " 0.15984  1.15264  1.021\n",
       " 1.20194  1.021    0.0505981"
      ]
     },
     "execution_count": 62,
     "metadata": {},
     "output_type": "execute_result"
    }
   ],
   "source": [
    "# Симметризация матрицы A:\n",
    "Asym = A + A'"
   ]
  },
  {
   "cell_type": "code",
   "execution_count": 63,
   "id": "47133221-d4f8-4217-b67b-842d8d78a650",
   "metadata": {},
   "outputs": [
    {
     "data": {
      "text/plain": [
       "Eigen{Float64, Float64, Matrix{Float64}, Vector{Float64}}\n",
       "values:\n",
       "3-element Vector{Float64}:\n",
       " -0.9278506612480992\n",
       "  1.210394183881841\n",
       "  2.6491722846568964\n",
       "vectors:\n",
       "3×3 Matrix{Float64}:\n",
       " -0.360356   0.563092  -0.743687\n",
       " -0.388501  -0.815412  -0.42915\n",
       "  0.848063  -0.134277  -0.5126"
      ]
     },
     "execution_count": 63,
     "metadata": {},
     "output_type": "execute_result"
    }
   ],
   "source": [
    "# Спектральное разложение симметризованной матрицы:\n",
    "AsymEig = eigen(Asym)"
   ]
  },
  {
   "cell_type": "code",
   "execution_count": 64,
   "id": "ebde3f80-e088-431b-a75f-b4173ba3d9b8",
   "metadata": {},
   "outputs": [
    {
     "data": {
      "text/plain": [
       "3-element Vector{Float64}:\n",
       " -0.9278506612480992\n",
       "  1.210394183881841\n",
       "  2.6491722846568964"
      ]
     },
     "execution_count": 64,
     "metadata": {},
     "output_type": "execute_result"
    }
   ],
   "source": [
    "# Собственные значения:\n",
    "AsymEig.values"
   ]
  },
  {
   "cell_type": "code",
   "execution_count": 65,
   "id": "96def8bb-729d-42ba-a2da-125aab2acd38",
   "metadata": {},
   "outputs": [
    {
     "data": {
      "text/plain": [
       "3×3 Matrix{Float64}:\n",
       " -0.360356   0.563092  -0.743687\n",
       " -0.388501  -0.815412  -0.42915\n",
       "  0.848063  -0.134277  -0.5126"
      ]
     },
     "execution_count": 65,
     "metadata": {},
     "output_type": "execute_result"
    }
   ],
   "source": [
    "#Собственные векторы:\n",
    "AsymEig.vectors"
   ]
  },
  {
   "cell_type": "code",
   "execution_count": 66,
   "id": "f3e1899f-c1e3-4997-a735-c258ce35488b",
   "metadata": {},
   "outputs": [
    {
     "data": {
      "text/plain": [
       "3×3 Matrix{Float64}:\n",
       "  1.0           7.77156e-16  -1.79717e-15\n",
       "  1.11022e-15   1.0          -2.31065e-15\n",
       " -1.44329e-15  -1.33227e-15   1.0"
      ]
     },
     "execution_count": 66,
     "metadata": {},
     "output_type": "execute_result"
    }
   ],
   "source": [
    "# Проверяем, что получится единичная матрица:\n",
    "inv(AsymEig)*Asym"
   ]
  },
  {
   "cell_type": "code",
   "execution_count": 67,
   "id": "a834e8ca-e173-4829-977e-112add086d20",
   "metadata": {},
   "outputs": [
    {
     "data": {
      "text/plain": [
       "1000×1000 Matrix{Float64}:\n",
       "  2.19285    -0.203836    -0.103273     …  -0.909326   -0.298896   -0.447254\n",
       " -1.36178    -0.481902     0.273846        -2.08176    -1.27384     0.499166\n",
       "  0.153118   -0.233767    -0.000475136      1.1163      0.728795   -1.90254\n",
       "  1.30331    -0.434552    -0.882395         0.981311   -0.886795    0.103826\n",
       " -0.303965    1.08214     -0.551418        -0.147686    0.262795   -0.027409\n",
       " -0.663906   -0.899368     0.970914     …  -0.389082    0.592738   -2.41238\n",
       " -1.03966    -0.497489    -2.3856           0.0364925  -1.24394    -0.775035\n",
       "  1.12831     0.527358     0.603145         0.489353   -0.104209    0.303103\n",
       "  0.175333    1.82005     -0.486617        -2.7132      1.37432    -0.150241\n",
       " -1.26523     0.707745     0.687306        -0.0489637  -1.58209     0.148833\n",
       " -0.667659   -0.515426    -0.16479      …   1.98028     0.0550471   2.25569\n",
       "  0.095021   -0.807626    -2.35982         -0.413266    0.884884    0.31678\n",
       " -0.440273    0.813584     0.260801         0.348857   -0.473017   -0.44644\n",
       "  ⋮                                     ⋱                          \n",
       " -0.132116   -0.0836488   -0.288347         1.38898    -0.65251    -0.653463\n",
       " -1.63134    -1.34896     -0.785904        -0.836209    0.081227    0.619173\n",
       " -2.36992    -0.323129    -0.363965     …   0.959243   -0.514897   -0.893038\n",
       "  1.02646     0.81706     -1.42407          0.032199   -0.0400734   0.299567\n",
       "  0.743982   -0.0819928    0.225784        -0.864048   -0.139328   -0.952318\n",
       "  0.0623309   0.351927    -1.03596          1.50514     1.51397    -1.58751\n",
       "  0.735683    1.42331     -0.828013         0.0222915  -1.11745    -0.66401\n",
       " -1.13764     0.577429     2.00824      …   0.489667    0.741438   -0.872922\n",
       "  0.549425   -0.947777     0.0993995       -0.443631    0.403207   -0.0846101\n",
       " -0.593794    1.64745     -0.755579         1.53028     1.5275      0.858405\n",
       " -0.582778   -0.123311    -0.740383        -0.876742   -2.34931     0.0222653\n",
       " -1.23398    -0.00141133   1.68334          0.120417    0.308467    0.919258"
      ]
     },
     "execution_count": 67,
     "metadata": {},
     "output_type": "execute_result"
    }
   ],
   "source": [
    "# Матрица 1000 х 1000:\n",
    "n = 1000\n",
    "A = randn(n,n)"
   ]
  },
  {
   "cell_type": "code",
   "execution_count": 68,
   "id": "18288b89-139a-4dcb-99c0-1ba8e4730f42",
   "metadata": {},
   "outputs": [
    {
     "data": {
      "text/plain": [
       "1000×1000 Matrix{Float64}:\n",
       "  4.3857     -1.56562     0.0498451    …  -1.50312    -0.881674   -1.68123\n",
       " -1.56562    -0.963804    0.0400785       -0.434309   -1.39715     0.497754\n",
       "  0.0498451   0.0400785  -0.000950272      0.360719   -0.0115871  -0.219204\n",
       "  2.20287     0.215512   -0.768132         1.48248    -1.83755    -0.76036\n",
       "  0.363262   -1.44285     0.106468        -0.0283797  -0.288146   -0.386915\n",
       "  0.0024686  -1.88582     2.28941      …  -1.90362     1.053      -2.11197\n",
       " -1.41888    -0.875925   -3.1872          -0.657832   -0.37505     1.1387\n",
       " -1.15831     2.15132     0.17002         -1.009      -2.86324    -0.395011\n",
       " -0.278502    3.2931      0.722829        -3.84815    -0.294068   -1.24753\n",
       " -1.99846     2.24704     1.45751          0.329734   -1.68883    -0.847801\n",
       " -0.808516    1.13326     1.28287      …   0.987441    0.512006    2.51426\n",
       " -0.62509    -1.40031    -1.82745         -1.11705     0.878112    0.479338\n",
       " -2.02785     0.75282    -0.374771        -0.683586   -0.136066   -0.76388\n",
       "  ⋮                                    ⋱                          \n",
       " -0.397111   -1.19159    -0.979037         0.823281   -0.122234   -1.33216\n",
       " -3.1966     -2.65899    -0.375706        -1.51361     1.12864    -0.223736\n",
       " -2.96087    -0.975189    1.18317      …   1.23615     0.120324   -0.187071\n",
       "  0.168559    0.709492    0.986045         1.52024     0.617901    0.62749\n",
       "  1.95971    -0.294972   -0.83371         -0.858578   -2.07474    -1.19684\n",
       "  1.68905     0.210703   -3.12648          0.11519     3.21676     0.101217\n",
       "  1.76754     1.38379     1.33866         -0.459305   -1.08834    -0.400925\n",
       " -0.511127    0.898405    2.3848       …  -0.498868    1.7833     -0.0286943\n",
       "  1.32117     1.23314    -0.96193         -1.91705    -0.566147    0.494599\n",
       " -1.50312    -0.434309    0.360719         3.06056     0.650756    0.978822\n",
       " -0.881674   -1.39715    -0.0115871        0.650756   -4.69863     0.330732\n",
       " -1.68123     0.497754   -0.219204         0.978822    0.330732    1.83852"
      ]
     },
     "execution_count": 68,
     "metadata": {},
     "output_type": "execute_result"
    }
   ],
   "source": [
    "# Симметризация матрицы:\n",
    "Asym = A + A'"
   ]
  },
  {
   "cell_type": "code",
   "execution_count": 69,
   "id": "04557c43-f446-4d0b-8960-105074a49549",
   "metadata": {},
   "outputs": [
    {
     "data": {
      "text/plain": [
       "true"
      ]
     },
     "execution_count": 69,
     "metadata": {},
     "output_type": "execute_result"
    }
   ],
   "source": [
    "# Проверка, является ли матрица симметричной:\n",
    "issymmetric(Asym)"
   ]
  },
  {
   "cell_type": "code",
   "execution_count": 70,
   "id": "151ae144-2a2f-4cf4-93a1-0144eaeab593",
   "metadata": {},
   "outputs": [
    {
     "data": {
      "text/plain": [
       "-1.5656173059919998"
      ]
     },
     "execution_count": 70,
     "metadata": {},
     "output_type": "execute_result"
    }
   ],
   "source": [
    "# Добавление шума:\n",
    "Asym_noisy = copy(Asym)\n",
    "Asym_noisy[1,2] += 5eps()"
   ]
  },
  {
   "cell_type": "code",
   "execution_count": 71,
   "id": "c2f50e8b-e454-4f1e-93a7-f0247181cbb4",
   "metadata": {},
   "outputs": [
    {
     "data": {
      "text/plain": [
       "false"
      ]
     },
     "execution_count": 71,
     "metadata": {},
     "output_type": "execute_result"
    }
   ],
   "source": [
    "# Проверка, является ли матрица симметричной:\n",
    "issymmetric(Asym_noisy)"
   ]
  },
  {
   "cell_type": "code",
   "execution_count": 72,
   "id": "6eb8a5a3-2d21-459c-a019-b792ae1fc2e3",
   "metadata": {},
   "outputs": [
    {
     "data": {
      "text/plain": [
       "1000×1000 Symmetric{Float64, Matrix{Float64}}:\n",
       "  4.3857     -1.56562     0.0498451    …  -1.50312    -0.881674   -1.68123\n",
       " -1.56562    -0.963804    0.0400785       -0.434309   -1.39715     0.497754\n",
       "  0.0498451   0.0400785  -0.000950272      0.360719   -0.0115871  -0.219204\n",
       "  2.20287     0.215512   -0.768132         1.48248    -1.83755    -0.76036\n",
       "  0.363262   -1.44285     0.106468        -0.0283797  -0.288146   -0.386915\n",
       "  0.0024686  -1.88582     2.28941      …  -1.90362     1.053      -2.11197\n",
       " -1.41888    -0.875925   -3.1872          -0.657832   -0.37505     1.1387\n",
       " -1.15831     2.15132     0.17002         -1.009      -2.86324    -0.395011\n",
       " -0.278502    3.2931      0.722829        -3.84815    -0.294068   -1.24753\n",
       " -1.99846     2.24704     1.45751          0.329734   -1.68883    -0.847801\n",
       " -0.808516    1.13326     1.28287      …   0.987441    0.512006    2.51426\n",
       " -0.62509    -1.40031    -1.82745         -1.11705     0.878112    0.479338\n",
       " -2.02785     0.75282    -0.374771        -0.683586   -0.136066   -0.76388\n",
       "  ⋮                                    ⋱                          \n",
       " -0.397111   -1.19159    -0.979037         0.823281   -0.122234   -1.33216\n",
       " -3.1966     -2.65899    -0.375706        -1.51361     1.12864    -0.223736\n",
       " -2.96087    -0.975189    1.18317      …   1.23615     0.120324   -0.187071\n",
       "  0.168559    0.709492    0.986045         1.52024     0.617901    0.62749\n",
       "  1.95971    -0.294972   -0.83371         -0.858578   -2.07474    -1.19684\n",
       "  1.68905     0.210703   -3.12648          0.11519     3.21676     0.101217\n",
       "  1.76754     1.38379     1.33866         -0.459305   -1.08834    -0.400925\n",
       " -0.511127    0.898405    2.3848       …  -0.498868    1.7833     -0.0286943\n",
       "  1.32117     1.23314    -0.96193         -1.91705    -0.566147    0.494599\n",
       " -1.50312    -0.434309    0.360719         3.06056     0.650756    0.978822\n",
       " -0.881674   -1.39715    -0.0115871        0.650756   -4.69863     0.330732\n",
       " -1.68123     0.497754   -0.219204         0.978822    0.330732    1.83852"
      ]
     },
     "execution_count": 72,
     "metadata": {},
     "output_type": "execute_result"
    }
   ],
   "source": [
    "# Явно указываем, что матрица является симметричной:\n",
    "Asym_explicit = Symmetric(Asym_noisy)"
   ]
  },
  {
   "cell_type": "code",
   "execution_count": 73,
   "id": "0903c143-4e58-4429-a200-392f1ca0c2d6",
   "metadata": {},
   "outputs": [
    {
     "name": "stderr",
     "output_type": "stream",
     "text": [
      "\u001b[32m\u001b[1m   Resolving\u001b[22m\u001b[39m package versions...\n",
      "\u001b[32m\u001b[1m   Installed\u001b[22m\u001b[39m BenchmarkTools ─ v1.5.0\n",
      "\u001b[32m\u001b[1m    Updating\u001b[22m\u001b[39m `C:\\Users\\noname\\.julia\\environments\\v1.10\\Project.toml`\n",
      "  \u001b[90m[6e4b80f9] \u001b[39m\u001b[92m+ BenchmarkTools v1.5.0\u001b[39m\n",
      "\u001b[32m\u001b[1m    Updating\u001b[22m\u001b[39m `C:\\Users\\noname\\.julia\\environments\\v1.10\\Manifest.toml`\n",
      "  \u001b[90m[6e4b80f9] \u001b[39m\u001b[92m+ BenchmarkTools v1.5.0\u001b[39m\n",
      "  \u001b[90m[9abbd945] \u001b[39m\u001b[92m+ Profile\u001b[39m\n",
      "\u001b[32m\u001b[1mPrecompiling\u001b[22m\u001b[39m project...\n",
      "\u001b[32m  ✓ \u001b[39mBenchmarkTools\n",
      "  1 dependency successfully precompiled in 2 seconds. 27 already precompiled.\n"
     ]
    }
   ],
   "source": [
    "import Pkg\n",
    "Pkg.add(\"BenchmarkTools\")\n",
    "using BenchmarkTools\n"
   ]
  },
  {
   "cell_type": "code",
   "execution_count": 74,
   "id": "e5b9b6e4-da03-4680-a522-178002301b8d",
   "metadata": {},
   "outputs": [
    {
     "name": "stdout",
     "output_type": "stream",
     "text": [
      "  49.327 ms (11 allocations: 7.99 MiB)\n"
     ]
    }
   ],
   "source": [
    "# Оценка эффективности выполнения операции по нахождению\n",
    "# собственных значений симметризованной матрицы:\n",
    "@btime eigvals(Asym);"
   ]
  },
  {
   "cell_type": "code",
   "execution_count": 75,
   "id": "31e01dda-77e8-42ad-88a7-cdd10a30b439",
   "metadata": {},
   "outputs": [
    {
     "name": "stdout",
     "output_type": "stream",
     "text": [
      "  318.474 ms (14 allocations: 7.93 MiB)\n"
     ]
    }
   ],
   "source": [
    "# Оценка эффективности выполнения операции по нахождению\n",
    "# собственных значений зашумлённой матрицы:\n",
    "@btime eigvals(Asym_noisy);"
   ]
  },
  {
   "cell_type": "code",
   "execution_count": 76,
   "id": "a0b08f8a-2ebf-43a1-8e93-05bcec11fcc8",
   "metadata": {},
   "outputs": [
    {
     "name": "stdout",
     "output_type": "stream",
     "text": [
      "  49.202 ms (11 allocations: 7.99 MiB)\n"
     ]
    }
   ],
   "source": [
    "# Оценка эффективности выполнения операции по нахождению\n",
    "# собственных значений зашумлённой матрицы,\n",
    "# для которой явно указано, что она симметричная:\n",
    "@btime eigvals(Asym_explicit);"
   ]
  },
  {
   "cell_type": "code",
   "execution_count": 77,
   "id": "1d1bf4c5-0c89-499d-a1ec-9b87caa977de",
   "metadata": {},
   "outputs": [
    {
     "data": {
      "text/plain": [
       "1000000×1000000 SymTridiagonal{Float64, Vector{Float64}}:\n",
       " -0.808385   1.63285     ⋅        …    ⋅          ⋅          ⋅ \n",
       "  1.63285   -0.725208   0.383688       ⋅          ⋅          ⋅ \n",
       "   ⋅         0.383688   1.0559         ⋅          ⋅          ⋅ \n",
       "   ⋅          ⋅        -1.02373        ⋅          ⋅          ⋅ \n",
       "   ⋅          ⋅          ⋅             ⋅          ⋅          ⋅ \n",
       "   ⋅          ⋅          ⋅        …    ⋅          ⋅          ⋅ \n",
       "   ⋅          ⋅          ⋅             ⋅          ⋅          ⋅ \n",
       "   ⋅          ⋅          ⋅             ⋅          ⋅          ⋅ \n",
       "   ⋅          ⋅          ⋅             ⋅          ⋅          ⋅ \n",
       "   ⋅          ⋅          ⋅             ⋅          ⋅          ⋅ \n",
       "   ⋅          ⋅          ⋅        …    ⋅          ⋅          ⋅ \n",
       "   ⋅          ⋅          ⋅             ⋅          ⋅          ⋅ \n",
       "   ⋅          ⋅          ⋅             ⋅          ⋅          ⋅ \n",
       "  ⋮                               ⋱                        \n",
       "   ⋅          ⋅          ⋅             ⋅          ⋅          ⋅ \n",
       "   ⋅          ⋅          ⋅             ⋅          ⋅          ⋅ \n",
       "   ⋅          ⋅          ⋅        …    ⋅          ⋅          ⋅ \n",
       "   ⋅          ⋅          ⋅             ⋅          ⋅          ⋅ \n",
       "   ⋅          ⋅          ⋅             ⋅          ⋅          ⋅ \n",
       "   ⋅          ⋅          ⋅             ⋅          ⋅          ⋅ \n",
       "   ⋅          ⋅          ⋅             ⋅          ⋅          ⋅ \n",
       "   ⋅          ⋅          ⋅        …    ⋅          ⋅          ⋅ \n",
       "   ⋅          ⋅          ⋅            1.70881     ⋅          ⋅ \n",
       "   ⋅          ⋅          ⋅           -0.734384  -1.33803     ⋅ \n",
       "   ⋅          ⋅          ⋅           -1.33803    0.622077  -0.742882\n",
       "   ⋅          ⋅          ⋅             ⋅        -0.742882  -1.72441"
      ]
     },
     "execution_count": 77,
     "metadata": {},
     "output_type": "execute_result"
    }
   ],
   "source": [
    "# Трёхдиагональная матрица 1000000 х 1000000:\n",
    "n = 1000000;\n",
    "A = SymTridiagonal(randn(n), randn(n-1))"
   ]
  },
  {
   "cell_type": "code",
   "execution_count": 78,
   "id": "7c61ca0c-5c04-4612-aa5a-f501c4d29a3a",
   "metadata": {},
   "outputs": [
    {
     "name": "stdout",
     "output_type": "stream",
     "text": [
      "  380.616 ms (17 allocations: 183.11 MiB)"
     ]
    },
    {
     "data": {
      "text/plain": [
       "6.2206458591422695"
      ]
     },
     "execution_count": 78,
     "metadata": {},
     "output_type": "execute_result"
    },
    {
     "name": "stdout",
     "output_type": "stream",
     "text": [
      "\n"
     ]
    }
   ],
   "source": [
    "# Оценка эффективности выполнения операции по нахождению\n",
    "# собственных значений:\n",
    "@btime eigmax(A)"
   ]
  },
  {
   "cell_type": "code",
   "execution_count": 79,
   "id": "2fe8b3e8-e621-459f-92ff-3ab7729d069c",
   "metadata": {},
   "outputs": [
    {
     "ename": "LoadError",
     "evalue": "OutOfMemoryError()",
     "output_type": "error",
     "traceback": [
      "OutOfMemoryError()",
      "",
      "Stacktrace:",
      " [1] Array",
      "   @ .\\boot.jl:479 [inlined]",
      " [2] Matrix{Float64}(M::SymTridiagonal{Float64, Vector{Float64}})",
      "   @ LinearAlgebra c:\\users\\noname\\appdata\\local\\programs\\julia-1.10.5\\share\\julia\\stdlib\\v1.10\\LinearAlgebra\\src\\tridiag.jl:127",
      " [3] (Matrix)(M::SymTridiagonal{Float64, Vector{Float64}})",
      "   @ LinearAlgebra c:\\users\\noname\\appdata\\local\\programs\\julia-1.10.5\\share\\julia\\stdlib\\v1.10\\LinearAlgebra\\src\\tridiag.jl:138",
      " [4] top-level scope",
      "   @ In[79]:1"
     ]
    }
   ],
   "source": [
    "B = Matrix(A)"
   ]
  },
  {
   "cell_type": "markdown",
   "id": "69e7a515-dcd2-401a-b974-bcf15b406d8c",
   "metadata": {
    "jp-MarkdownHeadingCollapsed": true
   },
   "source": [
    "## 4.2.6. Общая линейная алгебра"
   ]
  },
  {
   "cell_type": "code",
   "execution_count": 80,
   "id": "54c23032-e64e-4068-8890-64137165733b",
   "metadata": {},
   "outputs": [
    {
     "data": {
      "text/plain": [
       "3×3 Matrix{Rational{BigInt}}:\n",
       " 3//5   7//10  9//10\n",
       " 7//10  1//10  3//10\n",
       " 4//5   1//2   1//5"
      ]
     },
     "execution_count": 80,
     "metadata": {},
     "output_type": "execute_result"
    }
   ],
   "source": [
    "# Матрица с рациональными элементами:\n",
    "Arational = Matrix{Rational{BigInt}}(rand(1:10, 3, 3))/10"
   ]
  },
  {
   "cell_type": "code",
   "execution_count": 81,
   "id": "ca87db05-1b34-490c-a41e-e2b5aa15e362",
   "metadata": {},
   "outputs": [
    {
     "data": {
      "text/plain": [
       "3-element Vector{Int64}:\n",
       " 1\n",
       " 1\n",
       " 1"
      ]
     },
     "execution_count": 81,
     "metadata": {},
     "output_type": "execute_result"
    }
   ],
   "source": [
    "# Единичный вектор:\n",
    "x = fill(1, 3)\n"
   ]
  },
  {
   "cell_type": "code",
   "execution_count": 82,
   "id": "b1800534-5b39-4b8f-96b9-ebf3ef149d1d",
   "metadata": {},
   "outputs": [
    {
     "data": {
      "text/plain": [
       "3-element Vector{Rational{BigInt}}:\n",
       " 11//5\n",
       " 11//10\n",
       "  3//2"
      ]
     },
     "execution_count": 82,
     "metadata": {},
     "output_type": "execute_result"
    }
   ],
   "source": [
    "# Задаём вектор b:\n",
    "b = Arational*x"
   ]
  },
  {
   "cell_type": "code",
   "execution_count": 83,
   "id": "1700aba7-ab1c-467c-80b4-169d5e468372",
   "metadata": {},
   "outputs": [
    {
     "data": {
      "text/plain": [
       "3-element Vector{Rational{BigInt}}:\n",
       " 1\n",
       " 1\n",
       " 1"
      ]
     },
     "execution_count": 83,
     "metadata": {},
     "output_type": "execute_result"
    }
   ],
   "source": [
    "# Решение исходного уравнения получаем с помощью функции \\\n",
    "# (убеждаемся, что x - единичный вектор):\n",
    "Arational\\b"
   ]
  },
  {
   "cell_type": "code",
   "execution_count": 84,
   "id": "63a15758-03bf-491a-886e-5fa0c8cfa483",
   "metadata": {},
   "outputs": [
    {
     "data": {
      "text/plain": [
       "LU{Rational{BigInt}, Matrix{Rational{BigInt}}, Vector{Int64}}\n",
       "L factor:\n",
       "3×3 Matrix{Rational{BigInt}}:\n",
       "  1       0     0\n",
       " 7//8     1     0\n",
       " 3//4  -26//27  1\n",
       "U factor:\n",
       "3×3 Matrix{Rational{BigInt}}:\n",
       " 4//5    1//2    1//5\n",
       "  0    -27//80   1//8\n",
       "  0       0     47//54"
      ]
     },
     "execution_count": 84,
     "metadata": {},
     "output_type": "execute_result"
    }
   ],
   "source": [
    "# LU-разложение:\n",
    "lu(Arational)"
   ]
  },
  {
   "cell_type": "markdown",
   "id": "75f666a4-bc1e-4172-aa98-db9b17f911ae",
   "metadata": {},
   "source": [
    "# Задания для самостоятельного выполнения"
   ]
  },
  {
   "cell_type": "markdown",
   "id": "b52a9a7f-bc88-4d1b-a15b-c7d7be98a477",
   "metadata": {},
   "source": [
    "## 1. Произведение векторов\n",
    "1. Задайте вектор v. Умножьте вектор v скалярно сам на себя и сохраните результат\n",
    "в dot_v.\n",
    "2. Умножьте v матрично на себя (внешнее произведение), присвоив результат переменной outer_v."
   ]
  },
  {
   "cell_type": "code",
   "execution_count": 88,
   "id": "c27aaf23-705f-4b2a-8b6e-b54fb9d23fed",
   "metadata": {},
   "outputs": [
    {
     "name": "stdout",
     "output_type": "stream",
     "text": [
      "dot_v = 14\n",
      "outer_v = [1 2 3; 2 4 6; 3 6 9]\n"
     ]
    }
   ],
   "source": [
    "#вектор v\n",
    "v = [ 1, 2, 3]\n",
    "dot_v = v'v\n",
    "outer_v = v*v'\n",
    "println(\"dot_v = \", dot_v)\n",
    "println(\"outer_v = \", outer_v)"
   ]
  },
  {
   "cell_type": "markdown",
   "id": "ecc8feb1-97da-458c-b136-9f0d414caaa4",
   "metadata": {},
   "source": [
    "## 2. Системы линейных уравнений\n",
    "1. Решить СЛАУ с двумя неизвестными.\n",
    "2. Решить СЛАУ с тремя неизвестными."
   ]
  },
  {
   "cell_type": "code",
   "execution_count": 116,
   "id": "383733d1-b97d-434f-9ef0-aeb1f1cf8aa1",
   "metadata": {},
   "outputs": [
    {
     "name": "stdout",
     "output_type": "stream",
     "text": [
      "\n",
      "СЛАУ с 2-мя неизвестными\n",
      "[2.5, -0.5]\n",
      "Определитель матрицы равен 0 - решения не существует\n",
      "Определитель матрицы равен 0 - решения не существует\n",
      "[0.4999999999999999, 0.5]\n",
      "[1.5000000000000004, -0.9999999999999997]\n",
      "[-0.9999999999999989, 2.9999999999999982]\n",
      "\n",
      "СЛАУ с 3-мя неизвестными\n",
      "[2.2142857142857144, 0.35714285714285704, -0.5714285714285712]\n",
      "[-0.5, 2.5, 0.0]\n",
      "Определитель матрицы равен 0 - решения не существует\n",
      "Определитель матрицы равен 0 - решения не существует\n"
     ]
    }
   ],
   "source": [
    "# СЛАУ с 2-мя неизвестными\n",
    "# если определитель отличен от 0, то находим обратную матрицу. Иначе решения нет\n",
    "# определить детерминант не квадратного уравнения не удастся\n",
    "function res_x(A, B)\n",
    "    if size(A,1) == size(A,2)\n",
    "        if det(A) != 0\n",
    "            println(A \\ B)\n",
    "        else\n",
    "            println(\"Определитель матрицы равен 0 - решения не существует\")\n",
    "        end\n",
    "    else\n",
    "        println(A \\ B)\n",
    "    end\n",
    "end\n",
    "println(\"\\nСЛАУ с 2-мя неизвестными\")\n",
    "res_x([1 1; 1 -1], [2; 3]) # решение пункта a)\n",
    "res_x([1 1; 2 2], [2; 4]) # решение пункта b)\n",
    "res_x([1 1; 2 2], [2; 5]) # решение пункта c)\n",
    "res_x([1 1; 2 2; 3 3], [1; 2; 3]) # решение пункта d)\n",
    "res_x([1 1; 2 1; 1 -1], [2; 1; 3]) # решение пункта e)\n",
    "res_x([1 1; 2 1; 3 2], [2; 1; 3]) # решение пункта f)\n",
    "# \n",
    "println(\"\\nСЛАУ с 3-мя неизвестными\")\n",
    "res_x([1 1 1; 1 -1 -2], [2; 3]) # решение пункта a)\n",
    "res_x([1 1 1; 2 2 -3; 3 1 1], [2; 4; 1]) # решение пункта b)\n",
    "res_x([1 1 1; 1 1 2; 2 2 3], [1; 0; 1]) # решение пункта c)\n",
    "res_x([1 1 1; 1 1 2; 2 2 3], [1; 0; 0]) # решение пункта d)"
   ]
  },
  {
   "cell_type": "markdown",
   "id": "3850c603-d40b-4377-b18b-dce3f8f30c52",
   "metadata": {},
   "source": [
    "## 3. Операции с матрицами\n",
    "1. Приведите приведённые ниже матрицы к диагональному виду\n",
    "2. Вычислите\n",
    "3. Найдите собственные значения матрицы 𝐴, если (условие) Создайте диагональную матрицу из собственных значений матрицы 𝐴. Создайте нижнедиагональную матрицу из матрица 𝐴. Оцените эффективность выполняемых операций\n"
   ]
  },
  {
   "cell_type": "code",
   "execution_count": 143,
   "id": "3edeaeeb-1c32-478d-bdcb-ce9ac166f1ce",
   "metadata": {
    "collapsed": true,
    "jupyter": {
     "outputs_hidden": true,
     "source_hidden": true
    }
   },
   "outputs": [
    {
     "name": "stdout",
     "output_type": "stream",
     "text": [
      "Диагональный вид матрицы из пункта а: \n"
     ]
    },
    {
     "data": {
      "text/plain": [
       "2×2 Matrix{Float64}:\n",
       " -1.0  0.0\n",
       "  0.0  3.0"
      ]
     },
     "metadata": {},
     "output_type": "display_data"
    },
    {
     "name": "stdout",
     "output_type": "stream",
     "text": [
      "Диагональный вид матрицы из пункта b: \n"
     ]
    },
    {
     "data": {
      "text/plain": [
       "2×2 Matrix{Float64}:\n",
       " -0.236068  0.0\n",
       "  0.0       4.23607"
      ]
     },
     "metadata": {},
     "output_type": "display_data"
    },
    {
     "name": "stdout",
     "output_type": "stream",
     "text": [
      "Диагональный вид матрицы из пункта c: \n"
     ]
    },
    {
     "data": {
      "text/plain": [
       "3×3 Matrix{Float64}:\n",
       " -2.14134  0.0       0.0\n",
       "  0.0      0.515138  0.0\n",
       "  0.0      0.0       3.6262"
      ]
     },
     "metadata": {},
     "output_type": "display_data"
    }
   ],
   "source": [
    "# задание 1\n",
    "function diag_vid(X)\n",
    "    X_Eig=eigen(X)\n",
    "    X_diag = diagm(X_Eig.values)\n",
    "    return X_diag\n",
    "end\n",
    "println(\"Диагональный вид матрицы из пункта а: \")\n",
    "display(diag_vid([1 -2; -2 1]))\n",
    "println(\"Диагональный вид матрицы из пункта b: \")\n",
    "display(diag_vid([1 -2; -2 3]))\n",
    "println(\"Диагональный вид матрицы из пункта c: \")\n",
    "display(diag_vid([1 -2 0; -2 1 2; 0 2 0]))"
   ]
  },
  {
   "cell_type": "code",
   "execution_count": 150,
   "id": "2ddc7761-7648-4412-acd0-ead7eb385d67",
   "metadata": {
    "collapsed": true,
    "jupyter": {
     "outputs_hidden": true,
     "source_hidden": true
    }
   },
   "outputs": [
    {
     "name": "stdout",
     "output_type": "stream",
     "text": [
      "Результат вычисления пункта a: \n"
     ]
    },
    {
     "data": {
      "text/plain": [
       "2×2 Matrix{Int64}:\n",
       "  29525  -29524\n",
       " -29524   29525"
      ]
     },
     "metadata": {},
     "output_type": "display_data"
    },
    {
     "name": "stdout",
     "output_type": "stream",
     "text": [
      "Результат вычисления пункта b: \n"
     ]
    },
    {
     "data": {
      "text/plain": [
       "2×2 Symmetric{Float64, Matrix{Float64}}:\n",
       "  2.1889   -0.45685\n",
       " -0.45685   2.1889"
      ]
     },
     "metadata": {},
     "output_type": "display_data"
    },
    {
     "name": "stdout",
     "output_type": "stream",
     "text": [
      "Результат вычисления пункта c: \n"
     ]
    },
    {
     "data": {
      "text/plain": [
       "2×2 Symmetric{ComplexF64, Matrix{ComplexF64}}:\n",
       "  0.971125+0.433013im  -0.471125+0.433013im\n",
       " -0.471125+0.433013im   0.971125+0.433013im"
      ]
     },
     "metadata": {},
     "output_type": "display_data"
    },
    {
     "name": "stdout",
     "output_type": "stream",
     "text": [
      "Результат вычисления пункта d: \n"
     ]
    },
    {
     "data": {
      "text/plain": [
       "2×2 Symmetric{ComplexF64, Matrix{ComplexF64}}:\n",
       " 0.568864+0.351578im  0.920442-0.217287im\n",
       " 0.920442-0.217287im   1.48931+0.134291im"
      ]
     },
     "metadata": {},
     "output_type": "display_data"
    }
   ],
   "source": [
    "# задание 2\n",
    "println(\"Результат вычисления пункта a: \")\n",
    "display([1 -2; -2 1]^10)\n",
    "println(\"Результат вычисления пункта b: \")\n",
    "display([5 -2; -2 5]^(1/2))\n",
    "println(\"Результат вычисления пункта c: \")\n",
    "display([1 -2; -2 1]^(1/3))\n",
    "println(\"Результат вычисления пункта d: \")\n",
    "display([1 2; 2 3]^(1/2))"
   ]
  },
  {
   "cell_type": "code",
   "execution_count": 172,
   "id": "0631af8f-c77d-45e8-b930-1f575e79e247",
   "metadata": {},
   "outputs": [
    {
     "name": "stdout",
     "output_type": "stream",
     "text": [
      "Cобственные значения матрицы А и эффективность выполнения операций: \n",
      "  3.538 μs (11 allocations: 3.00 KiB)\n"
     ]
    },
    {
     "data": {
      "text/plain": [
       "Eigen{Float64, Float64, Matrix{Float64}, Vector{Float64}}\n",
       "values:\n",
       "5-element Vector{Float64}:\n",
       " -128.49322764802145\n",
       "  -55.887784553057\n",
       "   42.752167279318854\n",
       "   87.16111477514488\n",
       "  542.467730146614\n",
       "vectors:\n",
       "5×5 Matrix{Float64}:\n",
       " -0.147575   0.647178   0.010882    0.548903   -0.507907\n",
       " -0.256795  -0.173068   0.834628   -0.239864   -0.387253\n",
       " -0.185537   0.239762  -0.422161   -0.731925   -0.440631\n",
       "  0.819704  -0.247506  -0.0273194   0.0366447  -0.514526\n",
       " -0.453805  -0.657619  -0.352577    0.322668   -0.364928"
      ]
     },
     "execution_count": 172,
     "metadata": {},
     "output_type": "execute_result"
    }
   ],
   "source": [
    "# задание 3. собст.знач\n",
    "A = [140 97 74 168 131;\n",
    "     97 106 89 131 36;\n",
    "     74 89 152 144 71;\n",
    "     168 131 144 54 142;\n",
    "     131 36 71 142 36]\n",
    "#display(A)\n",
    "println(\"Cобственные значения матрицы А и эффективность выполнения операций: \")\n",
    "@btime A_Eig = eigen(A) "
   ]
  },
  {
   "cell_type": "code",
   "execution_count": 168,
   "id": "4548bcf1-b30a-4924-8c36-1d1519acf7b7",
   "metadata": {},
   "outputs": [
    {
     "name": "stdout",
     "output_type": "stream",
     "text": [
      "Диагональная матрица из собственных значений матрицы 𝐴 и эффективность операции: \n",
      "  52.439 ns (1 allocation: 256 bytes)\n"
     ]
    },
    {
     "data": {
      "text/plain": [
       "5×5 Matrix{Float64}:\n",
       " -128.493    0.0      0.0      0.0       0.0\n",
       "    0.0    -55.8878   0.0      0.0       0.0\n",
       "    0.0      0.0     42.7522   0.0       0.0\n",
       "    0.0      0.0      0.0     87.1611    0.0\n",
       "    0.0      0.0      0.0      0.0     542.468"
      ]
     },
     "execution_count": 168,
     "metadata": {},
     "output_type": "execute_result"
    }
   ],
   "source": [
    "# задание 3. диаг.матр\n",
    "println(\"Диагональная матрица из собственных значений матрицы 𝐴 и эффективность операции: \")\n",
    "@btime diagm(A_Eig.values)"
   ]
  },
  {
   "cell_type": "code",
   "execution_count": 169,
   "id": "1ee55739-d747-4037-a51b-55307c72253f",
   "metadata": {},
   "outputs": [
    {
     "name": "stdout",
     "output_type": "stream",
     "text": [
      "Нижнедиагональная матрица из матрицы 𝐴 и эффективность операции: \n",
      "  113.081 ns (1 allocation: 16 bytes)\n"
     ]
    },
    {
     "data": {
      "text/plain": [
       "5×5 LowerTriangular{Int64, Matrix{Int64}}:\n",
       " 140    ⋅    ⋅    ⋅   ⋅\n",
       "  97  106    ⋅    ⋅   ⋅\n",
       "  74   89  152    ⋅   ⋅\n",
       " 168  131  144   54   ⋅\n",
       " 131   36   71  142  36"
      ]
     },
     "execution_count": 169,
     "metadata": {},
     "output_type": "execute_result"
    }
   ],
   "source": [
    "# задание 3. нижнедиаг.матр\n",
    "println(\"Нижнедиагональная матрица из матрицы 𝐴 и эффективность операции: \")\n",
    "@btime LowerTriangular(A)"
   ]
  },
  {
   "cell_type": "markdown",
   "id": "c9565f03-f2a4-4c7f-a655-fff751813243",
   "metadata": {},
   "source": [
    "## 4. Линейные модели экономики\n",
    "1. Матрица 𝐴 называется продуктивной, если решение 𝑥 системы при любой неотрицательной правой части 𝑦 имеет только неотрицательные элементы 𝑥𝑖. Используя это определение, проверьте, являются ли матрицы продуктивными.\n",
    "2. Критерий продуктивности: матрица 𝐴 является продуктивной тогда и только тогда,\n",
    "когда все элементы матрицы\n",
    "$$\n",
    "(E-A)^-1\n",
    "$$\n",
    "являются неотрицательными числами. Используя этот критерий, проверьте, являются\n",
    "ли матрицы продуктивными\n",
    "3. Спектральный критерий продуктивности: матрица 𝐴 является продуктивной тогда\n",
    "и только тогда, когда все её собственные значения по модулю меньше 1. Используя\n",
    "этот критерий, проверьте, являются ли матрицы продуктивными.\n"
   ]
  },
  {
   "cell_type": "code",
   "execution_count": 175,
   "id": "b5adcb26-6849-4c72-9599-f00d855e5ac2",
   "metadata": {},
   "outputs": [
    {
     "data": {
      "text/plain": [
       "2×2 Matrix{Float64}:\n",
       " 0.1  0.2\n",
       " 0.3  0.4"
      ]
     },
     "execution_count": 175,
     "metadata": {},
     "output_type": "execute_result"
    }
   ],
   "source": [
    "A = [1 2; 3 4]\n",
    "B = (1/2)*[1 2; 3 4]\n",
    "C = (1/10)*[1 2; 3 4]"
   ]
  },
  {
   "cell_type": "code",
   "execution_count": 196,
   "id": "0842660d-3392-447a-90ca-382034ee0f19",
   "metadata": {},
   "outputs": [
    {
     "name": "stdout",
     "output_type": "stream",
     "text": [
      "Критерий продуктивности.\n",
      "Проверка для матрицы A. Матрица не продуктивная\n",
      "Проверка для матрицы B. Матрица не продуктивная\n",
      "Проверка для матрицы C. Матрица продуктивная\n"
     ]
    }
   ],
   "source": [
    "#критерий продуктивности.\n",
    "#проверим критерий, для этого создадим единичную матрицу 2х2\n",
    "#далее найдем разницу и определим обратную матрицу\n",
    "function prod_res(A)\n",
    "    E = Matrix{Int}(I, size(A,1), size(A,2))\n",
    "    k=0\n",
    "    for i in length(inv(E - A))\n",
    "        if inv(E-A)[i] <= 0\n",
    "            k +=1\n",
    "        end\n",
    "    end\n",
    "    if k > 0 \n",
    "        print(\"Матрица не продуктивная\\n\")\n",
    "    else \n",
    "        print(\"Матрица продуктивная\\n\")\n",
    "    end\n",
    "end\n",
    "println(\"Критерий продуктивности.\")\n",
    "print(\"Проверка для матрицы A. \")\n",
    "prod_res(A)\n",
    "print(\"Проверка для матрицы B. \")\n",
    "prod_res(B)\n",
    "print(\"Проверка для матрицы C. \")\n",
    "prod_res(C)\n"
   ]
  },
  {
   "cell_type": "code",
   "execution_count": 200,
   "id": "e346c506-dc96-447d-a79e-fbe24924bcc6",
   "metadata": {},
   "outputs": [
    {
     "name": "stdout",
     "output_type": "stream",
     "text": [
      "Критерий спектральной продуктивности.\n",
      "Проверка для матрицы A. Матрица не продуктивная\n",
      "Проверка для матрицы B. Матрица не продуктивная\n",
      "Проверка для матрицы C. Матрица продуктивная\n",
      "Проверка для матрицы D. Матрица продуктивная\n"
     ]
    }
   ],
   "source": [
    "#спектральный критерий продуктивности.\n",
    "function spectr_prod_res(A)\n",
    "    k=0\n",
    "    for i in length(eigen(A).values)\n",
    "        if abs(eigen(A).values) >= 1\n",
    "            k +=1\n",
    "        end\n",
    "    end\n",
    "    if k > 0 \n",
    "        print(\"Матрица не продуктивная\\n\")\n",
    "    else \n",
    "        print(\"Матрица продуктивная\\n\")\n",
    "    end\n",
    "end\n",
    "println(\"Критерий спектральной продуктивности.\")\n",
    "print(\"Проверка для матрицы A. \")\n",
    "prod_res(A)\n",
    "print(\"Проверка для матрицы B. \")\n",
    "prod_res(B)\n",
    "print(\"Проверка для матрицы C. \")\n",
    "prod_res(C)\n",
    "print(\"Проверка для матрицы D. \")\n",
    "prod_res([0.1 0.2 0.3; 0 0.1 0.2; 0 0.1 0.3])"
   ]
  },
  {
   "cell_type": "code",
   "execution_count": null,
   "id": "83bc7aa6-23fd-4642-9e01-8378c6333023",
   "metadata": {},
   "outputs": [],
   "source": []
  }
 ],
 "metadata": {
  "kernelspec": {
   "display_name": "Julia 1.10.5",
   "language": "julia",
   "name": "julia-1.10"
  },
  "language_info": {
   "file_extension": ".jl",
   "mimetype": "application/julia",
   "name": "julia",
   "version": "1.10.5"
  }
 },
 "nbformat": 4,
 "nbformat_minor": 5
}
