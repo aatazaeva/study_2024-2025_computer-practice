{
 "cells": [
  {
   "cell_type": "markdown",
   "id": "cc53e511-8d61-42e4-a267-43fc28ecb461",
   "metadata": {},
   "source": [
    "# Лабораторная работа №1. Примеры из раздела 1.3.3."
   ]
  },
  {
   "cell_type": "code",
   "execution_count": 20,
   "id": "bc1a2972-c5f9-440b-bfe7-3e319de48c80",
   "metadata": {},
   "outputs": [
    {
     "data": {
      "text/plain": [
       "(Int64, Float64, Float64, ComplexF64, Irrational{:π})"
      ]
     },
     "execution_count": 20,
     "metadata": {},
     "output_type": "execute_result"
    }
   ],
   "source": [
    "typeof(3), typeof(3.5), typeof(3/3.5), typeof(sqrt(3+4im)), typeof(pi)"
   ]
  },
  {
   "cell_type": "code",
   "execution_count": 23,
   "id": "0f54f0f3-4561-45df-aeca-c24afef22b7d",
   "metadata": {},
   "outputs": [
    {
     "data": {
      "text/plain": [
       "(Inf, -Inf, NaN)"
      ]
     },
     "execution_count": 23,
     "metadata": {},
     "output_type": "execute_result"
    }
   ],
   "source": [
    "1.0/0.0, 1.0/(-0.0), 0.0/0.0"
   ]
  },
  {
   "cell_type": "code",
   "execution_count": 24,
   "id": "22333036",
   "metadata": {},
   "outputs": [
    {
     "data": {
      "text/plain": [
       "(Float64, Float64, Float64)"
      ]
     },
     "execution_count": 24,
     "metadata": {},
     "output_type": "execute_result"
    }
   ],
   "source": [
    "typeof(1.0/0.0), typeof(1.0/(-0.0)), typeof(0.0/0.0)"
   ]
  },
  {
   "cell_type": "code",
   "execution_count": 26,
   "id": "2f93a4e3-4e1d-45ce-a524-66e328b62c76",
   "metadata": {},
   "outputs": [
    {
     "name": "stdout",
     "output_type": "stream",
     "text": [
      "   Int8: [-128,127]\n",
      "  Int16: [-32768,32767]\n",
      "  Int32: [-2147483648,2147483647]\n",
      "  Int64: [-9223372036854775808,9223372036854775807]\n",
      " Int128: [-170141183460469231731687303715884105728,170141183460469231731687303715884105727]\n",
      "  UInt8: [0,255]\n",
      " UInt16: [0,65535]\n",
      " UInt32: [0,4294967295]\n",
      " UInt64: [0,18446744073709551615]\n",
      "UInt128: [0,340282366920938463463374607431768211455]\n"
     ]
    }
   ],
   "source": [
    "for T in [Int8,Int16,Int32,Int64,Int128,UInt8,UInt16,UInt32,UInt64,UInt128]\n",
    "println(\"$(lpad(T,7)): [$(typemin(T)),$(typemax(T))]\")\n",
    "end"
   ]
  },
  {
   "cell_type": "code",
   "execution_count": 27,
   "id": "c5eb9563-6857-4793-9d36-f99de0e7f30d",
   "metadata": {},
   "outputs": [
    {
     "data": {
      "text/plain": [
       "(2, '\\x02', Char)"
      ]
     },
     "execution_count": 27,
     "metadata": {},
     "output_type": "execute_result"
    }
   ],
   "source": [
    "Int64(2.0), Char(2), typeof(Char(2))"
   ]
  },
  {
   "cell_type": "code",
   "execution_count": 30,
   "id": "13a3121b-1486-4bab-a96c-90da1d8d99ce",
   "metadata": {},
   "outputs": [
    {
     "data": {
      "text/plain": [
       "(2, '\\x02')"
      ]
     },
     "execution_count": 30,
     "metadata": {},
     "output_type": "execute_result"
    }
   ],
   "source": [
    "convert(Int64, 2.0), convert(Char,2)"
   ]
  },
  {
   "cell_type": "code",
   "execution_count": 31,
   "id": "eb2184b9-2f3f-4a75-b588-b2b910e05502",
   "metadata": {},
   "outputs": [
    {
     "data": {
      "text/plain": [
       "2"
      ]
     },
     "execution_count": 31,
     "metadata": {},
     "output_type": "execute_result"
    }
   ],
   "source": [
    "2.0 |> Int64"
   ]
  },
  {
   "cell_type": "code",
   "execution_count": 32,
   "id": "0184d051-d314-46db-a4f4-cd17c9a685f6",
   "metadata": {},
   "outputs": [
    {
     "data": {
      "text/plain": [
       "(true, false)"
      ]
     },
     "execution_count": 32,
     "metadata": {},
     "output_type": "execute_result"
    }
   ],
   "source": [
    "Bool(1), Bool(0)"
   ]
  },
  {
   "cell_type": "code",
   "execution_count": 35,
   "id": "c6a24005-8362-4703-b1d0-b928b46770e9",
   "metadata": {},
   "outputs": [
    {
     "data": {
      "text/plain": [
       "Tuple{Float32, Float32, Float32}"
      ]
     },
     "execution_count": 35,
     "metadata": {},
     "output_type": "execute_result"
    }
   ],
   "source": [
    "typeof(promote(Int8(1), Float16(4.5), Float32(4.1)))"
   ]
  },
  {
   "cell_type": "code",
   "execution_count": 36,
   "id": "d4e21184-ecfe-4cb8-9ead-5df329735a37",
   "metadata": {},
   "outputs": [
    {
     "data": {
      "text/plain": [
       "16"
      ]
     },
     "execution_count": 36,
     "metadata": {},
     "output_type": "execute_result"
    }
   ],
   "source": [
    "function f(x)\n",
    "    x^2\n",
    "end\n",
    "f(4)"
   ]
  },
  {
   "cell_type": "code",
   "execution_count": 38,
   "id": "82b0dcdf-615c-4e9b-929d-c1d26f37ac17",
   "metadata": {},
   "outputs": [
    {
     "data": {
      "text/plain": [
       "64"
      ]
     },
     "execution_count": 38,
     "metadata": {},
     "output_type": "execute_result"
    }
   ],
   "source": [
    "g(x)=x^2\n",
    "g(8)"
   ]
  },
  {
   "cell_type": "code",
   "execution_count": 43,
   "id": "f4936e7b-df4d-4e24-8cf5-50be277e16a9",
   "metadata": {},
   "outputs": [
    {
     "data": {
      "text/plain": [
       "(7, 2)"
      ]
     },
     "execution_count": 43,
     "metadata": {},
     "output_type": "execute_result"
    }
   ],
   "source": [
    "a = [4 7 6]\n",
    "b = [1, 2, 3]\n",
    "a[2], b[2]"
   ]
  },
  {
   "cell_type": "code",
   "execution_count": 46,
   "id": "09b4f472-3fe2-49ce-b2dc-b385007fe9b3",
   "metadata": {},
   "outputs": [
    {
     "data": {
      "text/plain": [
       "2×2 Matrix{Int64}:\n",
       " 1  2\n",
       " 3  4"
      ]
     },
     "execution_count": 46,
     "metadata": {},
     "output_type": "execute_result"
    }
   ],
   "source": [
    "a = 1; b = 2; c = 3; d = 4\n",
    "Am = [a b; c d]"
   ]
  },
  {
   "cell_type": "code",
   "execution_count": 47,
   "id": "abcbb8d4-f39c-47f2-ac80-35d731c1d591",
   "metadata": {},
   "outputs": [
    {
     "data": {
      "text/plain": [
       "(1, 2, 3, 4)"
      ]
     },
     "execution_count": 47,
     "metadata": {},
     "output_type": "execute_result"
    }
   ],
   "source": [
    "Am[1,1], Am[1,2], Am[2,1], Am[2,2]"
   ]
  },
  {
   "cell_type": "code",
   "execution_count": 49,
   "id": "75d56d11-9e8f-4682-aa8e-8d67d9010fa9",
   "metadata": {},
   "outputs": [
    {
     "data": {
      "text/plain": [
       "1×1 Matrix{Int64}:\n",
       " 27"
      ]
     },
     "execution_count": 49,
     "metadata": {},
     "output_type": "execute_result"
    }
   ],
   "source": [
    "aa = [1 2]\n",
    "AA = [1 2; 3 4]\n",
    "aa*AA*aa'"
   ]
  },
  {
   "cell_type": "code",
   "execution_count": 50,
   "id": "113902aa-dd4f-4929-ae15-c4e5c6146a5f",
   "metadata": {},
   "outputs": [
    {
     "data": {
      "text/plain": [
       "([1 2], [1 2; 3 4], [1; 2;;])"
      ]
     },
     "execution_count": 50,
     "metadata": {},
     "output_type": "execute_result"
    }
   ],
   "source": [
    "aa, AA, aa'"
   ]
  },
  {
   "cell_type": "markdown",
   "id": "99a2985a-b876-47ef-8feb-852eea7380f3",
   "metadata": {},
   "source": [
    "# Самостоятельная работа"
   ]
  },
  {
   "cell_type": "markdown",
   "id": "bd20b8e8-b9d4-421a-8b4d-b1a9da32cdc3",
   "metadata": {},
   "source": [
    "## Задание 1. \n",
    "### Изучите документацию по основным функциям Julia для  чтения / записи / вывода информации на экран: read(), readline(), readlines(), readdlm(), print(), println(), show(), write(). Приведите свои примеры их использования, поясняя особенности их применения."
   ]
  },
  {
   "cell_type": "code",
   "execution_count": 53,
   "id": "2771765c-f83a-4e10-b53b-415bd733f8a9",
   "metadata": {},
   "outputs": [
    {
     "data": {
      "text/latex": [
       "\\begin{verbatim}\n",
       "read(io::IO, T)\n",
       "\\end{verbatim}\n",
       "Read a single value of type \\texttt{T} from \\texttt{io}, in canonical binary representation.\n",
       "\n",
       "Note that Julia does not convert the endianness for you. Use \\href{@ref}{\\texttt{ntoh}} or \\href{@ref}{\\texttt{ltoh}} for this purpose.\n",
       "\n",
       "\\begin{verbatim}\n",
       "read(io::IO, String)\n",
       "\\end{verbatim}\n",
       "Read the entirety of \\texttt{io}, as a \\texttt{String} (see also \\href{@ref}{\\texttt{readchomp}}).\n",
       "\n",
       "\\section{Examples}\n",
       "\\begin{verbatim}\n",
       "julia> io = IOBuffer(\"JuliaLang is a GitHub organization\");\n",
       "\n",
       "julia> read(io, Char)\n",
       "'J': ASCII/Unicode U+004A (category Lu: Letter, uppercase)\n",
       "\n",
       "julia> io = IOBuffer(\"JuliaLang is a GitHub organization\");\n",
       "\n",
       "julia> read(io, String)\n",
       "\"JuliaLang is a GitHub organization\"\n",
       "\\end{verbatim}\n",
       "\\rule{\\textwidth}{1pt}\n",
       "\\begin{verbatim}\n",
       "read(filename::AbstractString)\n",
       "\\end{verbatim}\n",
       "Read the entire contents of a file as a \\texttt{Vector\\{UInt8\\}}.\n",
       "\n",
       "\\begin{verbatim}\n",
       "read(filename::AbstractString, String)\n",
       "\\end{verbatim}\n",
       "Read the entire contents of a file as a string.\n",
       "\n",
       "\\begin{verbatim}\n",
       "read(filename::AbstractString, args...)\n",
       "\\end{verbatim}\n",
       "Open a file and read its contents. \\texttt{args} is passed to \\texttt{read}: this is equivalent to \\texttt{open(io->read(io, args...), filename)}.\n",
       "\n",
       "\\rule{\\textwidth}{1pt}\n",
       "\\begin{verbatim}\n",
       "read(s::IO, nb=typemax(Int))\n",
       "\\end{verbatim}\n",
       "Read at most \\texttt{nb} bytes from \\texttt{s}, returning a \\texttt{Vector\\{UInt8\\}} of the bytes read.\n",
       "\n",
       "\\rule{\\textwidth}{1pt}\n",
       "\\begin{verbatim}\n",
       "read(s::IOStream, nb::Integer; all=true)\n",
       "\\end{verbatim}\n",
       "Read at most \\texttt{nb} bytes from \\texttt{s}, returning a \\texttt{Vector\\{UInt8\\}} of the bytes read.\n",
       "\n",
       "If \\texttt{all} is \\texttt{true} (the default), this function will block repeatedly trying to read all requested bytes, until an error or end-of-file occurs. If \\texttt{all} is \\texttt{false}, at most one \\texttt{read} call is performed, and the amount of data returned is device-dependent. Note that not all stream types support the \\texttt{all} option.\n",
       "\n",
       "\\rule{\\textwidth}{1pt}\n",
       "\\begin{verbatim}\n",
       "read(command::Cmd)\n",
       "\\end{verbatim}\n",
       "Run \\texttt{command} and return the resulting output as an array of bytes.\n",
       "\n",
       "\\rule{\\textwidth}{1pt}\n",
       "\\begin{verbatim}\n",
       "read(command::Cmd, String)\n",
       "\\end{verbatim}\n",
       "Run \\texttt{command} and return the resulting output as a \\texttt{String}.\n",
       "\n"
      ],
      "text/markdown": [
       "```\n",
       "read(io::IO, T)\n",
       "```\n",
       "\n",
       "Read a single value of type `T` from `io`, in canonical binary representation.\n",
       "\n",
       "Note that Julia does not convert the endianness for you. Use [`ntoh`](@ref) or [`ltoh`](@ref) for this purpose.\n",
       "\n",
       "```\n",
       "read(io::IO, String)\n",
       "```\n",
       "\n",
       "Read the entirety of `io`, as a `String` (see also [`readchomp`](@ref)).\n",
       "\n",
       "# Examples\n",
       "\n",
       "```jldoctest\n",
       "julia> io = IOBuffer(\"JuliaLang is a GitHub organization\");\n",
       "\n",
       "julia> read(io, Char)\n",
       "'J': ASCII/Unicode U+004A (category Lu: Letter, uppercase)\n",
       "\n",
       "julia> io = IOBuffer(\"JuliaLang is a GitHub organization\");\n",
       "\n",
       "julia> read(io, String)\n",
       "\"JuliaLang is a GitHub organization\"\n",
       "```\n",
       "\n",
       "---\n",
       "\n",
       "```\n",
       "read(filename::AbstractString)\n",
       "```\n",
       "\n",
       "Read the entire contents of a file as a `Vector{UInt8}`.\n",
       "\n",
       "```\n",
       "read(filename::AbstractString, String)\n",
       "```\n",
       "\n",
       "Read the entire contents of a file as a string.\n",
       "\n",
       "```\n",
       "read(filename::AbstractString, args...)\n",
       "```\n",
       "\n",
       "Open a file and read its contents. `args` is passed to `read`: this is equivalent to `open(io->read(io, args...), filename)`.\n",
       "\n",
       "---\n",
       "\n",
       "```\n",
       "read(s::IO, nb=typemax(Int))\n",
       "```\n",
       "\n",
       "Read at most `nb` bytes from `s`, returning a `Vector{UInt8}` of the bytes read.\n",
       "\n",
       "---\n",
       "\n",
       "```\n",
       "read(s::IOStream, nb::Integer; all=true)\n",
       "```\n",
       "\n",
       "Read at most `nb` bytes from `s`, returning a `Vector{UInt8}` of the bytes read.\n",
       "\n",
       "If `all` is `true` (the default), this function will block repeatedly trying to read all requested bytes, until an error or end-of-file occurs. If `all` is `false`, at most one `read` call is performed, and the amount of data returned is device-dependent. Note that not all stream types support the `all` option.\n",
       "\n",
       "---\n",
       "\n",
       "```\n",
       "read(command::Cmd)\n",
       "```\n",
       "\n",
       "Run `command` and return the resulting output as an array of bytes.\n",
       "\n",
       "---\n",
       "\n",
       "```\n",
       "read(command::Cmd, String)\n",
       "```\n",
       "\n",
       "Run `command` and return the resulting output as a `String`.\n"
      ],
      "text/plain": [
       "\u001b[36m  read(io::IO, T)\u001b[39m\n",
       "\n",
       "  Read a single value of type \u001b[36mT\u001b[39m from \u001b[36mio\u001b[39m, in canonical binary representation.\n",
       "\n",
       "  Note that Julia does not convert the endianness for you. Use \u001b[36mntoh\u001b[39m or \u001b[36mltoh\u001b[39m\n",
       "  for this purpose.\n",
       "\n",
       "\u001b[36m  read(io::IO, String)\u001b[39m\n",
       "\n",
       "  Read the entirety of \u001b[36mio\u001b[39m, as a \u001b[36mString\u001b[39m (see also \u001b[36mreadchomp\u001b[39m).\n",
       "\n",
       "\u001b[1m  Examples\u001b[22m\n",
       "\u001b[1m  ≡≡≡≡≡≡≡≡\u001b[22m\n",
       "\n",
       "\u001b[36m  julia> io = IOBuffer(\"JuliaLang is a GitHub organization\");\u001b[39m\n",
       "\u001b[36m  \u001b[39m\n",
       "\u001b[36m  julia> read(io, Char)\u001b[39m\n",
       "\u001b[36m  'J': ASCII/Unicode U+004A (category Lu: Letter, uppercase)\u001b[39m\n",
       "\u001b[36m  \u001b[39m\n",
       "\u001b[36m  julia> io = IOBuffer(\"JuliaLang is a GitHub organization\");\u001b[39m\n",
       "\u001b[36m  \u001b[39m\n",
       "\u001b[36m  julia> read(io, String)\u001b[39m\n",
       "\u001b[36m  \"JuliaLang is a GitHub organization\"\u001b[39m\n",
       "\n",
       "  ────────────────────────────────────────────────────────────────────────────\n",
       "\n",
       "\u001b[36m  read(filename::AbstractString)\u001b[39m\n",
       "\n",
       "  Read the entire contents of a file as a \u001b[36mVector{UInt8}\u001b[39m.\n",
       "\n",
       "\u001b[36m  read(filename::AbstractString, String)\u001b[39m\n",
       "\n",
       "  Read the entire contents of a file as a string.\n",
       "\n",
       "\u001b[36m  read(filename::AbstractString, args...)\u001b[39m\n",
       "\n",
       "  Open a file and read its contents. \u001b[36margs\u001b[39m is passed to \u001b[36mread\u001b[39m: this is\n",
       "  equivalent to \u001b[36mopen(io->read(io, args...), filename)\u001b[39m.\n",
       "\n",
       "  ────────────────────────────────────────────────────────────────────────────\n",
       "\n",
       "\u001b[36m  read(s::IO, nb=typemax(Int))\u001b[39m\n",
       "\n",
       "  Read at most \u001b[36mnb\u001b[39m bytes from \u001b[36ms\u001b[39m, returning a \u001b[36mVector{UInt8}\u001b[39m of the bytes read.\n",
       "\n",
       "  ────────────────────────────────────────────────────────────────────────────\n",
       "\n",
       "\u001b[36m  read(s::IOStream, nb::Integer; all=true)\u001b[39m\n",
       "\n",
       "  Read at most \u001b[36mnb\u001b[39m bytes from \u001b[36ms\u001b[39m, returning a \u001b[36mVector{UInt8}\u001b[39m of the bytes read.\n",
       "\n",
       "  If \u001b[36mall\u001b[39m is \u001b[36mtrue\u001b[39m (the default), this function will block repeatedly trying to\n",
       "  read all requested bytes, until an error or end-of-file occurs. If \u001b[36mall\u001b[39m is\n",
       "  \u001b[36mfalse\u001b[39m, at most one \u001b[36mread\u001b[39m call is performed, and the amount of data returned\n",
       "  is device-dependent. Note that not all stream types support the \u001b[36mall\u001b[39m option.\n",
       "\n",
       "  ────────────────────────────────────────────────────────────────────────────\n",
       "\n",
       "\u001b[36m  read(command::Cmd)\u001b[39m\n",
       "\n",
       "  Run \u001b[36mcommand\u001b[39m and return the resulting output as an array of bytes.\n",
       "\n",
       "  ────────────────────────────────────────────────────────────────────────────\n",
       "\n",
       "\u001b[36m  read(command::Cmd, String)\u001b[39m\n",
       "\n",
       "  Run \u001b[36mcommand\u001b[39m and return the resulting output as a \u001b[36mString\u001b[39m."
      ]
     },
     "execution_count": 53,
     "metadata": {},
     "output_type": "execute_result"
    }
   ],
   "source": [
    "?read()"
   ]
  },
  {
   "cell_type": "code",
   "execution_count": 57,
   "id": "64c94ac4-1720-4fd7-bb15-1d177e5f4d82",
   "metadata": {},
   "outputs": [
    {
     "data": {
      "text/plain": [
       "\"It is the first task today\""
      ]
     },
     "execution_count": 57,
     "metadata": {},
     "output_type": "execute_result"
    }
   ],
   "source": [
    "task1 = IOBuffer(\"It is the first task today\")\n",
    "read(task1, String)"
   ]
  },
  {
   "cell_type": "code",
   "execution_count": 58,
   "id": "81526540-981c-4aea-a2ef-e852da9a9ec2",
   "metadata": {},
   "outputs": [
    {
     "data": {
      "text/latex": [
       "\\begin{verbatim}\n",
       "readline(io::IO=stdin; keep::Bool=false)\n",
       "readline(filename::AbstractString; keep::Bool=false)\n",
       "\\end{verbatim}\n",
       "Read a single line of text from the given I/O stream or file (defaults to \\texttt{stdin}). When reading from a file, the text is assumed to be encoded in UTF-8. Lines in the input end with \\texttt{'{\\textbackslash}n'} or \\texttt{\"{\\textbackslash}r{\\textbackslash}n\"} or the end of an input stream. When \\texttt{keep} is false (as it is by default), these trailing newline characters are removed from the line before it is returned. When \\texttt{keep} is true, they are returned as part of the line.\n",
       "\n",
       "\\section{Examples}\n",
       "\\begin{verbatim}\n",
       "julia> write(\"my_file.txt\", \"JuliaLang is a GitHub organization.\\nIt has many members.\\n\");\n",
       "\n",
       "julia> readline(\"my_file.txt\")\n",
       "\"JuliaLang is a GitHub organization.\"\n",
       "\n",
       "julia> readline(\"my_file.txt\", keep=true)\n",
       "\"JuliaLang is a GitHub organization.\\n\"\n",
       "\n",
       "julia> rm(\"my_file.txt\")\n",
       "\\end{verbatim}\n",
       "\\begin{verbatim}\n",
       "julia> print(\"Enter your name: \")\n",
       "Enter your name:\n",
       "\n",
       "julia> your_name = readline()\n",
       "Logan\n",
       "\"Logan\"\n",
       "\\end{verbatim}\n"
      ],
      "text/markdown": [
       "```\n",
       "readline(io::IO=stdin; keep::Bool=false)\n",
       "readline(filename::AbstractString; keep::Bool=false)\n",
       "```\n",
       "\n",
       "Read a single line of text from the given I/O stream or file (defaults to `stdin`). When reading from a file, the text is assumed to be encoded in UTF-8. Lines in the input end with `'\\n'` or `\"\\r\\n\"` or the end of an input stream. When `keep` is false (as it is by default), these trailing newline characters are removed from the line before it is returned. When `keep` is true, they are returned as part of the line.\n",
       "\n",
       "# Examples\n",
       "\n",
       "```jldoctest\n",
       "julia> write(\"my_file.txt\", \"JuliaLang is a GitHub organization.\\nIt has many members.\\n\");\n",
       "\n",
       "julia> readline(\"my_file.txt\")\n",
       "\"JuliaLang is a GitHub organization.\"\n",
       "\n",
       "julia> readline(\"my_file.txt\", keep=true)\n",
       "\"JuliaLang is a GitHub organization.\\n\"\n",
       "\n",
       "julia> rm(\"my_file.txt\")\n",
       "```\n",
       "\n",
       "```julia-repl\n",
       "julia> print(\"Enter your name: \")\n",
       "Enter your name:\n",
       "\n",
       "julia> your_name = readline()\n",
       "Logan\n",
       "\"Logan\"\n",
       "```\n"
      ],
      "text/plain": [
       "\u001b[36m  readline(io::IO=stdin; keep::Bool=false)\u001b[39m\n",
       "\u001b[36m  readline(filename::AbstractString; keep::Bool=false)\u001b[39m\n",
       "\n",
       "  Read a single line of text from the given I/O stream or file (defaults to\n",
       "  \u001b[36mstdin\u001b[39m). When reading from a file, the text is assumed to be encoded in\n",
       "  UTF-8. Lines in the input end with \u001b[36m'\\n'\u001b[39m or \u001b[36m\"\\r\\n\"\u001b[39m or the end of an input\n",
       "  stream. When \u001b[36mkeep\u001b[39m is false (as it is by default), these trailing newline\n",
       "  characters are removed from the line before it is returned. When \u001b[36mkeep\u001b[39m is\n",
       "  true, they are returned as part of the line.\n",
       "\n",
       "\u001b[1m  Examples\u001b[22m\n",
       "\u001b[1m  ≡≡≡≡≡≡≡≡\u001b[22m\n",
       "\n",
       "\u001b[36m  julia> write(\"my_file.txt\", \"JuliaLang is a GitHub organization.\\nIt has many members.\\n\");\u001b[39m\n",
       "\u001b[36m  \u001b[39m\n",
       "\u001b[36m  julia> readline(\"my_file.txt\")\u001b[39m\n",
       "\u001b[36m  \"JuliaLang is a GitHub organization.\"\u001b[39m\n",
       "\u001b[36m  \u001b[39m\n",
       "\u001b[36m  julia> readline(\"my_file.txt\", keep=true)\u001b[39m\n",
       "\u001b[36m  \"JuliaLang is a GitHub organization.\\n\"\u001b[39m\n",
       "\u001b[36m  \u001b[39m\n",
       "\u001b[36m  julia> rm(\"my_file.txt\")\u001b[39m\n",
       "\n",
       "\u001b[36m  julia> print(\"Enter your name: \")\u001b[39m\n",
       "\u001b[36m  Enter your name:\u001b[39m\n",
       "\u001b[36m  \u001b[39m\n",
       "\u001b[36m  julia> your_name = readline()\u001b[39m\n",
       "\u001b[36m  Logan\u001b[39m\n",
       "\u001b[36m  \"Logan\"\u001b[39m"
      ]
     },
     "execution_count": 58,
     "metadata": {},
     "output_type": "execute_result"
    }
   ],
   "source": [
    "?readline()"
   ]
  },
  {
   "cell_type": "code",
   "execution_count": 83,
   "id": "a9cf05b1-1cc0-4fe5-a059-fd12c7e5483b",
   "metadata": {},
   "outputs": [
    {
     "data": {
      "text/plain": [
       "2-element Vector{String}:\n",
       " \"This is too hard.\"\n",
       " \"Help me\""
      ]
     },
     "execution_count": 83,
     "metadata": {},
     "output_type": "execute_result"
    }
   ],
   "source": [
    "write(\"task1.txt\", \"This is too hard.\\nHelp me\")\n",
    "readlines(\"task1.txt\")"
   ]
  },
  {
   "cell_type": "code",
   "execution_count": 62,
   "id": "c3b80f58-2ecf-48e5-8b51-6b2084725c59",
   "metadata": {},
   "outputs": [
    {
     "name": "stdout",
     "output_type": "stream",
     "text": [
      "Who ar you?"
     ]
    },
    {
     "name": "stdin",
     "output_type": "stream",
     "text": [
      "stdin>  Kolobok\n"
     ]
    },
    {
     "data": {
      "text/plain": [
       "\"Kolobok\""
      ]
     },
     "execution_count": 62,
     "metadata": {},
     "output_type": "execute_result"
    }
   ],
   "source": [
    "print(\"Who ar you?\")\n",
    "you = readline()"
   ]
  },
  {
   "cell_type": "code",
   "execution_count": 63,
   "id": "3d2e7ef0-342f-4f78-a07b-124516b37bd1",
   "metadata": {},
   "outputs": [
    {
     "data": {
      "text/latex": [
       "\\begin{verbatim}\n",
       "readlines(io::IO=stdin; keep::Bool=false)\n",
       "readlines(filename::AbstractString; keep::Bool=false)\n",
       "\\end{verbatim}\n",
       "Read all lines of an I/O stream or a file as a vector of strings. Behavior is equivalent to saving the result of reading \\href{@ref}{\\texttt{readline}} repeatedly with the same arguments and saving the resulting lines as a vector of strings.  See also \\href{@ref}{\\texttt{eachline}} to iterate over the lines without reading them all at once.\n",
       "\n",
       "\\section{Examples}\n",
       "\\begin{verbatim}\n",
       "julia> write(\"my_file.txt\", \"JuliaLang is a GitHub organization.\\nIt has many members.\\n\");\n",
       "\n",
       "julia> readlines(\"my_file.txt\")\n",
       "2-element Vector{String}:\n",
       " \"JuliaLang is a GitHub organization.\"\n",
       " \"It has many members.\"\n",
       "\n",
       "julia> readlines(\"my_file.txt\", keep=true)\n",
       "2-element Vector{String}:\n",
       " \"JuliaLang is a GitHub organization.\\n\"\n",
       " \"It has many members.\\n\"\n",
       "\n",
       "julia> rm(\"my_file.txt\")\n",
       "\\end{verbatim}\n"
      ],
      "text/markdown": [
       "```\n",
       "readlines(io::IO=stdin; keep::Bool=false)\n",
       "readlines(filename::AbstractString; keep::Bool=false)\n",
       "```\n",
       "\n",
       "Read all lines of an I/O stream or a file as a vector of strings. Behavior is equivalent to saving the result of reading [`readline`](@ref) repeatedly with the same arguments and saving the resulting lines as a vector of strings.  See also [`eachline`](@ref) to iterate over the lines without reading them all at once.\n",
       "\n",
       "# Examples\n",
       "\n",
       "```jldoctest\n",
       "julia> write(\"my_file.txt\", \"JuliaLang is a GitHub organization.\\nIt has many members.\\n\");\n",
       "\n",
       "julia> readlines(\"my_file.txt\")\n",
       "2-element Vector{String}:\n",
       " \"JuliaLang is a GitHub organization.\"\n",
       " \"It has many members.\"\n",
       "\n",
       "julia> readlines(\"my_file.txt\", keep=true)\n",
       "2-element Vector{String}:\n",
       " \"JuliaLang is a GitHub organization.\\n\"\n",
       " \"It has many members.\\n\"\n",
       "\n",
       "julia> rm(\"my_file.txt\")\n",
       "```\n"
      ],
      "text/plain": [
       "\u001b[36m  readlines(io::IO=stdin; keep::Bool=false)\u001b[39m\n",
       "\u001b[36m  readlines(filename::AbstractString; keep::Bool=false)\u001b[39m\n",
       "\n",
       "  Read all lines of an I/O stream or a file as a vector of strings. Behavior\n",
       "  is equivalent to saving the result of reading \u001b[36mreadline\u001b[39m repeatedly with the\n",
       "  same arguments and saving the resulting lines as a vector of strings. See\n",
       "  also \u001b[36meachline\u001b[39m to iterate over the lines without reading them all at once.\n",
       "\n",
       "\u001b[1m  Examples\u001b[22m\n",
       "\u001b[1m  ≡≡≡≡≡≡≡≡\u001b[22m\n",
       "\n",
       "\u001b[36m  julia> write(\"my_file.txt\", \"JuliaLang is a GitHub organization.\\nIt has many members.\\n\");\u001b[39m\n",
       "\u001b[36m  \u001b[39m\n",
       "\u001b[36m  julia> readlines(\"my_file.txt\")\u001b[39m\n",
       "\u001b[36m  2-element Vector{String}:\u001b[39m\n",
       "\u001b[36m   \"JuliaLang is a GitHub organization.\"\u001b[39m\n",
       "\u001b[36m   \"It has many members.\"\u001b[39m\n",
       "\u001b[36m  \u001b[39m\n",
       "\u001b[36m  julia> readlines(\"my_file.txt\", keep=true)\u001b[39m\n",
       "\u001b[36m  2-element Vector{String}:\u001b[39m\n",
       "\u001b[36m   \"JuliaLang is a GitHub organization.\\n\"\u001b[39m\n",
       "\u001b[36m   \"It has many members.\\n\"\u001b[39m\n",
       "\u001b[36m  \u001b[39m\n",
       "\u001b[36m  julia> rm(\"my_file.txt\")\u001b[39m"
      ]
     },
     "execution_count": 63,
     "metadata": {},
     "output_type": "execute_result"
    }
   ],
   "source": [
    "?readlines()"
   ]
  },
  {
   "cell_type": "code",
   "execution_count": 64,
   "id": "e8cf4934-cde2-4de9-ba54-e608ceebfa39",
   "metadata": {},
   "outputs": [
    {
     "data": {
      "text/plain": [
       "2-element Vector{String}:\n",
       " \"This is too hard.\"\n",
       " \"Help me\""
      ]
     },
     "execution_count": 64,
     "metadata": {},
     "output_type": "execute_result"
    }
   ],
   "source": [
    "write(\"task1.txt\", \"This is too hard.\\nHelp me\")\n",
    "readlines(\"task1.txt\")"
   ]
  },
  {
   "cell_type": "code",
   "execution_count": 67,
   "id": "c7e80189-3bc7-4b7a-a6c7-ffc4955acb70",
   "metadata": {},
   "outputs": [
    {
     "name": "stdout",
     "output_type": "stream",
     "text": [
      "search: \u001b[0m\u001b[1mr\u001b[22m\u001b[0m\u001b[1me\u001b[22m\u001b[0m\u001b[1ma\u001b[22m\u001b[0m\u001b[1md\u001b[22m\u001b[0m\u001b[1md\u001b[22mir\n",
      "\n",
      "Couldn't find \u001b[36mreaddlm\u001b[39m\n",
      "Perhaps you meant readdir, read, read!, real or readchomp\n"
     ]
    },
    {
     "data": {
      "text/latex": [
       "No documentation found.\n",
       "\n",
       "Binding \\texttt{readdlm} does not exist.\n",
       "\n"
      ],
      "text/markdown": [
       "No documentation found.\n",
       "\n",
       "Binding `readdlm` does not exist.\n"
      ],
      "text/plain": [
       "  No documentation found.\n",
       "\n",
       "  Binding \u001b[36mreaddlm\u001b[39m does not exist."
      ]
     },
     "execution_count": 67,
     "metadata": {},
     "output_type": "execute_result"
    }
   ],
   "source": [
    "?readdlm"
   ]
  },
  {
   "cell_type": "code",
   "execution_count": 68,
   "id": "d2bda512-c332-4f73-a545-acd8f8913b15",
   "metadata": {},
   "outputs": [
    {
     "data": {
      "text/latex": [
       "No documentation found.\n",
       "\n",
       "Binding \\texttt{readdlm} does not exist.\n",
       "\n"
      ],
      "text/markdown": [
       "No documentation found.\n",
       "\n",
       "Binding `readdlm` does not exist.\n"
      ],
      "text/plain": [
       "  No documentation found.\n",
       "\n",
       "  Binding \u001b[36mreaddlm\u001b[39m does not exist."
      ]
     },
     "execution_count": 68,
     "metadata": {},
     "output_type": "execute_result"
    }
   ],
   "source": [
    "?readdlm()"
   ]
  },
  {
   "cell_type": "code",
   "execution_count": 69,
   "id": "98b28a78-07af-482c-8b2d-4d1a97679c17",
   "metadata": {},
   "outputs": [
    {
     "data": {
      "text/latex": [
       "\\begin{verbatim}\n",
       "print([io::IO], xs...)\n",
       "\\end{verbatim}\n",
       "Write to \\texttt{io} (or to the default output stream \\href{@ref}{\\texttt{stdout}} if \\texttt{io} is not given) a canonical (un-decorated) text representation. The representation used by \\texttt{print} includes minimal formatting and tries to avoid Julia-specific details.\n",
       "\n",
       "\\texttt{print} falls back to calling \\texttt{show}, so most types should just define \\texttt{show}. Define \\texttt{print} if your type has a separate \"plain\" representation. For example, \\texttt{show} displays strings with quotes, and \\texttt{print} displays strings without quotes.\n",
       "\n",
       "See also \\href{@ref}{\\texttt{println}}, \\href{@ref}{\\texttt{string}}, \\href{@ref}{\\texttt{printstyled}}.\n",
       "\n",
       "\\section{Examples}\n",
       "\\begin{verbatim}\n",
       "julia> print(\"Hello World!\")\n",
       "Hello World!\n",
       "julia> io = IOBuffer();\n",
       "\n",
       "julia> print(io, \"Hello\", ' ', :World!)\n",
       "\n",
       "julia> String(take!(io))\n",
       "\"Hello World!\"\n",
       "\\end{verbatim}\n"
      ],
      "text/markdown": [
       "```\n",
       "print([io::IO], xs...)\n",
       "```\n",
       "\n",
       "Write to `io` (or to the default output stream [`stdout`](@ref) if `io` is not given) a canonical (un-decorated) text representation. The representation used by `print` includes minimal formatting and tries to avoid Julia-specific details.\n",
       "\n",
       "`print` falls back to calling `show`, so most types should just define `show`. Define `print` if your type has a separate \"plain\" representation. For example, `show` displays strings with quotes, and `print` displays strings without quotes.\n",
       "\n",
       "See also [`println`](@ref), [`string`](@ref), [`printstyled`](@ref).\n",
       "\n",
       "# Examples\n",
       "\n",
       "```jldoctest\n",
       "julia> print(\"Hello World!\")\n",
       "Hello World!\n",
       "julia> io = IOBuffer();\n",
       "\n",
       "julia> print(io, \"Hello\", ' ', :World!)\n",
       "\n",
       "julia> String(take!(io))\n",
       "\"Hello World!\"\n",
       "```\n"
      ],
      "text/plain": [
       "\u001b[36m  print([io::IO], xs...)\u001b[39m\n",
       "\n",
       "  Write to \u001b[36mio\u001b[39m (or to the default output stream \u001b[36mstdout\u001b[39m if \u001b[36mio\u001b[39m is not given) a\n",
       "  canonical (un-decorated) text representation. The representation used by\n",
       "  \u001b[36mprint\u001b[39m includes minimal formatting and tries to avoid Julia-specific details.\n",
       "\n",
       "  \u001b[36mprint\u001b[39m falls back to calling \u001b[36mshow\u001b[39m, so most types should just define \u001b[36mshow\u001b[39m.\n",
       "  Define \u001b[36mprint\u001b[39m if your type has a separate \"plain\" representation. For\n",
       "  example, \u001b[36mshow\u001b[39m displays strings with quotes, and \u001b[36mprint\u001b[39m displays strings\n",
       "  without quotes.\n",
       "\n",
       "  See also \u001b[36mprintln\u001b[39m, \u001b[36mstring\u001b[39m, \u001b[36mprintstyled\u001b[39m.\n",
       "\n",
       "\u001b[1m  Examples\u001b[22m\n",
       "\u001b[1m  ≡≡≡≡≡≡≡≡\u001b[22m\n",
       "\n",
       "\u001b[36m  julia> print(\"Hello World!\")\u001b[39m\n",
       "\u001b[36m  Hello World!\u001b[39m\n",
       "\u001b[36m  julia> io = IOBuffer();\u001b[39m\n",
       "\u001b[36m  \u001b[39m\n",
       "\u001b[36m  julia> print(io, \"Hello\", ' ', :World!)\u001b[39m\n",
       "\u001b[36m  \u001b[39m\n",
       "\u001b[36m  julia> String(take!(io))\u001b[39m\n",
       "\u001b[36m  \"Hello World!\"\u001b[39m"
      ]
     },
     "execution_count": 69,
     "metadata": {},
     "output_type": "execute_result"
    }
   ],
   "source": [
    "?print()"
   ]
  },
  {
   "cell_type": "code",
   "execution_count": 70,
   "id": "bedb1122-b8f6-4da7-9490-352384131771",
   "metadata": {},
   "outputs": [
    {
     "name": "stdout",
     "output_type": "stream",
     "text": [
      "Your name is too strong in pronunciation"
     ]
    }
   ],
   "source": [
    "print(\"Your name is too strong in pronunciation\")"
   ]
  },
  {
   "cell_type": "code",
   "execution_count": 72,
   "id": "87c3bf46-411e-4d3e-8df8-2b5479d219c4",
   "metadata": {},
   "outputs": [
    {
     "name": "stdout",
     "output_type": "stream",
     "text": [
      "Nastya, good morning!"
     ]
    }
   ],
   "source": [
    "name = \"Nastya\"\n",
    "print(name, \", good morning!\")"
   ]
  },
  {
   "cell_type": "code",
   "execution_count": 73,
   "id": "e63a5c25-ddd3-4266-ad4c-59487e939093",
   "metadata": {},
   "outputs": [
    {
     "data": {
      "text/latex": [
       "\\begin{verbatim}\n",
       "println([io::IO], xs...)\n",
       "\\end{verbatim}\n",
       "Print (using \\href{@ref}{\\texttt{print}}) \\texttt{xs} to \\texttt{io} followed by a newline. If \\texttt{io} is not supplied, prints to the default output stream \\href{@ref}{\\texttt{stdout}}.\n",
       "\n",
       "See also \\href{@ref}{\\texttt{printstyled}} to add colors etc.\n",
       "\n",
       "\\section{Examples}\n",
       "\\begin{verbatim}\n",
       "julia> println(\"Hello, world\")\n",
       "Hello, world\n",
       "\n",
       "julia> io = IOBuffer();\n",
       "\n",
       "julia> println(io, \"Hello\", ',', \" world.\")\n",
       "\n",
       "julia> String(take!(io))\n",
       "\"Hello, world.\\n\"\n",
       "\\end{verbatim}\n"
      ],
      "text/markdown": [
       "```\n",
       "println([io::IO], xs...)\n",
       "```\n",
       "\n",
       "Print (using [`print`](@ref)) `xs` to `io` followed by a newline. If `io` is not supplied, prints to the default output stream [`stdout`](@ref).\n",
       "\n",
       "See also [`printstyled`](@ref) to add colors etc.\n",
       "\n",
       "# Examples\n",
       "\n",
       "```jldoctest\n",
       "julia> println(\"Hello, world\")\n",
       "Hello, world\n",
       "\n",
       "julia> io = IOBuffer();\n",
       "\n",
       "julia> println(io, \"Hello\", ',', \" world.\")\n",
       "\n",
       "julia> String(take!(io))\n",
       "\"Hello, world.\\n\"\n",
       "```\n"
      ],
      "text/plain": [
       "\u001b[36m  println([io::IO], xs...)\u001b[39m\n",
       "\n",
       "  Print (using \u001b[36mprint\u001b[39m) \u001b[36mxs\u001b[39m to \u001b[36mio\u001b[39m followed by a newline. If \u001b[36mio\u001b[39m is not supplied,\n",
       "  prints to the default output stream \u001b[36mstdout\u001b[39m.\n",
       "\n",
       "  See also \u001b[36mprintstyled\u001b[39m to add colors etc.\n",
       "\n",
       "\u001b[1m  Examples\u001b[22m\n",
       "\u001b[1m  ≡≡≡≡≡≡≡≡\u001b[22m\n",
       "\n",
       "\u001b[36m  julia> println(\"Hello, world\")\u001b[39m\n",
       "\u001b[36m  Hello, world\u001b[39m\n",
       "\u001b[36m  \u001b[39m\n",
       "\u001b[36m  julia> io = IOBuffer();\u001b[39m\n",
       "\u001b[36m  \u001b[39m\n",
       "\u001b[36m  julia> println(io, \"Hello\", ',', \" world.\")\u001b[39m\n",
       "\u001b[36m  \u001b[39m\n",
       "\u001b[36m  julia> String(take!(io))\u001b[39m\n",
       "\u001b[36m  \"Hello, world.\\n\"\u001b[39m"
      ]
     },
     "execution_count": 73,
     "metadata": {},
     "output_type": "execute_result"
    }
   ],
   "source": [
    "?println()"
   ]
  },
  {
   "cell_type": "code",
   "execution_count": 79,
   "id": "a600ecc8-92e5-4f1d-8285-88a71191d94b",
   "metadata": {},
   "outputs": [
    {
     "name": "stdout",
     "output_type": "stream",
     "text": [
      "hellothere is no spaceit's joke\n",
      "yeah\n",
      "tratata"
     ]
    }
   ],
   "source": [
    "print(\"hello\")\n",
    "print(\"there is no space\")\n",
    "println(\"it's joke\")\n",
    "println(\"yeah\")\n",
    "print(\"tratata\")"
   ]
  },
  {
   "cell_type": "code",
   "execution_count": 80,
   "id": "4101371d-2d74-4ad1-b343-ab43e517268d",
   "metadata": {},
   "outputs": [
    {
     "data": {
      "text/latex": [
       "\\begin{verbatim}\n",
       "show([io::IO = stdout], x)\n",
       "\\end{verbatim}\n",
       "Write a text representation of a value \\texttt{x} to the output stream \\texttt{io}. New types \\texttt{T} should overload \\texttt{show(io::IO, x::T)}. The representation used by \\texttt{show} generally includes Julia-specific formatting and type information, and should be parseable Julia code when possible.\n",
       "\n",
       "\\href{@ref}{\\texttt{repr}} returns the output of \\texttt{show} as a string.\n",
       "\n",
       "For a more verbose human-readable text output for objects of type \\texttt{T}, define \\texttt{show(io::IO, ::MIME\"text/plain\", ::T)} in addition. Checking the \\texttt{:compact} \\href{@ref}{\\texttt{IOContext}} key (often checked as \\texttt{get(io, :compact, false)::Bool}) of \\texttt{io} in such methods is recommended, since some containers show their elements by calling this method with \\texttt{:compact => true}.\n",
       "\n",
       "See also \\href{@ref}{\\texttt{print}}, which writes un-decorated representations.\n",
       "\n",
       "\\section{Examples}\n",
       "\\begin{verbatim}\n",
       "julia> show(\"Hello World!\")\n",
       "\"Hello World!\"\n",
       "julia> print(\"Hello World!\")\n",
       "Hello World!\n",
       "\\end{verbatim}\n",
       "\\rule{\\textwidth}{1pt}\n",
       "\\begin{verbatim}\n",
       "show(io::IO, mime, x)\n",
       "\\end{verbatim}\n",
       "The \\href{@ref}{\\texttt{display}} functions ultimately call \\texttt{show} in order to write an object \\texttt{x} as a given \\texttt{mime} type to a given I/O stream \\texttt{io} (usually a memory buffer), if possible. In order to provide a rich multimedia representation of a user-defined type \\texttt{T}, it is only necessary to define a new \\texttt{show} method for \\texttt{T}, via: \\texttt{show(io, ::MIME\"mime\", x::T) = ...}, where \\texttt{mime} is a MIME-type string and the function body calls \\href{@ref}{\\texttt{write}} (or similar) to write that representation of \\texttt{x} to \\texttt{io}. (Note that the \\texttt{MIME\"\"} notation only supports literal strings; to construct \\texttt{MIME} types in a more flexible manner use \\texttt{MIME\\{Symbol(\"\")\\}}.)\n",
       "\n",
       "For example, if you define a \\texttt{MyImage} type and know how to write it to a PNG file, you could define a function \\texttt{show(io, ::MIME\"image/png\", x::MyImage) = ...} to allow your images to be displayed on any PNG-capable \\texttt{AbstractDisplay} (such as IJulia). As usual, be sure to \\texttt{import Base.show} in order to add new methods to the built-in Julia function \\texttt{show}.\n",
       "\n",
       "Technically, the \\texttt{MIME\"mime\"} macro defines a singleton type for the given \\texttt{mime} string, which allows us to exploit Julia's dispatch mechanisms in determining how to display objects of any given type.\n",
       "\n",
       "The default MIME type is \\texttt{MIME\"text/plain\"}. There is a fallback definition for \\texttt{text/plain} output that calls \\texttt{show} with 2 arguments, so it is not always necessary to add a method for that case. If a type benefits from custom human-readable output though, \\texttt{show(::IO, ::MIME\"text/plain\", ::T)} should be defined. For example, the \\texttt{Day} type uses \\texttt{1 day} as the output for the \\texttt{text/plain} MIME type, and \\texttt{Day(1)} as the output of 2-argument \\texttt{show}.\n",
       "\n",
       "\\section{Examples}\n",
       "\\begin{verbatim}\n",
       "julia> struct Day\n",
       "           n::Int\n",
       "       end\n",
       "\n",
       "julia> Base.show(io::IO, ::MIME\"text/plain\", d::Day) = print(io, d.n, \" day\")\n",
       "\n",
       "julia> Day(1)\n",
       "1 day\n",
       "\\end{verbatim}\n",
       "Container types generally implement 3-argument \\texttt{show} by calling \\texttt{show(io, MIME\"text/plain\"(), x)} for elements \\texttt{x}, with \\texttt{:compact => true} set in an \\href{@ref}{\\texttt{IOContext}} passed as the first argument.\n",
       "\n"
      ],
      "text/markdown": [
       "```\n",
       "show([io::IO = stdout], x)\n",
       "```\n",
       "\n",
       "Write a text representation of a value `x` to the output stream `io`. New types `T` should overload `show(io::IO, x::T)`. The representation used by `show` generally includes Julia-specific formatting and type information, and should be parseable Julia code when possible.\n",
       "\n",
       "[`repr`](@ref) returns the output of `show` as a string.\n",
       "\n",
       "For a more verbose human-readable text output for objects of type `T`, define `show(io::IO, ::MIME\"text/plain\", ::T)` in addition. Checking the `:compact` [`IOContext`](@ref) key (often checked as `get(io, :compact, false)::Bool`) of `io` in such methods is recommended, since some containers show their elements by calling this method with `:compact => true`.\n",
       "\n",
       "See also [`print`](@ref), which writes un-decorated representations.\n",
       "\n",
       "# Examples\n",
       "\n",
       "```jldoctest\n",
       "julia> show(\"Hello World!\")\n",
       "\"Hello World!\"\n",
       "julia> print(\"Hello World!\")\n",
       "Hello World!\n",
       "```\n",
       "\n",
       "---\n",
       "\n",
       "```\n",
       "show(io::IO, mime, x)\n",
       "```\n",
       "\n",
       "The [`display`](@ref) functions ultimately call `show` in order to write an object `x` as a given `mime` type to a given I/O stream `io` (usually a memory buffer), if possible. In order to provide a rich multimedia representation of a user-defined type `T`, it is only necessary to define a new `show` method for `T`, via: `show(io, ::MIME\"mime\", x::T) = ...`, where `mime` is a MIME-type string and the function body calls [`write`](@ref) (or similar) to write that representation of `x` to `io`. (Note that the `MIME\"\"` notation only supports literal strings; to construct `MIME` types in a more flexible manner use `MIME{Symbol(\"\")}`.)\n",
       "\n",
       "For example, if you define a `MyImage` type and know how to write it to a PNG file, you could define a function `show(io, ::MIME\"image/png\", x::MyImage) = ...` to allow your images to be displayed on any PNG-capable `AbstractDisplay` (such as IJulia). As usual, be sure to `import Base.show` in order to add new methods to the built-in Julia function `show`.\n",
       "\n",
       "Technically, the `MIME\"mime\"` macro defines a singleton type for the given `mime` string, which allows us to exploit Julia's dispatch mechanisms in determining how to display objects of any given type.\n",
       "\n",
       "The default MIME type is `MIME\"text/plain\"`. There is a fallback definition for `text/plain` output that calls `show` with 2 arguments, so it is not always necessary to add a method for that case. If a type benefits from custom human-readable output though, `show(::IO, ::MIME\"text/plain\", ::T)` should be defined. For example, the `Day` type uses `1 day` as the output for the `text/plain` MIME type, and `Day(1)` as the output of 2-argument `show`.\n",
       "\n",
       "# Examples\n",
       "\n",
       "```jldoctest\n",
       "julia> struct Day\n",
       "           n::Int\n",
       "       end\n",
       "\n",
       "julia> Base.show(io::IO, ::MIME\"text/plain\", d::Day) = print(io, d.n, \" day\")\n",
       "\n",
       "julia> Day(1)\n",
       "1 day\n",
       "```\n",
       "\n",
       "Container types generally implement 3-argument `show` by calling `show(io, MIME\"text/plain\"(), x)` for elements `x`, with `:compact => true` set in an [`IOContext`](@ref) passed as the first argument.\n"
      ],
      "text/plain": [
       "\u001b[36m  show([io::IO = stdout], x)\u001b[39m\n",
       "\n",
       "  Write a text representation of a value \u001b[36mx\u001b[39m to the output stream \u001b[36mio\u001b[39m. New types\n",
       "  \u001b[36mT\u001b[39m should overload \u001b[36mshow(io::IO, x::T)\u001b[39m. The representation used by \u001b[36mshow\u001b[39m\n",
       "  generally includes Julia-specific formatting and type information, and\n",
       "  should be parseable Julia code when possible.\n",
       "\n",
       "  \u001b[36mrepr\u001b[39m returns the output of \u001b[36mshow\u001b[39m as a string.\n",
       "\n",
       "  For a more verbose human-readable text output for objects of type \u001b[36mT\u001b[39m, define\n",
       "  \u001b[36mshow(io::IO, ::MIME\"text/plain\", ::T)\u001b[39m in addition. Checking the \u001b[36m:compact\u001b[39m\n",
       "  \u001b[36mIOContext\u001b[39m key (often checked as \u001b[36mget(io, :compact, false)::Bool\u001b[39m) of \u001b[36mio\u001b[39m in\n",
       "  such methods is recommended, since some containers show their elements by\n",
       "  calling this method with \u001b[36m:compact => true\u001b[39m.\n",
       "\n",
       "  See also \u001b[36mprint\u001b[39m, which writes un-decorated representations.\n",
       "\n",
       "\u001b[1m  Examples\u001b[22m\n",
       "\u001b[1m  ≡≡≡≡≡≡≡≡\u001b[22m\n",
       "\n",
       "\u001b[36m  julia> show(\"Hello World!\")\u001b[39m\n",
       "\u001b[36m  \"Hello World!\"\u001b[39m\n",
       "\u001b[36m  julia> print(\"Hello World!\")\u001b[39m\n",
       "\u001b[36m  Hello World!\u001b[39m\n",
       "\n",
       "  ────────────────────────────────────────────────────────────────────────────\n",
       "\n",
       "\u001b[36m  show(io::IO, mime, x)\u001b[39m\n",
       "\n",
       "  The \u001b[36mdisplay\u001b[39m functions ultimately call \u001b[36mshow\u001b[39m in order to write an object \u001b[36mx\u001b[39m as\n",
       "  a given \u001b[36mmime\u001b[39m type to a given I/O stream \u001b[36mio\u001b[39m (usually a memory buffer), if\n",
       "  possible. In order to provide a rich multimedia representation of a\n",
       "  user-defined type \u001b[36mT\u001b[39m, it is only necessary to define a new \u001b[36mshow\u001b[39m method for \u001b[36mT\u001b[39m,\n",
       "  via: \u001b[36mshow(io, ::MIME\"mime\", x::T) = ...\u001b[39m, where \u001b[36mmime\u001b[39m is a MIME-type string\n",
       "  and the function body calls \u001b[36mwrite\u001b[39m (or similar) to write that representation\n",
       "  of \u001b[36mx\u001b[39m to \u001b[36mio\u001b[39m. (Note that the \u001b[36mMIME\"\"\u001b[39m notation only supports literal strings; to\n",
       "  construct \u001b[36mMIME\u001b[39m types in a more flexible manner use \u001b[36mMIME{Symbol(\"\")}\u001b[39m.)\n",
       "\n",
       "  For example, if you define a \u001b[36mMyImage\u001b[39m type and know how to write it to a PNG\n",
       "  file, you could define a function \u001b[36mshow(io, ::MIME\"image/png\", x::MyImage) =\n",
       "  ...\u001b[39m to allow your images to be displayed on any PNG-capable \u001b[36mAbstractDisplay\u001b[39m\n",
       "  (such as IJulia). As usual, be sure to \u001b[36mimport Base.show\u001b[39m in order to add new\n",
       "  methods to the built-in Julia function \u001b[36mshow\u001b[39m.\n",
       "\n",
       "  Technically, the \u001b[36mMIME\"mime\"\u001b[39m macro defines a singleton type for the given\n",
       "  \u001b[36mmime\u001b[39m string, which allows us to exploit Julia's dispatch mechanisms in\n",
       "  determining how to display objects of any given type.\n",
       "\n",
       "  The default MIME type is \u001b[36mMIME\"text/plain\"\u001b[39m. There is a fallback definition\n",
       "  for \u001b[36mtext/plain\u001b[39m output that calls \u001b[36mshow\u001b[39m with 2 arguments, so it is not always\n",
       "  necessary to add a method for that case. If a type benefits from custom\n",
       "  human-readable output though, \u001b[36mshow(::IO, ::MIME\"text/plain\", ::T)\u001b[39m should be\n",
       "  defined. For example, the \u001b[36mDay\u001b[39m type uses \u001b[36m1 day\u001b[39m as the output for the\n",
       "  \u001b[36mtext/plain\u001b[39m MIME type, and \u001b[36mDay(1)\u001b[39m as the output of 2-argument \u001b[36mshow\u001b[39m.\n",
       "\n",
       "\u001b[1m  Examples\u001b[22m\n",
       "\u001b[1m  ≡≡≡≡≡≡≡≡\u001b[22m\n",
       "\n",
       "\u001b[36m  julia> struct Day\u001b[39m\n",
       "\u001b[36m             n::Int\u001b[39m\n",
       "\u001b[36m         end\u001b[39m\n",
       "\u001b[36m  \u001b[39m\n",
       "\u001b[36m  julia> Base.show(io::IO, ::MIME\"text/plain\", d::Day) = print(io, d.n, \" day\")\u001b[39m\n",
       "\u001b[36m  \u001b[39m\n",
       "\u001b[36m  julia> Day(1)\u001b[39m\n",
       "\u001b[36m  1 day\u001b[39m\n",
       "\n",
       "  Container types generally implement 3-argument \u001b[36mshow\u001b[39m by calling \u001b[36mshow(io,\n",
       "  MIME\"text/plain\"(), x)\u001b[39m for elements \u001b[36mx\u001b[39m, with \u001b[36m:compact => true\u001b[39m set in an\n",
       "  \u001b[36mIOContext\u001b[39m passed as the first argument."
      ]
     },
     "execution_count": 80,
     "metadata": {},
     "output_type": "execute_result"
    }
   ],
   "source": [
    "?show()"
   ]
  },
  {
   "cell_type": "code",
   "execution_count": 81,
   "id": "ac6e9bd7-3388-44e8-a0b1-2a19aa1c1099",
   "metadata": {},
   "outputs": [
    {
     "name": "stdout",
     "output_type": "stream",
     "text": [
      "\"what a beautiful day!\""
     ]
    }
   ],
   "source": [
    "show(\"what a beautiful day!\")"
   ]
  },
  {
   "cell_type": "code",
   "execution_count": 82,
   "id": "84c4685d-03b7-4e9a-afc1-28dd46dc4b79",
   "metadata": {},
   "outputs": [
    {
     "data": {
      "text/latex": [
       "\\begin{verbatim}\n",
       "write(io::IO, x)\n",
       "\\end{verbatim}\n",
       "Write the canonical binary representation of a value to the given I/O stream or file. Return the number of bytes written into the stream. See also \\href{@ref}{\\texttt{print}} to write a text representation (with an encoding that may depend upon \\texttt{io}).\n",
       "\n",
       "The endianness of the written value depends on the endianness of the host system. Convert to/from a fixed endianness when writing/reading (e.g. using  \\href{@ref}{\\texttt{htol}} and \\href{@ref}{\\texttt{ltoh}}) to get results that are consistent across platforms.\n",
       "\n",
       "You can write multiple values with the same \\texttt{write} call. i.e. the following are equivalent:\n",
       "\n",
       "\\begin{verbatim}\n",
       "write(io, x, y...)\n",
       "write(io, x) + write(io, y...)\n",
       "\\end{verbatim}\n",
       "\\section{Examples}\n",
       "Consistent serialization:\n",
       "\n",
       "\\begin{verbatim}\n",
       "julia> fname = tempname(); # random temporary filename\n",
       "\n",
       "julia> open(fname,\"w\") do f\n",
       "           # Make sure we write 64bit integer in little-endian byte order\n",
       "           write(f,htol(Int64(42)))\n",
       "       end\n",
       "8\n",
       "\n",
       "julia> open(fname,\"r\") do f\n",
       "           # Convert back to host byte order and host integer type\n",
       "           Int(ltoh(read(f,Int64)))\n",
       "       end\n",
       "42\n",
       "\\end{verbatim}\n",
       "Merging write calls:\n",
       "\n",
       "\\begin{verbatim}\n",
       "julia> io = IOBuffer();\n",
       "\n",
       "julia> write(io, \"JuliaLang is a GitHub organization.\", \" It has many members.\")\n",
       "56\n",
       "\n",
       "julia> String(take!(io))\n",
       "\"JuliaLang is a GitHub organization. It has many members.\"\n",
       "\n",
       "julia> write(io, \"Sometimes those members\") + write(io, \" write documentation.\")\n",
       "44\n",
       "\n",
       "julia> String(take!(io))\n",
       "\"Sometimes those members write documentation.\"\n",
       "\\end{verbatim}\n",
       "User-defined plain-data types without \\texttt{write} methods can be written when wrapped in a \\texttt{Ref}:\n",
       "\n",
       "\\begin{verbatim}\n",
       "julia> struct MyStruct; x::Float64; end\n",
       "\n",
       "julia> io = IOBuffer()\n",
       "IOBuffer(data=UInt8[...], readable=true, writable=true, seekable=true, append=false, size=0, maxsize=Inf, ptr=1, mark=-1)\n",
       "\n",
       "julia> write(io, Ref(MyStruct(42.0)))\n",
       "8\n",
       "\n",
       "julia> seekstart(io); read!(io, Ref(MyStruct(NaN)))\n",
       "Base.RefValue{MyStruct}(MyStruct(42.0))\n",
       "\\end{verbatim}\n",
       "\\rule{\\textwidth}{1pt}\n",
       "\\begin{verbatim}\n",
       "write(filename::AbstractString, content)\n",
       "\\end{verbatim}\n",
       "Write the canonical binary representation of \\texttt{content} to a file, which will be created if it does not exist yet or overwritten if it does exist.\n",
       "\n",
       "Return the number of bytes written into the file.\n",
       "\n"
      ],
      "text/markdown": [
       "```\n",
       "write(io::IO, x)\n",
       "```\n",
       "\n",
       "Write the canonical binary representation of a value to the given I/O stream or file. Return the number of bytes written into the stream. See also [`print`](@ref) to write a text representation (with an encoding that may depend upon `io`).\n",
       "\n",
       "The endianness of the written value depends on the endianness of the host system. Convert to/from a fixed endianness when writing/reading (e.g. using  [`htol`](@ref) and [`ltoh`](@ref)) to get results that are consistent across platforms.\n",
       "\n",
       "You can write multiple values with the same `write` call. i.e. the following are equivalent:\n",
       "\n",
       "```\n",
       "write(io, x, y...)\n",
       "write(io, x) + write(io, y...)\n",
       "```\n",
       "\n",
       "# Examples\n",
       "\n",
       "Consistent serialization:\n",
       "\n",
       "```jldoctest\n",
       "julia> fname = tempname(); # random temporary filename\n",
       "\n",
       "julia> open(fname,\"w\") do f\n",
       "           # Make sure we write 64bit integer in little-endian byte order\n",
       "           write(f,htol(Int64(42)))\n",
       "       end\n",
       "8\n",
       "\n",
       "julia> open(fname,\"r\") do f\n",
       "           # Convert back to host byte order and host integer type\n",
       "           Int(ltoh(read(f,Int64)))\n",
       "       end\n",
       "42\n",
       "```\n",
       "\n",
       "Merging write calls:\n",
       "\n",
       "```jldoctest\n",
       "julia> io = IOBuffer();\n",
       "\n",
       "julia> write(io, \"JuliaLang is a GitHub organization.\", \" It has many members.\")\n",
       "56\n",
       "\n",
       "julia> String(take!(io))\n",
       "\"JuliaLang is a GitHub organization. It has many members.\"\n",
       "\n",
       "julia> write(io, \"Sometimes those members\") + write(io, \" write documentation.\")\n",
       "44\n",
       "\n",
       "julia> String(take!(io))\n",
       "\"Sometimes those members write documentation.\"\n",
       "```\n",
       "\n",
       "User-defined plain-data types without `write` methods can be written when wrapped in a `Ref`:\n",
       "\n",
       "```jldoctest\n",
       "julia> struct MyStruct; x::Float64; end\n",
       "\n",
       "julia> io = IOBuffer()\n",
       "IOBuffer(data=UInt8[...], readable=true, writable=true, seekable=true, append=false, size=0, maxsize=Inf, ptr=1, mark=-1)\n",
       "\n",
       "julia> write(io, Ref(MyStruct(42.0)))\n",
       "8\n",
       "\n",
       "julia> seekstart(io); read!(io, Ref(MyStruct(NaN)))\n",
       "Base.RefValue{MyStruct}(MyStruct(42.0))\n",
       "```\n",
       "\n",
       "---\n",
       "\n",
       "```\n",
       "write(filename::AbstractString, content)\n",
       "```\n",
       "\n",
       "Write the canonical binary representation of `content` to a file, which will be created if it does not exist yet or overwritten if it does exist.\n",
       "\n",
       "Return the number of bytes written into the file.\n"
      ],
      "text/plain": [
       "\u001b[36m  write(io::IO, x)\u001b[39m\n",
       "\n",
       "  Write the canonical binary representation of a value to the given I/O stream\n",
       "  or file. Return the number of bytes written into the stream. See also \u001b[36mprint\u001b[39m\n",
       "  to write a text representation (with an encoding that may depend upon \u001b[36mio\u001b[39m).\n",
       "\n",
       "  The endianness of the written value depends on the endianness of the host\n",
       "  system. Convert to/from a fixed endianness when writing/reading (e.g. using\n",
       "  \u001b[36mhtol\u001b[39m and \u001b[36mltoh\u001b[39m) to get results that are consistent across platforms.\n",
       "\n",
       "  You can write multiple values with the same \u001b[36mwrite\u001b[39m call. i.e. the following\n",
       "  are equivalent:\n",
       "\n",
       "\u001b[36m  write(io, x, y...)\u001b[39m\n",
       "\u001b[36m  write(io, x) + write(io, y...)\u001b[39m\n",
       "\n",
       "\u001b[1m  Examples\u001b[22m\n",
       "\u001b[1m  ≡≡≡≡≡≡≡≡\u001b[22m\n",
       "\n",
       "  Consistent serialization:\n",
       "\n",
       "\u001b[36m  julia> fname = tempname(); # random temporary filename\u001b[39m\n",
       "\u001b[36m  \u001b[39m\n",
       "\u001b[36m  julia> open(fname,\"w\") do f\u001b[39m\n",
       "\u001b[36m             # Make sure we write 64bit integer in little-endian byte order\u001b[39m\n",
       "\u001b[36m             write(f,htol(Int64(42)))\u001b[39m\n",
       "\u001b[36m         end\u001b[39m\n",
       "\u001b[36m  8\u001b[39m\n",
       "\u001b[36m  \u001b[39m\n",
       "\u001b[36m  julia> open(fname,\"r\") do f\u001b[39m\n",
       "\u001b[36m             # Convert back to host byte order and host integer type\u001b[39m\n",
       "\u001b[36m             Int(ltoh(read(f,Int64)))\u001b[39m\n",
       "\u001b[36m         end\u001b[39m\n",
       "\u001b[36m  42\u001b[39m\n",
       "\n",
       "  Merging write calls:\n",
       "\n",
       "\u001b[36m  julia> io = IOBuffer();\u001b[39m\n",
       "\u001b[36m  \u001b[39m\n",
       "\u001b[36m  julia> write(io, \"JuliaLang is a GitHub organization.\", \" It has many members.\")\u001b[39m\n",
       "\u001b[36m  56\u001b[39m\n",
       "\u001b[36m  \u001b[39m\n",
       "\u001b[36m  julia> String(take!(io))\u001b[39m\n",
       "\u001b[36m  \"JuliaLang is a GitHub organization. It has many members.\"\u001b[39m\n",
       "\u001b[36m  \u001b[39m\n",
       "\u001b[36m  julia> write(io, \"Sometimes those members\") + write(io, \" write documentation.\")\u001b[39m\n",
       "\u001b[36m  44\u001b[39m\n",
       "\u001b[36m  \u001b[39m\n",
       "\u001b[36m  julia> String(take!(io))\u001b[39m\n",
       "\u001b[36m  \"Sometimes those members write documentation.\"\u001b[39m\n",
       "\n",
       "  User-defined plain-data types without \u001b[36mwrite\u001b[39m methods can be written when\n",
       "  wrapped in a \u001b[36mRef\u001b[39m:\n",
       "\n",
       "\u001b[36m  julia> struct MyStruct; x::Float64; end\u001b[39m\n",
       "\u001b[36m  \u001b[39m\n",
       "\u001b[36m  julia> io = IOBuffer()\u001b[39m\n",
       "\u001b[36m  IOBuffer(data=UInt8[...], readable=true, writable=true, seekable=true, append=false, size=0, maxsize=Inf, ptr=1, mark=-1)\u001b[39m\n",
       "\u001b[36m  \u001b[39m\n",
       "\u001b[36m  julia> write(io, Ref(MyStruct(42.0)))\u001b[39m\n",
       "\u001b[36m  8\u001b[39m\n",
       "\u001b[36m  \u001b[39m\n",
       "\u001b[36m  julia> seekstart(io); read!(io, Ref(MyStruct(NaN)))\u001b[39m\n",
       "\u001b[36m  Base.RefValue{MyStruct}(MyStruct(42.0))\u001b[39m\n",
       "\n",
       "  ────────────────────────────────────────────────────────────────────────────\n",
       "\n",
       "\u001b[36m  write(filename::AbstractString, content)\u001b[39m\n",
       "\n",
       "  Write the canonical binary representation of \u001b[36mcontent\u001b[39m to a file, which will\n",
       "  be created if it does not exist yet or overwritten if it does exist.\n",
       "\n",
       "  Return the number of bytes written into the file."
      ]
     },
     "execution_count": 82,
     "metadata": {},
     "output_type": "execute_result"
    }
   ],
   "source": [
    "?write()"
   ]
  },
  {
   "cell_type": "markdown",
   "id": "d765e39c-0c0a-420c-b0e2-251e07bf796a",
   "metadata": {},
   "source": [
    "## Задание 2. \n",
    "### Изучите документацию по функции parse(). Приведите свои примеры её использования, поясняя особенности её применения"
   ]
  },
  {
   "cell_type": "code",
   "execution_count": 84,
   "id": "65c3e308-9414-4141-84c8-ddcab54b9235",
   "metadata": {},
   "outputs": [
    {
     "data": {
      "text/latex": [
       "\\begin{verbatim}\n",
       "parse(type, str; base)\n",
       "\\end{verbatim}\n",
       "Parse a string as a number. For \\texttt{Integer} types, a base can be specified (the default is 10). For floating-point types, the string is parsed as a decimal floating-point number.  \\texttt{Complex} types are parsed from decimal strings of the form \\texttt{\"R±Iim\"} as a \\texttt{Complex(R,I)} of the requested type; \\texttt{\"i\"} or \\texttt{\"j\"} can also be used instead of \\texttt{\"im\"}, and \\texttt{\"R\"} or \\texttt{\"Iim\"} are also permitted. If the string does not contain a valid number, an error is raised.\n",
       "\n",
       "\\begin{quote}\n",
       "\\textbf{compat}\n",
       "\n",
       "Julia 1.1\n",
       "\n",
       "\\texttt{parse(Bool, str)} requires at least Julia 1.1.\n",
       "\n",
       "\\end{quote}\n",
       "\\section{Examples}\n",
       "\\begin{verbatim}\n",
       "julia> parse(Int, \"1234\")\n",
       "1234\n",
       "\n",
       "julia> parse(Int, \"1234\", base = 5)\n",
       "194\n",
       "\n",
       "julia> parse(Int, \"afc\", base = 16)\n",
       "2812\n",
       "\n",
       "julia> parse(Float64, \"1.2e-3\")\n",
       "0.0012\n",
       "\n",
       "julia> parse(Complex{Float64}, \"3.2e-1 + 4.5im\")\n",
       "0.32 + 4.5im\n",
       "\\end{verbatim}\n",
       "\\rule{\\textwidth}{1pt}\n",
       "\\begin{verbatim}\n",
       "parse(::Type{Platform}, triplet::AbstractString)\n",
       "\\end{verbatim}\n",
       "Parses a string platform triplet back into a \\texttt{Platform} object.\n",
       "\n"
      ],
      "text/markdown": [
       "```\n",
       "parse(type, str; base)\n",
       "```\n",
       "\n",
       "Parse a string as a number. For `Integer` types, a base can be specified (the default is 10). For floating-point types, the string is parsed as a decimal floating-point number.  `Complex` types are parsed from decimal strings of the form `\"R±Iim\"` as a `Complex(R,I)` of the requested type; `\"i\"` or `\"j\"` can also be used instead of `\"im\"`, and `\"R\"` or `\"Iim\"` are also permitted. If the string does not contain a valid number, an error is raised.\n",
       "\n",
       "!!! compat \"Julia 1.1\"\n",
       "    `parse(Bool, str)` requires at least Julia 1.1.\n",
       "\n",
       "\n",
       "# Examples\n",
       "\n",
       "```jldoctest\n",
       "julia> parse(Int, \"1234\")\n",
       "1234\n",
       "\n",
       "julia> parse(Int, \"1234\", base = 5)\n",
       "194\n",
       "\n",
       "julia> parse(Int, \"afc\", base = 16)\n",
       "2812\n",
       "\n",
       "julia> parse(Float64, \"1.2e-3\")\n",
       "0.0012\n",
       "\n",
       "julia> parse(Complex{Float64}, \"3.2e-1 + 4.5im\")\n",
       "0.32 + 4.5im\n",
       "```\n",
       "\n",
       "---\n",
       "\n",
       "```\n",
       "parse(::Type{Platform}, triplet::AbstractString)\n",
       "```\n",
       "\n",
       "Parses a string platform triplet back into a `Platform` object.\n"
      ],
      "text/plain": [
       "\u001b[36m  parse(type, str; base)\u001b[39m\n",
       "\n",
       "  Parse a string as a number. For \u001b[36mInteger\u001b[39m types, a base can be specified (the\n",
       "  default is 10). For floating-point types, the string is parsed as a decimal\n",
       "  floating-point number. \u001b[36mComplex\u001b[39m types are parsed from decimal strings of the\n",
       "  form \u001b[36m\"R±Iim\"\u001b[39m as a \u001b[36mComplex(R,I)\u001b[39m of the requested type; \u001b[36m\"i\"\u001b[39m or \u001b[36m\"j\"\u001b[39m can also be\n",
       "  used instead of \u001b[36m\"im\"\u001b[39m, and \u001b[36m\"R\"\u001b[39m or \u001b[36m\"Iim\"\u001b[39m are also permitted. If the string\n",
       "  does not contain a valid number, an error is raised.\n",
       "\n",
       "\u001b[39m\u001b[1m  │ \u001b[22m\u001b[39m\u001b[1mJulia 1.1\u001b[22m\n",
       "\u001b[39m\u001b[1m  │\u001b[22m\n",
       "\u001b[39m\u001b[1m  │\u001b[22m  \u001b[36mparse(Bool, str)\u001b[39m requires at least Julia 1.1.\n",
       "\n",
       "\u001b[1m  Examples\u001b[22m\n",
       "\u001b[1m  ≡≡≡≡≡≡≡≡\u001b[22m\n",
       "\n",
       "\u001b[36m  julia> parse(Int, \"1234\")\u001b[39m\n",
       "\u001b[36m  1234\u001b[39m\n",
       "\u001b[36m  \u001b[39m\n",
       "\u001b[36m  julia> parse(Int, \"1234\", base = 5)\u001b[39m\n",
       "\u001b[36m  194\u001b[39m\n",
       "\u001b[36m  \u001b[39m\n",
       "\u001b[36m  julia> parse(Int, \"afc\", base = 16)\u001b[39m\n",
       "\u001b[36m  2812\u001b[39m\n",
       "\u001b[36m  \u001b[39m\n",
       "\u001b[36m  julia> parse(Float64, \"1.2e-3\")\u001b[39m\n",
       "\u001b[36m  0.0012\u001b[39m\n",
       "\u001b[36m  \u001b[39m\n",
       "\u001b[36m  julia> parse(Complex{Float64}, \"3.2e-1 + 4.5im\")\u001b[39m\n",
       "\u001b[36m  0.32 + 4.5im\u001b[39m\n",
       "\n",
       "  ────────────────────────────────────────────────────────────────────────────\n",
       "\n",
       "\u001b[36m  parse(::Type{Platform}, triplet::AbstractString)\u001b[39m\n",
       "\n",
       "  Parses a string platform triplet back into a \u001b[36mPlatform\u001b[39m object."
      ]
     },
     "execution_count": 84,
     "metadata": {},
     "output_type": "execute_result"
    }
   ],
   "source": [
    "?parse()"
   ]
  },
  {
   "cell_type": "code",
   "execution_count": 93,
   "id": "a15dd63c-3f57-406d-ba0e-5b75931be769",
   "metadata": {},
   "outputs": [
    {
     "data": {
      "text/plain": [
       "10"
      ]
     },
     "execution_count": 93,
     "metadata": {},
     "output_type": "execute_result"
    }
   ],
   "source": [
    "parse(Int64, \"10\")"
   ]
  },
  {
   "cell_type": "code",
   "execution_count": 94,
   "id": "0e96665d-39c6-4e62-b4e2-9c14ebe14a88",
   "metadata": {},
   "outputs": [
    {
     "ename": "LoadError",
     "evalue": "UndefVarError: `int64` not defined",
     "output_type": "error",
     "traceback": [
      "UndefVarError: `int64` not defined",
      "",
      "Stacktrace:",
      " [1] top-level scope",
      "   @ In[94]:1"
     ]
    }
   ],
   "source": [
    "convert(int64, \"10\")"
   ]
  },
  {
   "cell_type": "markdown",
   "id": "59cfcdc7-f2fa-4b35-a7d4-843ccec200d6",
   "metadata": {},
   "source": [
    "## Задание 3.\n",
    "### Изучите синтаксис Julia для базовых математических операций с разным типом переменных: сложение, вычитание, умножение, деление, возведение в степень, извлечение корня, сравнение, логические операции. Приведите свои примеры с пояснениями по особенностям их применения"
   ]
  },
  {
   "cell_type": "code",
   "execution_count": 97,
   "id": "6c77b01c-f8f3-4ccd-a8d0-29bdb77ac963",
   "metadata": {},
   "outputs": [
    {
     "data": {
      "text/plain": [
       "3.0"
      ]
     },
     "execution_count": 97,
     "metadata": {},
     "output_type": "execute_result"
    }
   ],
   "source": [
    "plus = 1.0 + 2"
   ]
  },
  {
   "cell_type": "code",
   "execution_count": 98,
   "id": "f266dd5e-f58c-45ca-9b32-912462397a55",
   "metadata": {},
   "outputs": [
    {
     "data": {
      "text/plain": [
       "-1.0"
      ]
     },
     "execution_count": 98,
     "metadata": {},
     "output_type": "execute_result"
    }
   ],
   "source": [
    "minus = 1 - 2.0"
   ]
  },
  {
   "cell_type": "code",
   "execution_count": 99,
   "id": "560ac49e-d666-40ff-9b9e-07800c64883f",
   "metadata": {},
   "outputs": [
    {
     "data": {
      "text/plain": [
       "2.0"
      ]
     },
     "execution_count": 99,
     "metadata": {},
     "output_type": "execute_result"
    }
   ],
   "source": [
    "proizvedenie = 1 * 2.0"
   ]
  },
  {
   "cell_type": "code",
   "execution_count": 100,
   "id": "bf20763f-5fd6-4fb1-a439-949e02b52fa2",
   "metadata": {},
   "outputs": [
    {
     "data": {
      "text/plain": [
       "0.5"
      ]
     },
     "execution_count": 100,
     "metadata": {},
     "output_type": "execute_result"
    }
   ],
   "source": [
    "delenie = 1 / 2.0"
   ]
  },
  {
   "cell_type": "code",
   "execution_count": 102,
   "id": "5109edf0-7c9c-4aba-b923-c87cb372b667",
   "metadata": {},
   "outputs": [
    {
     "data": {
      "text/plain": [
       "1"
      ]
     },
     "execution_count": 102,
     "metadata": {},
     "output_type": "execute_result"
    }
   ],
   "source": [
    "delenie_po_modulu = 10 % 3"
   ]
  },
  {
   "cell_type": "code",
   "execution_count": 103,
   "id": "b8e4dc75-efd2-49ad-b064-ce31d4c3aceb",
   "metadata": {},
   "outputs": [
    {
     "data": {
      "text/plain": [
       "3"
      ]
     },
     "execution_count": 103,
     "metadata": {},
     "output_type": "execute_result"
    }
   ],
   "source": [
    "delenie_nacelo = 10 ÷ 3"
   ]
  },
  {
   "cell_type": "code",
   "execution_count": 110,
   "id": "e6f94185-ad72-4e33-b4a2-3122c7439c8d",
   "metadata": {},
   "outputs": [
    {
     "data": {
      "text/plain": [
       "3"
      ]
     },
     "execution_count": 110,
     "metadata": {},
     "output_type": "execute_result"
    }
   ],
   "source": [
    "div(10, 3) # delenie nacelo"
   ]
  },
  {
   "cell_type": "code",
   "execution_count": 105,
   "id": "a66f72a1-20e0-4452-af14-ed4eae5b6551",
   "metadata": {},
   "outputs": [
    {
     "data": {
      "text/plain": [
       "3.0"
      ]
     },
     "execution_count": 105,
     "metadata": {},
     "output_type": "execute_result"
    }
   ],
   "source": [
    "sqrtt = √9"
   ]
  },
  {
   "cell_type": "code",
   "execution_count": 107,
   "id": "579e4cdc-e0ab-4997-9034-18e5124765f7",
   "metadata": {},
   "outputs": [
    {
     "data": {
      "text/plain": [
       "3.0"
      ]
     },
     "execution_count": 107,
     "metadata": {},
     "output_type": "execute_result"
    }
   ],
   "source": [
    "sqrt(9) # извлечение корня"
   ]
  },
  {
   "cell_type": "code",
   "execution_count": 108,
   "id": "76bd14a3-179c-4170-a868-63d3f1b70f9a",
   "metadata": {},
   "outputs": [
    {
     "data": {
      "text/plain": [
       "9"
      ]
     },
     "execution_count": 108,
     "metadata": {},
     "output_type": "execute_result"
    }
   ],
   "source": [
    "pow = 3^2 "
   ]
  },
  {
   "cell_type": "code",
   "execution_count": 109,
   "id": "9e58b624-9294-4e71-9ef9-1f4506e64b95",
   "metadata": {},
   "outputs": [
    {
     "data": {
      "text/plain": [
       "5//1"
      ]
     },
     "execution_count": 109,
     "metadata": {},
     "output_type": "execute_result"
    }
   ],
   "source": [
    "drobi = 10 // 2"
   ]
  },
  {
   "cell_type": "code",
   "execution_count": 120,
   "id": "23f6ae43-5f0d-46f9-9399-fc7d88c7333e",
   "metadata": {},
   "outputs": [
    {
     "data": {
      "text/plain": [
       "2×2 Matrix{Int64}:\n",
       " 0  0\n",
       " 0  0"
      ]
     },
     "execution_count": 120,
     "metadata": {},
     "output_type": "execute_result"
    }
   ],
   "source": [
    "A = [ 0 0; 0 0]"
   ]
  },
  {
   "cell_type": "code",
   "execution_count": 121,
   "id": "7926de2f-f545-4f82-b2df-48923b1b6ce3",
   "metadata": {},
   "outputs": [
    {
     "data": {
      "text/plain": [
       "2×2 Matrix{Int64}:\n",
       " 1  1\n",
       " 1  1"
      ]
     },
     "execution_count": 121,
     "metadata": {},
     "output_type": "execute_result"
    }
   ],
   "source": [
    "B = [1 1; 1 1]"
   ]
  },
  {
   "cell_type": "code",
   "execution_count": 126,
   "id": "3c63a1d9-4d92-4f14-995c-f3fa2006fb0e",
   "metadata": {},
   "outputs": [
    {
     "data": {
      "text/plain": [
       "2×2 Matrix{Int64}:\n",
       " 1  1\n",
       " 1  1"
      ]
     },
     "execution_count": 126,
     "metadata": {},
     "output_type": "execute_result"
    }
   ],
   "source": [
    "C = A+B"
   ]
  },
  {
   "cell_type": "code",
   "execution_count": 128,
   "id": "e534d22a-6a16-46fe-9482-e5bad346600d",
   "metadata": {},
   "outputs": [
    {
     "data": {
      "text/plain": [
       "2×2 Matrix{Int64}:\n",
       " -1  -1\n",
       " -1  -1"
      ]
     },
     "execution_count": 128,
     "metadata": {},
     "output_type": "execute_result"
    }
   ],
   "source": [
    "D = A - B "
   ]
  },
  {
   "cell_type": "code",
   "execution_count": 133,
   "id": "d40fb93b-c671-442b-825e-d283fdb35f9a",
   "metadata": {},
   "outputs": [
    {
     "data": {
      "text/plain": [
       "2×2 Matrix{Int64}:\n",
       " 0  0\n",
       " 0  0"
      ]
     },
     "execution_count": 133,
     "metadata": {},
     "output_type": "execute_result"
    }
   ],
   "source": [
    "E = A * B # умножение матриц"
   ]
  },
  {
   "cell_type": "code",
   "execution_count": 138,
   "id": "cc9cdbf8-7228-4b8f-a44f-f7f39f7e4931",
   "metadata": {},
   "outputs": [
    {
     "data": {
      "text/plain": [
       "2×3 Matrix{Int64}:\n",
       " 20  20  20\n",
       " 20  20  20"
      ]
     },
     "execution_count": 138,
     "metadata": {},
     "output_type": "execute_result"
    }
   ],
   "source": [
    "B1 = [10 10 10; 10 10 10]\n",
    "E1 = B * B1"
   ]
  },
  {
   "cell_type": "code",
   "execution_count": 141,
   "id": "ddad2637-7a8e-435c-9b38-7d43a16133ab",
   "metadata": {},
   "outputs": [
    {
     "data": {
      "text/plain": [
       "2×3 Matrix{Int64}:\n",
       " 10  10  10\n",
       " 10  10  10"
      ]
     },
     "execution_count": 141,
     "metadata": {},
     "output_type": "execute_result"
    }
   ],
   "source": [
    "B1"
   ]
  },
  {
   "cell_type": "code",
   "execution_count": 140,
   "id": "8649d2e1-5f2c-40b0-b9c1-a5748d8a74b4",
   "metadata": {},
   "outputs": [
    {
     "data": {
      "text/plain": [
       "3×2 adjoint(::Matrix{Int64}) with eltype Int64:\n",
       " 10  10\n",
       " 10  10\n",
       " 10  10"
      ]
     },
     "execution_count": 140,
     "metadata": {},
     "output_type": "execute_result"
    }
   ],
   "source": [
    "BB = B1'"
   ]
  },
  {
   "cell_type": "code",
   "execution_count": 131,
   "id": "d0b2d367-1fa7-41c6-8633-cd97b5b13998",
   "metadata": {},
   "outputs": [
    {
     "data": {
      "text/plain": [
       "2×2 Matrix{Int64}:\n",
       " 10  10\n",
       " 10  10"
      ]
     },
     "execution_count": 131,
     "metadata": {},
     "output_type": "execute_result"
    }
   ],
   "source": [
    "G = B*10 # умножение на скаляр"
   ]
  },
  {
   "cell_type": "code",
   "execution_count": null,
   "id": "e0d33f1f-17a9-4326-85f4-ab333bf4a2e4",
   "metadata": {},
   "outputs": [],
   "source": []
  },
  {
   "cell_type": "code",
   "execution_count": null,
   "id": "39f38c79-c1dd-498c-8e0b-3adca60d8812",
   "metadata": {},
   "outputs": [],
   "source": []
  }
 ],
 "metadata": {
  "kernelspec": {
   "display_name": "Julia 1.10.5",
   "language": "julia",
   "name": "julia-1.10"
  },
  "language_info": {
   "file_extension": ".jl",
   "mimetype": "application/julia",
   "name": "julia",
   "version": "1.10.5"
  }
 },
 "nbformat": 4,
 "nbformat_minor": 5
}
